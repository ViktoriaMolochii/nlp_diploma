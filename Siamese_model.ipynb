{
  "nbformat": 4,
  "nbformat_minor": 0,
  "metadata": {
    "colab": {
      "provenance": [],
      "collapsed_sections": [
        "1I6iyDEsjiP_",
        "oeAmGVx5jnxM",
        "f1ua7xPt0X6x",
        "M2ydLGDqbjt2",
        "ak7JsLjD3fJX",
        "uOdxgM303kK-",
        "AAQEHvmjo489"
      ],
      "gpuType": "T4"
    },
    "kernelspec": {
      "name": "python3",
      "display_name": "Python 3"
    },
    "language_info": {
      "name": "python"
    },
    "widgets": {
      "application/vnd.jupyter.widget-state+json": {
        "d08ee91950dd4cff941eb1b17b9a4a7a": {
          "model_module": "@jupyter-widgets/controls",
          "model_name": "HBoxModel",
          "model_module_version": "1.5.0",
          "state": {
            "_dom_classes": [],
            "_model_module": "@jupyter-widgets/controls",
            "_model_module_version": "1.5.0",
            "_model_name": "HBoxModel",
            "_view_count": null,
            "_view_module": "@jupyter-widgets/controls",
            "_view_module_version": "1.5.0",
            "_view_name": "HBoxView",
            "box_style": "",
            "children": [
              "IPY_MODEL_ff6e0b0510954d23a9dd42b415a416f3",
              "IPY_MODEL_0b300c872b054bcaa58f85e0760169d3",
              "IPY_MODEL_4144d432555d4a7ea0a249ab694e31df"
            ],
            "layout": "IPY_MODEL_0ccaeaa15302456f8ab41525b2000638"
          }
        },
        "ff6e0b0510954d23a9dd42b415a416f3": {
          "model_module": "@jupyter-widgets/controls",
          "model_name": "HTMLModel",
          "model_module_version": "1.5.0",
          "state": {
            "_dom_classes": [],
            "_model_module": "@jupyter-widgets/controls",
            "_model_module_version": "1.5.0",
            "_model_name": "HTMLModel",
            "_view_count": null,
            "_view_module": "@jupyter-widgets/controls",
            "_view_module_version": "1.5.0",
            "_view_name": "HTMLView",
            "description": "",
            "description_tooltip": null,
            "layout": "IPY_MODEL_d790839ae75e4939a7caeba48d5e0adb",
            "placeholder": "​",
            "style": "IPY_MODEL_0c3d0ae6308c45b79fd9f994392f5193",
            "value": "tokenizer_config.json: 100%"
          }
        },
        "0b300c872b054bcaa58f85e0760169d3": {
          "model_module": "@jupyter-widgets/controls",
          "model_name": "FloatProgressModel",
          "model_module_version": "1.5.0",
          "state": {
            "_dom_classes": [],
            "_model_module": "@jupyter-widgets/controls",
            "_model_module_version": "1.5.0",
            "_model_name": "FloatProgressModel",
            "_view_count": null,
            "_view_module": "@jupyter-widgets/controls",
            "_view_module_version": "1.5.0",
            "_view_name": "ProgressView",
            "bar_style": "success",
            "description": "",
            "description_tooltip": null,
            "layout": "IPY_MODEL_37c6f765f6d2479eab8fad64cb8150eb",
            "max": 49,
            "min": 0,
            "orientation": "horizontal",
            "style": "IPY_MODEL_0029252301d149e0861011fcc1f9b2d5",
            "value": 49
          }
        },
        "4144d432555d4a7ea0a249ab694e31df": {
          "model_module": "@jupyter-widgets/controls",
          "model_name": "HTMLModel",
          "model_module_version": "1.5.0",
          "state": {
            "_dom_classes": [],
            "_model_module": "@jupyter-widgets/controls",
            "_model_module_version": "1.5.0",
            "_model_name": "HTMLModel",
            "_view_count": null,
            "_view_module": "@jupyter-widgets/controls",
            "_view_module_version": "1.5.0",
            "_view_name": "HTMLView",
            "description": "",
            "description_tooltip": null,
            "layout": "IPY_MODEL_3ff599be940d4ce99e79101c68f34b95",
            "placeholder": "​",
            "style": "IPY_MODEL_acaa58f8aadb451ca1e0dbfc4dd038cd",
            "value": " 49.0/49.0 [00:00&lt;00:00, 2.68kB/s]"
          }
        },
        "0ccaeaa15302456f8ab41525b2000638": {
          "model_module": "@jupyter-widgets/base",
          "model_name": "LayoutModel",
          "model_module_version": "1.2.0",
          "state": {
            "_model_module": "@jupyter-widgets/base",
            "_model_module_version": "1.2.0",
            "_model_name": "LayoutModel",
            "_view_count": null,
            "_view_module": "@jupyter-widgets/base",
            "_view_module_version": "1.2.0",
            "_view_name": "LayoutView",
            "align_content": null,
            "align_items": null,
            "align_self": null,
            "border": null,
            "bottom": null,
            "display": null,
            "flex": null,
            "flex_flow": null,
            "grid_area": null,
            "grid_auto_columns": null,
            "grid_auto_flow": null,
            "grid_auto_rows": null,
            "grid_column": null,
            "grid_gap": null,
            "grid_row": null,
            "grid_template_areas": null,
            "grid_template_columns": null,
            "grid_template_rows": null,
            "height": null,
            "justify_content": null,
            "justify_items": null,
            "left": null,
            "margin": null,
            "max_height": null,
            "max_width": null,
            "min_height": null,
            "min_width": null,
            "object_fit": null,
            "object_position": null,
            "order": null,
            "overflow": null,
            "overflow_x": null,
            "overflow_y": null,
            "padding": null,
            "right": null,
            "top": null,
            "visibility": null,
            "width": null
          }
        },
        "d790839ae75e4939a7caeba48d5e0adb": {
          "model_module": "@jupyter-widgets/base",
          "model_name": "LayoutModel",
          "model_module_version": "1.2.0",
          "state": {
            "_model_module": "@jupyter-widgets/base",
            "_model_module_version": "1.2.0",
            "_model_name": "LayoutModel",
            "_view_count": null,
            "_view_module": "@jupyter-widgets/base",
            "_view_module_version": "1.2.0",
            "_view_name": "LayoutView",
            "align_content": null,
            "align_items": null,
            "align_self": null,
            "border": null,
            "bottom": null,
            "display": null,
            "flex": null,
            "flex_flow": null,
            "grid_area": null,
            "grid_auto_columns": null,
            "grid_auto_flow": null,
            "grid_auto_rows": null,
            "grid_column": null,
            "grid_gap": null,
            "grid_row": null,
            "grid_template_areas": null,
            "grid_template_columns": null,
            "grid_template_rows": null,
            "height": null,
            "justify_content": null,
            "justify_items": null,
            "left": null,
            "margin": null,
            "max_height": null,
            "max_width": null,
            "min_height": null,
            "min_width": null,
            "object_fit": null,
            "object_position": null,
            "order": null,
            "overflow": null,
            "overflow_x": null,
            "overflow_y": null,
            "padding": null,
            "right": null,
            "top": null,
            "visibility": null,
            "width": null
          }
        },
        "0c3d0ae6308c45b79fd9f994392f5193": {
          "model_module": "@jupyter-widgets/controls",
          "model_name": "DescriptionStyleModel",
          "model_module_version": "1.5.0",
          "state": {
            "_model_module": "@jupyter-widgets/controls",
            "_model_module_version": "1.5.0",
            "_model_name": "DescriptionStyleModel",
            "_view_count": null,
            "_view_module": "@jupyter-widgets/base",
            "_view_module_version": "1.2.0",
            "_view_name": "StyleView",
            "description_width": ""
          }
        },
        "37c6f765f6d2479eab8fad64cb8150eb": {
          "model_module": "@jupyter-widgets/base",
          "model_name": "LayoutModel",
          "model_module_version": "1.2.0",
          "state": {
            "_model_module": "@jupyter-widgets/base",
            "_model_module_version": "1.2.0",
            "_model_name": "LayoutModel",
            "_view_count": null,
            "_view_module": "@jupyter-widgets/base",
            "_view_module_version": "1.2.0",
            "_view_name": "LayoutView",
            "align_content": null,
            "align_items": null,
            "align_self": null,
            "border": null,
            "bottom": null,
            "display": null,
            "flex": null,
            "flex_flow": null,
            "grid_area": null,
            "grid_auto_columns": null,
            "grid_auto_flow": null,
            "grid_auto_rows": null,
            "grid_column": null,
            "grid_gap": null,
            "grid_row": null,
            "grid_template_areas": null,
            "grid_template_columns": null,
            "grid_template_rows": null,
            "height": null,
            "justify_content": null,
            "justify_items": null,
            "left": null,
            "margin": null,
            "max_height": null,
            "max_width": null,
            "min_height": null,
            "min_width": null,
            "object_fit": null,
            "object_position": null,
            "order": null,
            "overflow": null,
            "overflow_x": null,
            "overflow_y": null,
            "padding": null,
            "right": null,
            "top": null,
            "visibility": null,
            "width": null
          }
        },
        "0029252301d149e0861011fcc1f9b2d5": {
          "model_module": "@jupyter-widgets/controls",
          "model_name": "ProgressStyleModel",
          "model_module_version": "1.5.0",
          "state": {
            "_model_module": "@jupyter-widgets/controls",
            "_model_module_version": "1.5.0",
            "_model_name": "ProgressStyleModel",
            "_view_count": null,
            "_view_module": "@jupyter-widgets/base",
            "_view_module_version": "1.2.0",
            "_view_name": "StyleView",
            "bar_color": null,
            "description_width": ""
          }
        },
        "3ff599be940d4ce99e79101c68f34b95": {
          "model_module": "@jupyter-widgets/base",
          "model_name": "LayoutModel",
          "model_module_version": "1.2.0",
          "state": {
            "_model_module": "@jupyter-widgets/base",
            "_model_module_version": "1.2.0",
            "_model_name": "LayoutModel",
            "_view_count": null,
            "_view_module": "@jupyter-widgets/base",
            "_view_module_version": "1.2.0",
            "_view_name": "LayoutView",
            "align_content": null,
            "align_items": null,
            "align_self": null,
            "border": null,
            "bottom": null,
            "display": null,
            "flex": null,
            "flex_flow": null,
            "grid_area": null,
            "grid_auto_columns": null,
            "grid_auto_flow": null,
            "grid_auto_rows": null,
            "grid_column": null,
            "grid_gap": null,
            "grid_row": null,
            "grid_template_areas": null,
            "grid_template_columns": null,
            "grid_template_rows": null,
            "height": null,
            "justify_content": null,
            "justify_items": null,
            "left": null,
            "margin": null,
            "max_height": null,
            "max_width": null,
            "min_height": null,
            "min_width": null,
            "object_fit": null,
            "object_position": null,
            "order": null,
            "overflow": null,
            "overflow_x": null,
            "overflow_y": null,
            "padding": null,
            "right": null,
            "top": null,
            "visibility": null,
            "width": null
          }
        },
        "acaa58f8aadb451ca1e0dbfc4dd038cd": {
          "model_module": "@jupyter-widgets/controls",
          "model_name": "DescriptionStyleModel",
          "model_module_version": "1.5.0",
          "state": {
            "_model_module": "@jupyter-widgets/controls",
            "_model_module_version": "1.5.0",
            "_model_name": "DescriptionStyleModel",
            "_view_count": null,
            "_view_module": "@jupyter-widgets/base",
            "_view_module_version": "1.2.0",
            "_view_name": "StyleView",
            "description_width": ""
          }
        },
        "d89c91667c3d4c4ab5a52d50b07d4cdb": {
          "model_module": "@jupyter-widgets/controls",
          "model_name": "HBoxModel",
          "model_module_version": "1.5.0",
          "state": {
            "_dom_classes": [],
            "_model_module": "@jupyter-widgets/controls",
            "_model_module_version": "1.5.0",
            "_model_name": "HBoxModel",
            "_view_count": null,
            "_view_module": "@jupyter-widgets/controls",
            "_view_module_version": "1.5.0",
            "_view_name": "HBoxView",
            "box_style": "",
            "children": [
              "IPY_MODEL_e59df0a4274c4296b7a47a43295625ac",
              "IPY_MODEL_fb0fd85d58ad41c1b418b58fd6307c84",
              "IPY_MODEL_e360f9769c4a427f80eef99ed1f1837f"
            ],
            "layout": "IPY_MODEL_0bcf07a12c664e28af7902961952e407"
          }
        },
        "e59df0a4274c4296b7a47a43295625ac": {
          "model_module": "@jupyter-widgets/controls",
          "model_name": "HTMLModel",
          "model_module_version": "1.5.0",
          "state": {
            "_dom_classes": [],
            "_model_module": "@jupyter-widgets/controls",
            "_model_module_version": "1.5.0",
            "_model_name": "HTMLModel",
            "_view_count": null,
            "_view_module": "@jupyter-widgets/controls",
            "_view_module_version": "1.5.0",
            "_view_name": "HTMLView",
            "description": "",
            "description_tooltip": null,
            "layout": "IPY_MODEL_d63330b38edd4b0dbb0fd761a20438c8",
            "placeholder": "​",
            "style": "IPY_MODEL_da8a54b0e25b439393ebe871e46161c3",
            "value": "vocab.txt: 100%"
          }
        },
        "fb0fd85d58ad41c1b418b58fd6307c84": {
          "model_module": "@jupyter-widgets/controls",
          "model_name": "FloatProgressModel",
          "model_module_version": "1.5.0",
          "state": {
            "_dom_classes": [],
            "_model_module": "@jupyter-widgets/controls",
            "_model_module_version": "1.5.0",
            "_model_name": "FloatProgressModel",
            "_view_count": null,
            "_view_module": "@jupyter-widgets/controls",
            "_view_module_version": "1.5.0",
            "_view_name": "ProgressView",
            "bar_style": "success",
            "description": "",
            "description_tooltip": null,
            "layout": "IPY_MODEL_972418e615664442a38bad82730eb7dc",
            "max": 995526,
            "min": 0,
            "orientation": "horizontal",
            "style": "IPY_MODEL_084973b22fad4b6bbeec41d964984215",
            "value": 995526
          }
        },
        "e360f9769c4a427f80eef99ed1f1837f": {
          "model_module": "@jupyter-widgets/controls",
          "model_name": "HTMLModel",
          "model_module_version": "1.5.0",
          "state": {
            "_dom_classes": [],
            "_model_module": "@jupyter-widgets/controls",
            "_model_module_version": "1.5.0",
            "_model_name": "HTMLModel",
            "_view_count": null,
            "_view_module": "@jupyter-widgets/controls",
            "_view_module_version": "1.5.0",
            "_view_name": "HTMLView",
            "description": "",
            "description_tooltip": null,
            "layout": "IPY_MODEL_b6666ebe686d49c8b91dc6c50db39fe9",
            "placeholder": "​",
            "style": "IPY_MODEL_73b789422dfb4f16964b230268732a34",
            "value": " 996k/996k [00:00&lt;00:00, 3.82MB/s]"
          }
        },
        "0bcf07a12c664e28af7902961952e407": {
          "model_module": "@jupyter-widgets/base",
          "model_name": "LayoutModel",
          "model_module_version": "1.2.0",
          "state": {
            "_model_module": "@jupyter-widgets/base",
            "_model_module_version": "1.2.0",
            "_model_name": "LayoutModel",
            "_view_count": null,
            "_view_module": "@jupyter-widgets/base",
            "_view_module_version": "1.2.0",
            "_view_name": "LayoutView",
            "align_content": null,
            "align_items": null,
            "align_self": null,
            "border": null,
            "bottom": null,
            "display": null,
            "flex": null,
            "flex_flow": null,
            "grid_area": null,
            "grid_auto_columns": null,
            "grid_auto_flow": null,
            "grid_auto_rows": null,
            "grid_column": null,
            "grid_gap": null,
            "grid_row": null,
            "grid_template_areas": null,
            "grid_template_columns": null,
            "grid_template_rows": null,
            "height": null,
            "justify_content": null,
            "justify_items": null,
            "left": null,
            "margin": null,
            "max_height": null,
            "max_width": null,
            "min_height": null,
            "min_width": null,
            "object_fit": null,
            "object_position": null,
            "order": null,
            "overflow": null,
            "overflow_x": null,
            "overflow_y": null,
            "padding": null,
            "right": null,
            "top": null,
            "visibility": null,
            "width": null
          }
        },
        "d63330b38edd4b0dbb0fd761a20438c8": {
          "model_module": "@jupyter-widgets/base",
          "model_name": "LayoutModel",
          "model_module_version": "1.2.0",
          "state": {
            "_model_module": "@jupyter-widgets/base",
            "_model_module_version": "1.2.0",
            "_model_name": "LayoutModel",
            "_view_count": null,
            "_view_module": "@jupyter-widgets/base",
            "_view_module_version": "1.2.0",
            "_view_name": "LayoutView",
            "align_content": null,
            "align_items": null,
            "align_self": null,
            "border": null,
            "bottom": null,
            "display": null,
            "flex": null,
            "flex_flow": null,
            "grid_area": null,
            "grid_auto_columns": null,
            "grid_auto_flow": null,
            "grid_auto_rows": null,
            "grid_column": null,
            "grid_gap": null,
            "grid_row": null,
            "grid_template_areas": null,
            "grid_template_columns": null,
            "grid_template_rows": null,
            "height": null,
            "justify_content": null,
            "justify_items": null,
            "left": null,
            "margin": null,
            "max_height": null,
            "max_width": null,
            "min_height": null,
            "min_width": null,
            "object_fit": null,
            "object_position": null,
            "order": null,
            "overflow": null,
            "overflow_x": null,
            "overflow_y": null,
            "padding": null,
            "right": null,
            "top": null,
            "visibility": null,
            "width": null
          }
        },
        "da8a54b0e25b439393ebe871e46161c3": {
          "model_module": "@jupyter-widgets/controls",
          "model_name": "DescriptionStyleModel",
          "model_module_version": "1.5.0",
          "state": {
            "_model_module": "@jupyter-widgets/controls",
            "_model_module_version": "1.5.0",
            "_model_name": "DescriptionStyleModel",
            "_view_count": null,
            "_view_module": "@jupyter-widgets/base",
            "_view_module_version": "1.2.0",
            "_view_name": "StyleView",
            "description_width": ""
          }
        },
        "972418e615664442a38bad82730eb7dc": {
          "model_module": "@jupyter-widgets/base",
          "model_name": "LayoutModel",
          "model_module_version": "1.2.0",
          "state": {
            "_model_module": "@jupyter-widgets/base",
            "_model_module_version": "1.2.0",
            "_model_name": "LayoutModel",
            "_view_count": null,
            "_view_module": "@jupyter-widgets/base",
            "_view_module_version": "1.2.0",
            "_view_name": "LayoutView",
            "align_content": null,
            "align_items": null,
            "align_self": null,
            "border": null,
            "bottom": null,
            "display": null,
            "flex": null,
            "flex_flow": null,
            "grid_area": null,
            "grid_auto_columns": null,
            "grid_auto_flow": null,
            "grid_auto_rows": null,
            "grid_column": null,
            "grid_gap": null,
            "grid_row": null,
            "grid_template_areas": null,
            "grid_template_columns": null,
            "grid_template_rows": null,
            "height": null,
            "justify_content": null,
            "justify_items": null,
            "left": null,
            "margin": null,
            "max_height": null,
            "max_width": null,
            "min_height": null,
            "min_width": null,
            "object_fit": null,
            "object_position": null,
            "order": null,
            "overflow": null,
            "overflow_x": null,
            "overflow_y": null,
            "padding": null,
            "right": null,
            "top": null,
            "visibility": null,
            "width": null
          }
        },
        "084973b22fad4b6bbeec41d964984215": {
          "model_module": "@jupyter-widgets/controls",
          "model_name": "ProgressStyleModel",
          "model_module_version": "1.5.0",
          "state": {
            "_model_module": "@jupyter-widgets/controls",
            "_model_module_version": "1.5.0",
            "_model_name": "ProgressStyleModel",
            "_view_count": null,
            "_view_module": "@jupyter-widgets/base",
            "_view_module_version": "1.2.0",
            "_view_name": "StyleView",
            "bar_color": null,
            "description_width": ""
          }
        },
        "b6666ebe686d49c8b91dc6c50db39fe9": {
          "model_module": "@jupyter-widgets/base",
          "model_name": "LayoutModel",
          "model_module_version": "1.2.0",
          "state": {
            "_model_module": "@jupyter-widgets/base",
            "_model_module_version": "1.2.0",
            "_model_name": "LayoutModel",
            "_view_count": null,
            "_view_module": "@jupyter-widgets/base",
            "_view_module_version": "1.2.0",
            "_view_name": "LayoutView",
            "align_content": null,
            "align_items": null,
            "align_self": null,
            "border": null,
            "bottom": null,
            "display": null,
            "flex": null,
            "flex_flow": null,
            "grid_area": null,
            "grid_auto_columns": null,
            "grid_auto_flow": null,
            "grid_auto_rows": null,
            "grid_column": null,
            "grid_gap": null,
            "grid_row": null,
            "grid_template_areas": null,
            "grid_template_columns": null,
            "grid_template_rows": null,
            "height": null,
            "justify_content": null,
            "justify_items": null,
            "left": null,
            "margin": null,
            "max_height": null,
            "max_width": null,
            "min_height": null,
            "min_width": null,
            "object_fit": null,
            "object_position": null,
            "order": null,
            "overflow": null,
            "overflow_x": null,
            "overflow_y": null,
            "padding": null,
            "right": null,
            "top": null,
            "visibility": null,
            "width": null
          }
        },
        "73b789422dfb4f16964b230268732a34": {
          "model_module": "@jupyter-widgets/controls",
          "model_name": "DescriptionStyleModel",
          "model_module_version": "1.5.0",
          "state": {
            "_model_module": "@jupyter-widgets/controls",
            "_model_module_version": "1.5.0",
            "_model_name": "DescriptionStyleModel",
            "_view_count": null,
            "_view_module": "@jupyter-widgets/base",
            "_view_module_version": "1.2.0",
            "_view_name": "StyleView",
            "description_width": ""
          }
        },
        "ade31bb60e1140969ca28a856089daac": {
          "model_module": "@jupyter-widgets/controls",
          "model_name": "HBoxModel",
          "model_module_version": "1.5.0",
          "state": {
            "_dom_classes": [],
            "_model_module": "@jupyter-widgets/controls",
            "_model_module_version": "1.5.0",
            "_model_name": "HBoxModel",
            "_view_count": null,
            "_view_module": "@jupyter-widgets/controls",
            "_view_module_version": "1.5.0",
            "_view_name": "HBoxView",
            "box_style": "",
            "children": [
              "IPY_MODEL_5b251d5e98cb450f922244c7b66a2302",
              "IPY_MODEL_3a47b6dd6eec4e7ba898df30c1dc385e",
              "IPY_MODEL_bdc9bb445dfa4f48a67db02e090ec0d6"
            ],
            "layout": "IPY_MODEL_51234214f16b45f6a3a8efcf1736cf15"
          }
        },
        "5b251d5e98cb450f922244c7b66a2302": {
          "model_module": "@jupyter-widgets/controls",
          "model_name": "HTMLModel",
          "model_module_version": "1.5.0",
          "state": {
            "_dom_classes": [],
            "_model_module": "@jupyter-widgets/controls",
            "_model_module_version": "1.5.0",
            "_model_name": "HTMLModel",
            "_view_count": null,
            "_view_module": "@jupyter-widgets/controls",
            "_view_module_version": "1.5.0",
            "_view_name": "HTMLView",
            "description": "",
            "description_tooltip": null,
            "layout": "IPY_MODEL_3e5a9690f5a14fa98b0a0590338b72e6",
            "placeholder": "​",
            "style": "IPY_MODEL_a721b7f2de8a422781cfaa0abf087ff3",
            "value": "tokenizer.json: 100%"
          }
        },
        "3a47b6dd6eec4e7ba898df30c1dc385e": {
          "model_module": "@jupyter-widgets/controls",
          "model_name": "FloatProgressModel",
          "model_module_version": "1.5.0",
          "state": {
            "_dom_classes": [],
            "_model_module": "@jupyter-widgets/controls",
            "_model_module_version": "1.5.0",
            "_model_name": "FloatProgressModel",
            "_view_count": null,
            "_view_module": "@jupyter-widgets/controls",
            "_view_module_version": "1.5.0",
            "_view_name": "ProgressView",
            "bar_style": "success",
            "description": "",
            "description_tooltip": null,
            "layout": "IPY_MODEL_bfc3e2460cf944fcbd784438d8034b52",
            "max": 1961828,
            "min": 0,
            "orientation": "horizontal",
            "style": "IPY_MODEL_e9d028b339dd43b8bc170ee893bc8e43",
            "value": 1961828
          }
        },
        "bdc9bb445dfa4f48a67db02e090ec0d6": {
          "model_module": "@jupyter-widgets/controls",
          "model_name": "HTMLModel",
          "model_module_version": "1.5.0",
          "state": {
            "_dom_classes": [],
            "_model_module": "@jupyter-widgets/controls",
            "_model_module_version": "1.5.0",
            "_model_name": "HTMLModel",
            "_view_count": null,
            "_view_module": "@jupyter-widgets/controls",
            "_view_module_version": "1.5.0",
            "_view_name": "HTMLView",
            "description": "",
            "description_tooltip": null,
            "layout": "IPY_MODEL_12af8513b3d6499b94a078cc75d0dd1e",
            "placeholder": "​",
            "style": "IPY_MODEL_bf132409459845dca10ffdf2c3752ca8",
            "value": " 1.96M/1.96M [00:00&lt;00:00, 6.29MB/s]"
          }
        },
        "51234214f16b45f6a3a8efcf1736cf15": {
          "model_module": "@jupyter-widgets/base",
          "model_name": "LayoutModel",
          "model_module_version": "1.2.0",
          "state": {
            "_model_module": "@jupyter-widgets/base",
            "_model_module_version": "1.2.0",
            "_model_name": "LayoutModel",
            "_view_count": null,
            "_view_module": "@jupyter-widgets/base",
            "_view_module_version": "1.2.0",
            "_view_name": "LayoutView",
            "align_content": null,
            "align_items": null,
            "align_self": null,
            "border": null,
            "bottom": null,
            "display": null,
            "flex": null,
            "flex_flow": null,
            "grid_area": null,
            "grid_auto_columns": null,
            "grid_auto_flow": null,
            "grid_auto_rows": null,
            "grid_column": null,
            "grid_gap": null,
            "grid_row": null,
            "grid_template_areas": null,
            "grid_template_columns": null,
            "grid_template_rows": null,
            "height": null,
            "justify_content": null,
            "justify_items": null,
            "left": null,
            "margin": null,
            "max_height": null,
            "max_width": null,
            "min_height": null,
            "min_width": null,
            "object_fit": null,
            "object_position": null,
            "order": null,
            "overflow": null,
            "overflow_x": null,
            "overflow_y": null,
            "padding": null,
            "right": null,
            "top": null,
            "visibility": null,
            "width": null
          }
        },
        "3e5a9690f5a14fa98b0a0590338b72e6": {
          "model_module": "@jupyter-widgets/base",
          "model_name": "LayoutModel",
          "model_module_version": "1.2.0",
          "state": {
            "_model_module": "@jupyter-widgets/base",
            "_model_module_version": "1.2.0",
            "_model_name": "LayoutModel",
            "_view_count": null,
            "_view_module": "@jupyter-widgets/base",
            "_view_module_version": "1.2.0",
            "_view_name": "LayoutView",
            "align_content": null,
            "align_items": null,
            "align_self": null,
            "border": null,
            "bottom": null,
            "display": null,
            "flex": null,
            "flex_flow": null,
            "grid_area": null,
            "grid_auto_columns": null,
            "grid_auto_flow": null,
            "grid_auto_rows": null,
            "grid_column": null,
            "grid_gap": null,
            "grid_row": null,
            "grid_template_areas": null,
            "grid_template_columns": null,
            "grid_template_rows": null,
            "height": null,
            "justify_content": null,
            "justify_items": null,
            "left": null,
            "margin": null,
            "max_height": null,
            "max_width": null,
            "min_height": null,
            "min_width": null,
            "object_fit": null,
            "object_position": null,
            "order": null,
            "overflow": null,
            "overflow_x": null,
            "overflow_y": null,
            "padding": null,
            "right": null,
            "top": null,
            "visibility": null,
            "width": null
          }
        },
        "a721b7f2de8a422781cfaa0abf087ff3": {
          "model_module": "@jupyter-widgets/controls",
          "model_name": "DescriptionStyleModel",
          "model_module_version": "1.5.0",
          "state": {
            "_model_module": "@jupyter-widgets/controls",
            "_model_module_version": "1.5.0",
            "_model_name": "DescriptionStyleModel",
            "_view_count": null,
            "_view_module": "@jupyter-widgets/base",
            "_view_module_version": "1.2.0",
            "_view_name": "StyleView",
            "description_width": ""
          }
        },
        "bfc3e2460cf944fcbd784438d8034b52": {
          "model_module": "@jupyter-widgets/base",
          "model_name": "LayoutModel",
          "model_module_version": "1.2.0",
          "state": {
            "_model_module": "@jupyter-widgets/base",
            "_model_module_version": "1.2.0",
            "_model_name": "LayoutModel",
            "_view_count": null,
            "_view_module": "@jupyter-widgets/base",
            "_view_module_version": "1.2.0",
            "_view_name": "LayoutView",
            "align_content": null,
            "align_items": null,
            "align_self": null,
            "border": null,
            "bottom": null,
            "display": null,
            "flex": null,
            "flex_flow": null,
            "grid_area": null,
            "grid_auto_columns": null,
            "grid_auto_flow": null,
            "grid_auto_rows": null,
            "grid_column": null,
            "grid_gap": null,
            "grid_row": null,
            "grid_template_areas": null,
            "grid_template_columns": null,
            "grid_template_rows": null,
            "height": null,
            "justify_content": null,
            "justify_items": null,
            "left": null,
            "margin": null,
            "max_height": null,
            "max_width": null,
            "min_height": null,
            "min_width": null,
            "object_fit": null,
            "object_position": null,
            "order": null,
            "overflow": null,
            "overflow_x": null,
            "overflow_y": null,
            "padding": null,
            "right": null,
            "top": null,
            "visibility": null,
            "width": null
          }
        },
        "e9d028b339dd43b8bc170ee893bc8e43": {
          "model_module": "@jupyter-widgets/controls",
          "model_name": "ProgressStyleModel",
          "model_module_version": "1.5.0",
          "state": {
            "_model_module": "@jupyter-widgets/controls",
            "_model_module_version": "1.5.0",
            "_model_name": "ProgressStyleModel",
            "_view_count": null,
            "_view_module": "@jupyter-widgets/base",
            "_view_module_version": "1.2.0",
            "_view_name": "StyleView",
            "bar_color": null,
            "description_width": ""
          }
        },
        "12af8513b3d6499b94a078cc75d0dd1e": {
          "model_module": "@jupyter-widgets/base",
          "model_name": "LayoutModel",
          "model_module_version": "1.2.0",
          "state": {
            "_model_module": "@jupyter-widgets/base",
            "_model_module_version": "1.2.0",
            "_model_name": "LayoutModel",
            "_view_count": null,
            "_view_module": "@jupyter-widgets/base",
            "_view_module_version": "1.2.0",
            "_view_name": "LayoutView",
            "align_content": null,
            "align_items": null,
            "align_self": null,
            "border": null,
            "bottom": null,
            "display": null,
            "flex": null,
            "flex_flow": null,
            "grid_area": null,
            "grid_auto_columns": null,
            "grid_auto_flow": null,
            "grid_auto_rows": null,
            "grid_column": null,
            "grid_gap": null,
            "grid_row": null,
            "grid_template_areas": null,
            "grid_template_columns": null,
            "grid_template_rows": null,
            "height": null,
            "justify_content": null,
            "justify_items": null,
            "left": null,
            "margin": null,
            "max_height": null,
            "max_width": null,
            "min_height": null,
            "min_width": null,
            "object_fit": null,
            "object_position": null,
            "order": null,
            "overflow": null,
            "overflow_x": null,
            "overflow_y": null,
            "padding": null,
            "right": null,
            "top": null,
            "visibility": null,
            "width": null
          }
        },
        "bf132409459845dca10ffdf2c3752ca8": {
          "model_module": "@jupyter-widgets/controls",
          "model_name": "DescriptionStyleModel",
          "model_module_version": "1.5.0",
          "state": {
            "_model_module": "@jupyter-widgets/controls",
            "_model_module_version": "1.5.0",
            "_model_name": "DescriptionStyleModel",
            "_view_count": null,
            "_view_module": "@jupyter-widgets/base",
            "_view_module_version": "1.2.0",
            "_view_name": "StyleView",
            "description_width": ""
          }
        },
        "8b4d9ed79a324dcc98faefd7d53571ce": {
          "model_module": "@jupyter-widgets/controls",
          "model_name": "HBoxModel",
          "model_module_version": "1.5.0",
          "state": {
            "_dom_classes": [],
            "_model_module": "@jupyter-widgets/controls",
            "_model_module_version": "1.5.0",
            "_model_name": "HBoxModel",
            "_view_count": null,
            "_view_module": "@jupyter-widgets/controls",
            "_view_module_version": "1.5.0",
            "_view_name": "HBoxView",
            "box_style": "",
            "children": [
              "IPY_MODEL_d8afa45cb7db46e49b16a63aba604068",
              "IPY_MODEL_6d87f39a8867425d8ca1723e760eabfd",
              "IPY_MODEL_64cca7531ff142cf808b09244fdd5a8c"
            ],
            "layout": "IPY_MODEL_898395e0292747d0b1be269236a68181"
          }
        },
        "d8afa45cb7db46e49b16a63aba604068": {
          "model_module": "@jupyter-widgets/controls",
          "model_name": "HTMLModel",
          "model_module_version": "1.5.0",
          "state": {
            "_dom_classes": [],
            "_model_module": "@jupyter-widgets/controls",
            "_model_module_version": "1.5.0",
            "_model_name": "HTMLModel",
            "_view_count": null,
            "_view_module": "@jupyter-widgets/controls",
            "_view_module_version": "1.5.0",
            "_view_name": "HTMLView",
            "description": "",
            "description_tooltip": null,
            "layout": "IPY_MODEL_a95b027794b245518f1412d624f3cb50",
            "placeholder": "​",
            "style": "IPY_MODEL_f95b1cd604864547a26b68a3ae1a2998",
            "value": "config.json: 100%"
          }
        },
        "6d87f39a8867425d8ca1723e760eabfd": {
          "model_module": "@jupyter-widgets/controls",
          "model_name": "FloatProgressModel",
          "model_module_version": "1.5.0",
          "state": {
            "_dom_classes": [],
            "_model_module": "@jupyter-widgets/controls",
            "_model_module_version": "1.5.0",
            "_model_name": "FloatProgressModel",
            "_view_count": null,
            "_view_module": "@jupyter-widgets/controls",
            "_view_module_version": "1.5.0",
            "_view_name": "ProgressView",
            "bar_style": "success",
            "description": "",
            "description_tooltip": null,
            "layout": "IPY_MODEL_ad00cb9423534ad39eb854f5c593f546",
            "max": 625,
            "min": 0,
            "orientation": "horizontal",
            "style": "IPY_MODEL_0605b7b0c72940ad936c8180eef23cf9",
            "value": 625
          }
        },
        "64cca7531ff142cf808b09244fdd5a8c": {
          "model_module": "@jupyter-widgets/controls",
          "model_name": "HTMLModel",
          "model_module_version": "1.5.0",
          "state": {
            "_dom_classes": [],
            "_model_module": "@jupyter-widgets/controls",
            "_model_module_version": "1.5.0",
            "_model_name": "HTMLModel",
            "_view_count": null,
            "_view_module": "@jupyter-widgets/controls",
            "_view_module_version": "1.5.0",
            "_view_name": "HTMLView",
            "description": "",
            "description_tooltip": null,
            "layout": "IPY_MODEL_17ccd76c517641a3b2c96d6d650b2bbd",
            "placeholder": "​",
            "style": "IPY_MODEL_e1eb7aaeac36467b8dde9b8c14172076",
            "value": " 625/625 [00:00&lt;00:00, 40.4kB/s]"
          }
        },
        "898395e0292747d0b1be269236a68181": {
          "model_module": "@jupyter-widgets/base",
          "model_name": "LayoutModel",
          "model_module_version": "1.2.0",
          "state": {
            "_model_module": "@jupyter-widgets/base",
            "_model_module_version": "1.2.0",
            "_model_name": "LayoutModel",
            "_view_count": null,
            "_view_module": "@jupyter-widgets/base",
            "_view_module_version": "1.2.0",
            "_view_name": "LayoutView",
            "align_content": null,
            "align_items": null,
            "align_self": null,
            "border": null,
            "bottom": null,
            "display": null,
            "flex": null,
            "flex_flow": null,
            "grid_area": null,
            "grid_auto_columns": null,
            "grid_auto_flow": null,
            "grid_auto_rows": null,
            "grid_column": null,
            "grid_gap": null,
            "grid_row": null,
            "grid_template_areas": null,
            "grid_template_columns": null,
            "grid_template_rows": null,
            "height": null,
            "justify_content": null,
            "justify_items": null,
            "left": null,
            "margin": null,
            "max_height": null,
            "max_width": null,
            "min_height": null,
            "min_width": null,
            "object_fit": null,
            "object_position": null,
            "order": null,
            "overflow": null,
            "overflow_x": null,
            "overflow_y": null,
            "padding": null,
            "right": null,
            "top": null,
            "visibility": null,
            "width": null
          }
        },
        "a95b027794b245518f1412d624f3cb50": {
          "model_module": "@jupyter-widgets/base",
          "model_name": "LayoutModel",
          "model_module_version": "1.2.0",
          "state": {
            "_model_module": "@jupyter-widgets/base",
            "_model_module_version": "1.2.0",
            "_model_name": "LayoutModel",
            "_view_count": null,
            "_view_module": "@jupyter-widgets/base",
            "_view_module_version": "1.2.0",
            "_view_name": "LayoutView",
            "align_content": null,
            "align_items": null,
            "align_self": null,
            "border": null,
            "bottom": null,
            "display": null,
            "flex": null,
            "flex_flow": null,
            "grid_area": null,
            "grid_auto_columns": null,
            "grid_auto_flow": null,
            "grid_auto_rows": null,
            "grid_column": null,
            "grid_gap": null,
            "grid_row": null,
            "grid_template_areas": null,
            "grid_template_columns": null,
            "grid_template_rows": null,
            "height": null,
            "justify_content": null,
            "justify_items": null,
            "left": null,
            "margin": null,
            "max_height": null,
            "max_width": null,
            "min_height": null,
            "min_width": null,
            "object_fit": null,
            "object_position": null,
            "order": null,
            "overflow": null,
            "overflow_x": null,
            "overflow_y": null,
            "padding": null,
            "right": null,
            "top": null,
            "visibility": null,
            "width": null
          }
        },
        "f95b1cd604864547a26b68a3ae1a2998": {
          "model_module": "@jupyter-widgets/controls",
          "model_name": "DescriptionStyleModel",
          "model_module_version": "1.5.0",
          "state": {
            "_model_module": "@jupyter-widgets/controls",
            "_model_module_version": "1.5.0",
            "_model_name": "DescriptionStyleModel",
            "_view_count": null,
            "_view_module": "@jupyter-widgets/base",
            "_view_module_version": "1.2.0",
            "_view_name": "StyleView",
            "description_width": ""
          }
        },
        "ad00cb9423534ad39eb854f5c593f546": {
          "model_module": "@jupyter-widgets/base",
          "model_name": "LayoutModel",
          "model_module_version": "1.2.0",
          "state": {
            "_model_module": "@jupyter-widgets/base",
            "_model_module_version": "1.2.0",
            "_model_name": "LayoutModel",
            "_view_count": null,
            "_view_module": "@jupyter-widgets/base",
            "_view_module_version": "1.2.0",
            "_view_name": "LayoutView",
            "align_content": null,
            "align_items": null,
            "align_self": null,
            "border": null,
            "bottom": null,
            "display": null,
            "flex": null,
            "flex_flow": null,
            "grid_area": null,
            "grid_auto_columns": null,
            "grid_auto_flow": null,
            "grid_auto_rows": null,
            "grid_column": null,
            "grid_gap": null,
            "grid_row": null,
            "grid_template_areas": null,
            "grid_template_columns": null,
            "grid_template_rows": null,
            "height": null,
            "justify_content": null,
            "justify_items": null,
            "left": null,
            "margin": null,
            "max_height": null,
            "max_width": null,
            "min_height": null,
            "min_width": null,
            "object_fit": null,
            "object_position": null,
            "order": null,
            "overflow": null,
            "overflow_x": null,
            "overflow_y": null,
            "padding": null,
            "right": null,
            "top": null,
            "visibility": null,
            "width": null
          }
        },
        "0605b7b0c72940ad936c8180eef23cf9": {
          "model_module": "@jupyter-widgets/controls",
          "model_name": "ProgressStyleModel",
          "model_module_version": "1.5.0",
          "state": {
            "_model_module": "@jupyter-widgets/controls",
            "_model_module_version": "1.5.0",
            "_model_name": "ProgressStyleModel",
            "_view_count": null,
            "_view_module": "@jupyter-widgets/base",
            "_view_module_version": "1.2.0",
            "_view_name": "StyleView",
            "bar_color": null,
            "description_width": ""
          }
        },
        "17ccd76c517641a3b2c96d6d650b2bbd": {
          "model_module": "@jupyter-widgets/base",
          "model_name": "LayoutModel",
          "model_module_version": "1.2.0",
          "state": {
            "_model_module": "@jupyter-widgets/base",
            "_model_module_version": "1.2.0",
            "_model_name": "LayoutModel",
            "_view_count": null,
            "_view_module": "@jupyter-widgets/base",
            "_view_module_version": "1.2.0",
            "_view_name": "LayoutView",
            "align_content": null,
            "align_items": null,
            "align_self": null,
            "border": null,
            "bottom": null,
            "display": null,
            "flex": null,
            "flex_flow": null,
            "grid_area": null,
            "grid_auto_columns": null,
            "grid_auto_flow": null,
            "grid_auto_rows": null,
            "grid_column": null,
            "grid_gap": null,
            "grid_row": null,
            "grid_template_areas": null,
            "grid_template_columns": null,
            "grid_template_rows": null,
            "height": null,
            "justify_content": null,
            "justify_items": null,
            "left": null,
            "margin": null,
            "max_height": null,
            "max_width": null,
            "min_height": null,
            "min_width": null,
            "object_fit": null,
            "object_position": null,
            "order": null,
            "overflow": null,
            "overflow_x": null,
            "overflow_y": null,
            "padding": null,
            "right": null,
            "top": null,
            "visibility": null,
            "width": null
          }
        },
        "e1eb7aaeac36467b8dde9b8c14172076": {
          "model_module": "@jupyter-widgets/controls",
          "model_name": "DescriptionStyleModel",
          "model_module_version": "1.5.0",
          "state": {
            "_model_module": "@jupyter-widgets/controls",
            "_model_module_version": "1.5.0",
            "_model_name": "DescriptionStyleModel",
            "_view_count": null,
            "_view_module": "@jupyter-widgets/base",
            "_view_module_version": "1.2.0",
            "_view_name": "StyleView",
            "description_width": ""
          }
        },
        "d3785b5b43584dfaaab87eb70adac77e": {
          "model_module": "@jupyter-widgets/controls",
          "model_name": "HBoxModel",
          "model_module_version": "1.5.0",
          "state": {
            "_dom_classes": [],
            "_model_module": "@jupyter-widgets/controls",
            "_model_module_version": "1.5.0",
            "_model_name": "HBoxModel",
            "_view_count": null,
            "_view_module": "@jupyter-widgets/controls",
            "_view_module_version": "1.5.0",
            "_view_name": "HBoxView",
            "box_style": "",
            "children": [
              "IPY_MODEL_d0fdc8f2aedc4517ac6d150823bbac35",
              "IPY_MODEL_9d10b732d10a403cbdb41cd20fa88096",
              "IPY_MODEL_297afa9148274d67be70c7c0fd499c89"
            ],
            "layout": "IPY_MODEL_fd62b30e13a649e280023617c61dd263"
          }
        },
        "d0fdc8f2aedc4517ac6d150823bbac35": {
          "model_module": "@jupyter-widgets/controls",
          "model_name": "HTMLModel",
          "model_module_version": "1.5.0",
          "state": {
            "_dom_classes": [],
            "_model_module": "@jupyter-widgets/controls",
            "_model_module_version": "1.5.0",
            "_model_name": "HTMLModel",
            "_view_count": null,
            "_view_module": "@jupyter-widgets/controls",
            "_view_module_version": "1.5.0",
            "_view_name": "HTMLView",
            "description": "",
            "description_tooltip": null,
            "layout": "IPY_MODEL_cd7531e13ee74fec9a5dff78a325d189",
            "placeholder": "​",
            "style": "IPY_MODEL_13d523942286438593831022f1f88bf5",
            "value": "model.safetensors: 100%"
          }
        },
        "9d10b732d10a403cbdb41cd20fa88096": {
          "model_module": "@jupyter-widgets/controls",
          "model_name": "FloatProgressModel",
          "model_module_version": "1.5.0",
          "state": {
            "_dom_classes": [],
            "_model_module": "@jupyter-widgets/controls",
            "_model_module_version": "1.5.0",
            "_model_name": "FloatProgressModel",
            "_view_count": null,
            "_view_module": "@jupyter-widgets/controls",
            "_view_module_version": "1.5.0",
            "_view_name": "ProgressView",
            "bar_style": "success",
            "description": "",
            "description_tooltip": null,
            "layout": "IPY_MODEL_d989a62415764a8a8eb34e62029b8381",
            "max": 714290682,
            "min": 0,
            "orientation": "horizontal",
            "style": "IPY_MODEL_1a24145c627c4722a334767c966065a3",
            "value": 714290682
          }
        },
        "297afa9148274d67be70c7c0fd499c89": {
          "model_module": "@jupyter-widgets/controls",
          "model_name": "HTMLModel",
          "model_module_version": "1.5.0",
          "state": {
            "_dom_classes": [],
            "_model_module": "@jupyter-widgets/controls",
            "_model_module_version": "1.5.0",
            "_model_name": "HTMLModel",
            "_view_count": null,
            "_view_module": "@jupyter-widgets/controls",
            "_view_module_version": "1.5.0",
            "_view_name": "HTMLView",
            "description": "",
            "description_tooltip": null,
            "layout": "IPY_MODEL_9ad5bce384ca43059bb34b1734c6c696",
            "placeholder": "​",
            "style": "IPY_MODEL_fd040e072c1241969d610da9d3b578b0",
            "value": " 714M/714M [00:03&lt;00:00, 257MB/s]"
          }
        },
        "fd62b30e13a649e280023617c61dd263": {
          "model_module": "@jupyter-widgets/base",
          "model_name": "LayoutModel",
          "model_module_version": "1.2.0",
          "state": {
            "_model_module": "@jupyter-widgets/base",
            "_model_module_version": "1.2.0",
            "_model_name": "LayoutModel",
            "_view_count": null,
            "_view_module": "@jupyter-widgets/base",
            "_view_module_version": "1.2.0",
            "_view_name": "LayoutView",
            "align_content": null,
            "align_items": null,
            "align_self": null,
            "border": null,
            "bottom": null,
            "display": null,
            "flex": null,
            "flex_flow": null,
            "grid_area": null,
            "grid_auto_columns": null,
            "grid_auto_flow": null,
            "grid_auto_rows": null,
            "grid_column": null,
            "grid_gap": null,
            "grid_row": null,
            "grid_template_areas": null,
            "grid_template_columns": null,
            "grid_template_rows": null,
            "height": null,
            "justify_content": null,
            "justify_items": null,
            "left": null,
            "margin": null,
            "max_height": null,
            "max_width": null,
            "min_height": null,
            "min_width": null,
            "object_fit": null,
            "object_position": null,
            "order": null,
            "overflow": null,
            "overflow_x": null,
            "overflow_y": null,
            "padding": null,
            "right": null,
            "top": null,
            "visibility": null,
            "width": null
          }
        },
        "cd7531e13ee74fec9a5dff78a325d189": {
          "model_module": "@jupyter-widgets/base",
          "model_name": "LayoutModel",
          "model_module_version": "1.2.0",
          "state": {
            "_model_module": "@jupyter-widgets/base",
            "_model_module_version": "1.2.0",
            "_model_name": "LayoutModel",
            "_view_count": null,
            "_view_module": "@jupyter-widgets/base",
            "_view_module_version": "1.2.0",
            "_view_name": "LayoutView",
            "align_content": null,
            "align_items": null,
            "align_self": null,
            "border": null,
            "bottom": null,
            "display": null,
            "flex": null,
            "flex_flow": null,
            "grid_area": null,
            "grid_auto_columns": null,
            "grid_auto_flow": null,
            "grid_auto_rows": null,
            "grid_column": null,
            "grid_gap": null,
            "grid_row": null,
            "grid_template_areas": null,
            "grid_template_columns": null,
            "grid_template_rows": null,
            "height": null,
            "justify_content": null,
            "justify_items": null,
            "left": null,
            "margin": null,
            "max_height": null,
            "max_width": null,
            "min_height": null,
            "min_width": null,
            "object_fit": null,
            "object_position": null,
            "order": null,
            "overflow": null,
            "overflow_x": null,
            "overflow_y": null,
            "padding": null,
            "right": null,
            "top": null,
            "visibility": null,
            "width": null
          }
        },
        "13d523942286438593831022f1f88bf5": {
          "model_module": "@jupyter-widgets/controls",
          "model_name": "DescriptionStyleModel",
          "model_module_version": "1.5.0",
          "state": {
            "_model_module": "@jupyter-widgets/controls",
            "_model_module_version": "1.5.0",
            "_model_name": "DescriptionStyleModel",
            "_view_count": null,
            "_view_module": "@jupyter-widgets/base",
            "_view_module_version": "1.2.0",
            "_view_name": "StyleView",
            "description_width": ""
          }
        },
        "d989a62415764a8a8eb34e62029b8381": {
          "model_module": "@jupyter-widgets/base",
          "model_name": "LayoutModel",
          "model_module_version": "1.2.0",
          "state": {
            "_model_module": "@jupyter-widgets/base",
            "_model_module_version": "1.2.0",
            "_model_name": "LayoutModel",
            "_view_count": null,
            "_view_module": "@jupyter-widgets/base",
            "_view_module_version": "1.2.0",
            "_view_name": "LayoutView",
            "align_content": null,
            "align_items": null,
            "align_self": null,
            "border": null,
            "bottom": null,
            "display": null,
            "flex": null,
            "flex_flow": null,
            "grid_area": null,
            "grid_auto_columns": null,
            "grid_auto_flow": null,
            "grid_auto_rows": null,
            "grid_column": null,
            "grid_gap": null,
            "grid_row": null,
            "grid_template_areas": null,
            "grid_template_columns": null,
            "grid_template_rows": null,
            "height": null,
            "justify_content": null,
            "justify_items": null,
            "left": null,
            "margin": null,
            "max_height": null,
            "max_width": null,
            "min_height": null,
            "min_width": null,
            "object_fit": null,
            "object_position": null,
            "order": null,
            "overflow": null,
            "overflow_x": null,
            "overflow_y": null,
            "padding": null,
            "right": null,
            "top": null,
            "visibility": null,
            "width": null
          }
        },
        "1a24145c627c4722a334767c966065a3": {
          "model_module": "@jupyter-widgets/controls",
          "model_name": "ProgressStyleModel",
          "model_module_version": "1.5.0",
          "state": {
            "_model_module": "@jupyter-widgets/controls",
            "_model_module_version": "1.5.0",
            "_model_name": "ProgressStyleModel",
            "_view_count": null,
            "_view_module": "@jupyter-widgets/base",
            "_view_module_version": "1.2.0",
            "_view_name": "StyleView",
            "bar_color": null,
            "description_width": ""
          }
        },
        "9ad5bce384ca43059bb34b1734c6c696": {
          "model_module": "@jupyter-widgets/base",
          "model_name": "LayoutModel",
          "model_module_version": "1.2.0",
          "state": {
            "_model_module": "@jupyter-widgets/base",
            "_model_module_version": "1.2.0",
            "_model_name": "LayoutModel",
            "_view_count": null,
            "_view_module": "@jupyter-widgets/base",
            "_view_module_version": "1.2.0",
            "_view_name": "LayoutView",
            "align_content": null,
            "align_items": null,
            "align_self": null,
            "border": null,
            "bottom": null,
            "display": null,
            "flex": null,
            "flex_flow": null,
            "grid_area": null,
            "grid_auto_columns": null,
            "grid_auto_flow": null,
            "grid_auto_rows": null,
            "grid_column": null,
            "grid_gap": null,
            "grid_row": null,
            "grid_template_areas": null,
            "grid_template_columns": null,
            "grid_template_rows": null,
            "height": null,
            "justify_content": null,
            "justify_items": null,
            "left": null,
            "margin": null,
            "max_height": null,
            "max_width": null,
            "min_height": null,
            "min_width": null,
            "object_fit": null,
            "object_position": null,
            "order": null,
            "overflow": null,
            "overflow_x": null,
            "overflow_y": null,
            "padding": null,
            "right": null,
            "top": null,
            "visibility": null,
            "width": null
          }
        },
        "fd040e072c1241969d610da9d3b578b0": {
          "model_module": "@jupyter-widgets/controls",
          "model_name": "DescriptionStyleModel",
          "model_module_version": "1.5.0",
          "state": {
            "_model_module": "@jupyter-widgets/controls",
            "_model_module_version": "1.5.0",
            "_model_name": "DescriptionStyleModel",
            "_view_count": null,
            "_view_module": "@jupyter-widgets/base",
            "_view_module_version": "1.2.0",
            "_view_name": "StyleView",
            "description_width": ""
          }
        },
        "8ee5253719ac4e8781976797e423cb27": {
          "model_module": "@jupyter-widgets/controls",
          "model_name": "HBoxModel",
          "model_module_version": "1.5.0",
          "state": {
            "_dom_classes": [],
            "_model_module": "@jupyter-widgets/controls",
            "_model_module_version": "1.5.0",
            "_model_name": "HBoxModel",
            "_view_count": null,
            "_view_module": "@jupyter-widgets/controls",
            "_view_module_version": "1.5.0",
            "_view_name": "HBoxView",
            "box_style": "",
            "children": [
              "IPY_MODEL_295ee01cfb914c679a8fd806fa09b3d0",
              "IPY_MODEL_ccce132daf3c4a4ca506af2e10564c5a",
              "IPY_MODEL_9007eadda3d14944afcae43e17637777"
            ],
            "layout": "IPY_MODEL_185d77b55c3a42deb4ba746016d85d62"
          }
        },
        "295ee01cfb914c679a8fd806fa09b3d0": {
          "model_module": "@jupyter-widgets/controls",
          "model_name": "HTMLModel",
          "model_module_version": "1.5.0",
          "state": {
            "_dom_classes": [],
            "_model_module": "@jupyter-widgets/controls",
            "_model_module_version": "1.5.0",
            "_model_name": "HTMLModel",
            "_view_count": null,
            "_view_module": "@jupyter-widgets/controls",
            "_view_module_version": "1.5.0",
            "_view_name": "HTMLView",
            "description": "",
            "description_tooltip": null,
            "layout": "IPY_MODEL_e4cd7bf742504f8cb217249f897002ed",
            "placeholder": "​",
            "style": "IPY_MODEL_8148a81e64e14f38ad6e923f30711cac",
            "value": "tokenizer_config.json: 100%"
          }
        },
        "ccce132daf3c4a4ca506af2e10564c5a": {
          "model_module": "@jupyter-widgets/controls",
          "model_name": "FloatProgressModel",
          "model_module_version": "1.5.0",
          "state": {
            "_dom_classes": [],
            "_model_module": "@jupyter-widgets/controls",
            "_model_module_version": "1.5.0",
            "_model_name": "FloatProgressModel",
            "_view_count": null,
            "_view_module": "@jupyter-widgets/controls",
            "_view_module_version": "1.5.0",
            "_view_name": "ProgressView",
            "bar_style": "success",
            "description": "",
            "description_tooltip": null,
            "layout": "IPY_MODEL_b2be695cbeec4d49942ea352b4ab8189",
            "max": 25,
            "min": 0,
            "orientation": "horizontal",
            "style": "IPY_MODEL_c0e2d63bf4c74a35b0a16d4925adabc6",
            "value": 25
          }
        },
        "9007eadda3d14944afcae43e17637777": {
          "model_module": "@jupyter-widgets/controls",
          "model_name": "HTMLModel",
          "model_module_version": "1.5.0",
          "state": {
            "_dom_classes": [],
            "_model_module": "@jupyter-widgets/controls",
            "_model_module_version": "1.5.0",
            "_model_name": "HTMLModel",
            "_view_count": null,
            "_view_module": "@jupyter-widgets/controls",
            "_view_module_version": "1.5.0",
            "_view_name": "HTMLView",
            "description": "",
            "description_tooltip": null,
            "layout": "IPY_MODEL_414b6441ff12434090d1e640e6bf81f3",
            "placeholder": "​",
            "style": "IPY_MODEL_843e9788311f4848be5a5c6c76ef63fd",
            "value": " 25.0/25.0 [00:00&lt;00:00, 397B/s]"
          }
        },
        "185d77b55c3a42deb4ba746016d85d62": {
          "model_module": "@jupyter-widgets/base",
          "model_name": "LayoutModel",
          "model_module_version": "1.2.0",
          "state": {
            "_model_module": "@jupyter-widgets/base",
            "_model_module_version": "1.2.0",
            "_model_name": "LayoutModel",
            "_view_count": null,
            "_view_module": "@jupyter-widgets/base",
            "_view_module_version": "1.2.0",
            "_view_name": "LayoutView",
            "align_content": null,
            "align_items": null,
            "align_self": null,
            "border": null,
            "bottom": null,
            "display": null,
            "flex": null,
            "flex_flow": null,
            "grid_area": null,
            "grid_auto_columns": null,
            "grid_auto_flow": null,
            "grid_auto_rows": null,
            "grid_column": null,
            "grid_gap": null,
            "grid_row": null,
            "grid_template_areas": null,
            "grid_template_columns": null,
            "grid_template_rows": null,
            "height": null,
            "justify_content": null,
            "justify_items": null,
            "left": null,
            "margin": null,
            "max_height": null,
            "max_width": null,
            "min_height": null,
            "min_width": null,
            "object_fit": null,
            "object_position": null,
            "order": null,
            "overflow": null,
            "overflow_x": null,
            "overflow_y": null,
            "padding": null,
            "right": null,
            "top": null,
            "visibility": null,
            "width": null
          }
        },
        "e4cd7bf742504f8cb217249f897002ed": {
          "model_module": "@jupyter-widgets/base",
          "model_name": "LayoutModel",
          "model_module_version": "1.2.0",
          "state": {
            "_model_module": "@jupyter-widgets/base",
            "_model_module_version": "1.2.0",
            "_model_name": "LayoutModel",
            "_view_count": null,
            "_view_module": "@jupyter-widgets/base",
            "_view_module_version": "1.2.0",
            "_view_name": "LayoutView",
            "align_content": null,
            "align_items": null,
            "align_self": null,
            "border": null,
            "bottom": null,
            "display": null,
            "flex": null,
            "flex_flow": null,
            "grid_area": null,
            "grid_auto_columns": null,
            "grid_auto_flow": null,
            "grid_auto_rows": null,
            "grid_column": null,
            "grid_gap": null,
            "grid_row": null,
            "grid_template_areas": null,
            "grid_template_columns": null,
            "grid_template_rows": null,
            "height": null,
            "justify_content": null,
            "justify_items": null,
            "left": null,
            "margin": null,
            "max_height": null,
            "max_width": null,
            "min_height": null,
            "min_width": null,
            "object_fit": null,
            "object_position": null,
            "order": null,
            "overflow": null,
            "overflow_x": null,
            "overflow_y": null,
            "padding": null,
            "right": null,
            "top": null,
            "visibility": null,
            "width": null
          }
        },
        "8148a81e64e14f38ad6e923f30711cac": {
          "model_module": "@jupyter-widgets/controls",
          "model_name": "DescriptionStyleModel",
          "model_module_version": "1.5.0",
          "state": {
            "_model_module": "@jupyter-widgets/controls",
            "_model_module_version": "1.5.0",
            "_model_name": "DescriptionStyleModel",
            "_view_count": null,
            "_view_module": "@jupyter-widgets/base",
            "_view_module_version": "1.2.0",
            "_view_name": "StyleView",
            "description_width": ""
          }
        },
        "b2be695cbeec4d49942ea352b4ab8189": {
          "model_module": "@jupyter-widgets/base",
          "model_name": "LayoutModel",
          "model_module_version": "1.2.0",
          "state": {
            "_model_module": "@jupyter-widgets/base",
            "_model_module_version": "1.2.0",
            "_model_name": "LayoutModel",
            "_view_count": null,
            "_view_module": "@jupyter-widgets/base",
            "_view_module_version": "1.2.0",
            "_view_name": "LayoutView",
            "align_content": null,
            "align_items": null,
            "align_self": null,
            "border": null,
            "bottom": null,
            "display": null,
            "flex": null,
            "flex_flow": null,
            "grid_area": null,
            "grid_auto_columns": null,
            "grid_auto_flow": null,
            "grid_auto_rows": null,
            "grid_column": null,
            "grid_gap": null,
            "grid_row": null,
            "grid_template_areas": null,
            "grid_template_columns": null,
            "grid_template_rows": null,
            "height": null,
            "justify_content": null,
            "justify_items": null,
            "left": null,
            "margin": null,
            "max_height": null,
            "max_width": null,
            "min_height": null,
            "min_width": null,
            "object_fit": null,
            "object_position": null,
            "order": null,
            "overflow": null,
            "overflow_x": null,
            "overflow_y": null,
            "padding": null,
            "right": null,
            "top": null,
            "visibility": null,
            "width": null
          }
        },
        "c0e2d63bf4c74a35b0a16d4925adabc6": {
          "model_module": "@jupyter-widgets/controls",
          "model_name": "ProgressStyleModel",
          "model_module_version": "1.5.0",
          "state": {
            "_model_module": "@jupyter-widgets/controls",
            "_model_module_version": "1.5.0",
            "_model_name": "ProgressStyleModel",
            "_view_count": null,
            "_view_module": "@jupyter-widgets/base",
            "_view_module_version": "1.2.0",
            "_view_name": "StyleView",
            "bar_color": null,
            "description_width": ""
          }
        },
        "414b6441ff12434090d1e640e6bf81f3": {
          "model_module": "@jupyter-widgets/base",
          "model_name": "LayoutModel",
          "model_module_version": "1.2.0",
          "state": {
            "_model_module": "@jupyter-widgets/base",
            "_model_module_version": "1.2.0",
            "_model_name": "LayoutModel",
            "_view_count": null,
            "_view_module": "@jupyter-widgets/base",
            "_view_module_version": "1.2.0",
            "_view_name": "LayoutView",
            "align_content": null,
            "align_items": null,
            "align_self": null,
            "border": null,
            "bottom": null,
            "display": null,
            "flex": null,
            "flex_flow": null,
            "grid_area": null,
            "grid_auto_columns": null,
            "grid_auto_flow": null,
            "grid_auto_rows": null,
            "grid_column": null,
            "grid_gap": null,
            "grid_row": null,
            "grid_template_areas": null,
            "grid_template_columns": null,
            "grid_template_rows": null,
            "height": null,
            "justify_content": null,
            "justify_items": null,
            "left": null,
            "margin": null,
            "max_height": null,
            "max_width": null,
            "min_height": null,
            "min_width": null,
            "object_fit": null,
            "object_position": null,
            "order": null,
            "overflow": null,
            "overflow_x": null,
            "overflow_y": null,
            "padding": null,
            "right": null,
            "top": null,
            "visibility": null,
            "width": null
          }
        },
        "843e9788311f4848be5a5c6c76ef63fd": {
          "model_module": "@jupyter-widgets/controls",
          "model_name": "DescriptionStyleModel",
          "model_module_version": "1.5.0",
          "state": {
            "_model_module": "@jupyter-widgets/controls",
            "_model_module_version": "1.5.0",
            "_model_name": "DescriptionStyleModel",
            "_view_count": null,
            "_view_module": "@jupyter-widgets/base",
            "_view_module_version": "1.2.0",
            "_view_name": "StyleView",
            "description_width": ""
          }
        },
        "da185ac2e6504abd9d0e851e8c907be2": {
          "model_module": "@jupyter-widgets/controls",
          "model_name": "HBoxModel",
          "model_module_version": "1.5.0",
          "state": {
            "_dom_classes": [],
            "_model_module": "@jupyter-widgets/controls",
            "_model_module_version": "1.5.0",
            "_model_name": "HBoxModel",
            "_view_count": null,
            "_view_module": "@jupyter-widgets/controls",
            "_view_module_version": "1.5.0",
            "_view_name": "HBoxView",
            "box_style": "",
            "children": [
              "IPY_MODEL_1b016755d8c647f7a59bc5018e14fe5f",
              "IPY_MODEL_2213048fcb2f4e94ae63852a016a6889",
              "IPY_MODEL_0b979362c9c34f0da43c34e17451b483"
            ],
            "layout": "IPY_MODEL_9ff688b7a56d4a60974b5c5d4514316e"
          }
        },
        "1b016755d8c647f7a59bc5018e14fe5f": {
          "model_module": "@jupyter-widgets/controls",
          "model_name": "HTMLModel",
          "model_module_version": "1.5.0",
          "state": {
            "_dom_classes": [],
            "_model_module": "@jupyter-widgets/controls",
            "_model_module_version": "1.5.0",
            "_model_name": "HTMLModel",
            "_view_count": null,
            "_view_module": "@jupyter-widgets/controls",
            "_view_module_version": "1.5.0",
            "_view_name": "HTMLView",
            "description": "",
            "description_tooltip": null,
            "layout": "IPY_MODEL_c673c212dc7447ce9bd5fafcda873ca3",
            "placeholder": "​",
            "style": "IPY_MODEL_d2ecd12c9ce043d0bf21b28593870ce0",
            "value": "config.json: 100%"
          }
        },
        "2213048fcb2f4e94ae63852a016a6889": {
          "model_module": "@jupyter-widgets/controls",
          "model_name": "FloatProgressModel",
          "model_module_version": "1.5.0",
          "state": {
            "_dom_classes": [],
            "_model_module": "@jupyter-widgets/controls",
            "_model_module_version": "1.5.0",
            "_model_name": "FloatProgressModel",
            "_view_count": null,
            "_view_module": "@jupyter-widgets/controls",
            "_view_module_version": "1.5.0",
            "_view_name": "ProgressView",
            "bar_style": "success",
            "description": "",
            "description_tooltip": null,
            "layout": "IPY_MODEL_01a4dcd199a148089193b3d1f8668469",
            "max": 615,
            "min": 0,
            "orientation": "horizontal",
            "style": "IPY_MODEL_6f577ed628aa43aeb3a42bbf198ef1ca",
            "value": 615
          }
        },
        "0b979362c9c34f0da43c34e17451b483": {
          "model_module": "@jupyter-widgets/controls",
          "model_name": "HTMLModel",
          "model_module_version": "1.5.0",
          "state": {
            "_dom_classes": [],
            "_model_module": "@jupyter-widgets/controls",
            "_model_module_version": "1.5.0",
            "_model_name": "HTMLModel",
            "_view_count": null,
            "_view_module": "@jupyter-widgets/controls",
            "_view_module_version": "1.5.0",
            "_view_name": "HTMLView",
            "description": "",
            "description_tooltip": null,
            "layout": "IPY_MODEL_c15213df49d145148f260f04ca572bbe",
            "placeholder": "​",
            "style": "IPY_MODEL_029ba6cb3405459da856c7653745d2c8",
            "value": " 615/615 [00:00&lt;00:00, 11.6kB/s]"
          }
        },
        "9ff688b7a56d4a60974b5c5d4514316e": {
          "model_module": "@jupyter-widgets/base",
          "model_name": "LayoutModel",
          "model_module_version": "1.2.0",
          "state": {
            "_model_module": "@jupyter-widgets/base",
            "_model_module_version": "1.2.0",
            "_model_name": "LayoutModel",
            "_view_count": null,
            "_view_module": "@jupyter-widgets/base",
            "_view_module_version": "1.2.0",
            "_view_name": "LayoutView",
            "align_content": null,
            "align_items": null,
            "align_self": null,
            "border": null,
            "bottom": null,
            "display": null,
            "flex": null,
            "flex_flow": null,
            "grid_area": null,
            "grid_auto_columns": null,
            "grid_auto_flow": null,
            "grid_auto_rows": null,
            "grid_column": null,
            "grid_gap": null,
            "grid_row": null,
            "grid_template_areas": null,
            "grid_template_columns": null,
            "grid_template_rows": null,
            "height": null,
            "justify_content": null,
            "justify_items": null,
            "left": null,
            "margin": null,
            "max_height": null,
            "max_width": null,
            "min_height": null,
            "min_width": null,
            "object_fit": null,
            "object_position": null,
            "order": null,
            "overflow": null,
            "overflow_x": null,
            "overflow_y": null,
            "padding": null,
            "right": null,
            "top": null,
            "visibility": null,
            "width": null
          }
        },
        "c673c212dc7447ce9bd5fafcda873ca3": {
          "model_module": "@jupyter-widgets/base",
          "model_name": "LayoutModel",
          "model_module_version": "1.2.0",
          "state": {
            "_model_module": "@jupyter-widgets/base",
            "_model_module_version": "1.2.0",
            "_model_name": "LayoutModel",
            "_view_count": null,
            "_view_module": "@jupyter-widgets/base",
            "_view_module_version": "1.2.0",
            "_view_name": "LayoutView",
            "align_content": null,
            "align_items": null,
            "align_self": null,
            "border": null,
            "bottom": null,
            "display": null,
            "flex": null,
            "flex_flow": null,
            "grid_area": null,
            "grid_auto_columns": null,
            "grid_auto_flow": null,
            "grid_auto_rows": null,
            "grid_column": null,
            "grid_gap": null,
            "grid_row": null,
            "grid_template_areas": null,
            "grid_template_columns": null,
            "grid_template_rows": null,
            "height": null,
            "justify_content": null,
            "justify_items": null,
            "left": null,
            "margin": null,
            "max_height": null,
            "max_width": null,
            "min_height": null,
            "min_width": null,
            "object_fit": null,
            "object_position": null,
            "order": null,
            "overflow": null,
            "overflow_x": null,
            "overflow_y": null,
            "padding": null,
            "right": null,
            "top": null,
            "visibility": null,
            "width": null
          }
        },
        "d2ecd12c9ce043d0bf21b28593870ce0": {
          "model_module": "@jupyter-widgets/controls",
          "model_name": "DescriptionStyleModel",
          "model_module_version": "1.5.0",
          "state": {
            "_model_module": "@jupyter-widgets/controls",
            "_model_module_version": "1.5.0",
            "_model_name": "DescriptionStyleModel",
            "_view_count": null,
            "_view_module": "@jupyter-widgets/base",
            "_view_module_version": "1.2.0",
            "_view_name": "StyleView",
            "description_width": ""
          }
        },
        "01a4dcd199a148089193b3d1f8668469": {
          "model_module": "@jupyter-widgets/base",
          "model_name": "LayoutModel",
          "model_module_version": "1.2.0",
          "state": {
            "_model_module": "@jupyter-widgets/base",
            "_model_module_version": "1.2.0",
            "_model_name": "LayoutModel",
            "_view_count": null,
            "_view_module": "@jupyter-widgets/base",
            "_view_module_version": "1.2.0",
            "_view_name": "LayoutView",
            "align_content": null,
            "align_items": null,
            "align_self": null,
            "border": null,
            "bottom": null,
            "display": null,
            "flex": null,
            "flex_flow": null,
            "grid_area": null,
            "grid_auto_columns": null,
            "grid_auto_flow": null,
            "grid_auto_rows": null,
            "grid_column": null,
            "grid_gap": null,
            "grid_row": null,
            "grid_template_areas": null,
            "grid_template_columns": null,
            "grid_template_rows": null,
            "height": null,
            "justify_content": null,
            "justify_items": null,
            "left": null,
            "margin": null,
            "max_height": null,
            "max_width": null,
            "min_height": null,
            "min_width": null,
            "object_fit": null,
            "object_position": null,
            "order": null,
            "overflow": null,
            "overflow_x": null,
            "overflow_y": null,
            "padding": null,
            "right": null,
            "top": null,
            "visibility": null,
            "width": null
          }
        },
        "6f577ed628aa43aeb3a42bbf198ef1ca": {
          "model_module": "@jupyter-widgets/controls",
          "model_name": "ProgressStyleModel",
          "model_module_version": "1.5.0",
          "state": {
            "_model_module": "@jupyter-widgets/controls",
            "_model_module_version": "1.5.0",
            "_model_name": "ProgressStyleModel",
            "_view_count": null,
            "_view_module": "@jupyter-widgets/base",
            "_view_module_version": "1.2.0",
            "_view_name": "StyleView",
            "bar_color": null,
            "description_width": ""
          }
        },
        "c15213df49d145148f260f04ca572bbe": {
          "model_module": "@jupyter-widgets/base",
          "model_name": "LayoutModel",
          "model_module_version": "1.2.0",
          "state": {
            "_model_module": "@jupyter-widgets/base",
            "_model_module_version": "1.2.0",
            "_model_name": "LayoutModel",
            "_view_count": null,
            "_view_module": "@jupyter-widgets/base",
            "_view_module_version": "1.2.0",
            "_view_name": "LayoutView",
            "align_content": null,
            "align_items": null,
            "align_self": null,
            "border": null,
            "bottom": null,
            "display": null,
            "flex": null,
            "flex_flow": null,
            "grid_area": null,
            "grid_auto_columns": null,
            "grid_auto_flow": null,
            "grid_auto_rows": null,
            "grid_column": null,
            "grid_gap": null,
            "grid_row": null,
            "grid_template_areas": null,
            "grid_template_columns": null,
            "grid_template_rows": null,
            "height": null,
            "justify_content": null,
            "justify_items": null,
            "left": null,
            "margin": null,
            "max_height": null,
            "max_width": null,
            "min_height": null,
            "min_width": null,
            "object_fit": null,
            "object_position": null,
            "order": null,
            "overflow": null,
            "overflow_x": null,
            "overflow_y": null,
            "padding": null,
            "right": null,
            "top": null,
            "visibility": null,
            "width": null
          }
        },
        "029ba6cb3405459da856c7653745d2c8": {
          "model_module": "@jupyter-widgets/controls",
          "model_name": "DescriptionStyleModel",
          "model_module_version": "1.5.0",
          "state": {
            "_model_module": "@jupyter-widgets/controls",
            "_model_module_version": "1.5.0",
            "_model_name": "DescriptionStyleModel",
            "_view_count": null,
            "_view_module": "@jupyter-widgets/base",
            "_view_module_version": "1.2.0",
            "_view_name": "StyleView",
            "description_width": ""
          }
        },
        "149fc09be919465c9bdd6bf6417d9e6f": {
          "model_module": "@jupyter-widgets/controls",
          "model_name": "HBoxModel",
          "model_module_version": "1.5.0",
          "state": {
            "_dom_classes": [],
            "_model_module": "@jupyter-widgets/controls",
            "_model_module_version": "1.5.0",
            "_model_name": "HBoxModel",
            "_view_count": null,
            "_view_module": "@jupyter-widgets/controls",
            "_view_module_version": "1.5.0",
            "_view_name": "HBoxView",
            "box_style": "",
            "children": [
              "IPY_MODEL_46c5690859864bed952b405f1c2305e8",
              "IPY_MODEL_40d878f0b6aa4e65bfd63f493633c35a",
              "IPY_MODEL_c58548ccbe7d42a6bf6a1127e4d22da1"
            ],
            "layout": "IPY_MODEL_f936602d628442a2ab25d1241d6f895e"
          }
        },
        "46c5690859864bed952b405f1c2305e8": {
          "model_module": "@jupyter-widgets/controls",
          "model_name": "HTMLModel",
          "model_module_version": "1.5.0",
          "state": {
            "_dom_classes": [],
            "_model_module": "@jupyter-widgets/controls",
            "_model_module_version": "1.5.0",
            "_model_name": "HTMLModel",
            "_view_count": null,
            "_view_module": "@jupyter-widgets/controls",
            "_view_module_version": "1.5.0",
            "_view_name": "HTMLView",
            "description": "",
            "description_tooltip": null,
            "layout": "IPY_MODEL_0a535c2d68644b39835151ed711cd7b5",
            "placeholder": "​",
            "style": "IPY_MODEL_0b91aadffef6424288663d215404aed2",
            "value": "sentencepiece.bpe.model: 100%"
          }
        },
        "40d878f0b6aa4e65bfd63f493633c35a": {
          "model_module": "@jupyter-widgets/controls",
          "model_name": "FloatProgressModel",
          "model_module_version": "1.5.0",
          "state": {
            "_dom_classes": [],
            "_model_module": "@jupyter-widgets/controls",
            "_model_module_version": "1.5.0",
            "_model_name": "FloatProgressModel",
            "_view_count": null,
            "_view_module": "@jupyter-widgets/controls",
            "_view_module_version": "1.5.0",
            "_view_name": "ProgressView",
            "bar_style": "success",
            "description": "",
            "description_tooltip": null,
            "layout": "IPY_MODEL_ad24c53de9c54356adae465e3dd37bde",
            "max": 5069051,
            "min": 0,
            "orientation": "horizontal",
            "style": "IPY_MODEL_a0fb59204ff64b7fbfab1e3879df0aad",
            "value": 5069051
          }
        },
        "c58548ccbe7d42a6bf6a1127e4d22da1": {
          "model_module": "@jupyter-widgets/controls",
          "model_name": "HTMLModel",
          "model_module_version": "1.5.0",
          "state": {
            "_dom_classes": [],
            "_model_module": "@jupyter-widgets/controls",
            "_model_module_version": "1.5.0",
            "_model_name": "HTMLModel",
            "_view_count": null,
            "_view_module": "@jupyter-widgets/controls",
            "_view_module_version": "1.5.0",
            "_view_name": "HTMLView",
            "description": "",
            "description_tooltip": null,
            "layout": "IPY_MODEL_aa411032026044cdbe023c8b17e4a257",
            "placeholder": "​",
            "style": "IPY_MODEL_ea141d74321b4600a29395197ba27890",
            "value": " 5.07M/5.07M [00:00&lt;00:00, 11.1MB/s]"
          }
        },
        "f936602d628442a2ab25d1241d6f895e": {
          "model_module": "@jupyter-widgets/base",
          "model_name": "LayoutModel",
          "model_module_version": "1.2.0",
          "state": {
            "_model_module": "@jupyter-widgets/base",
            "_model_module_version": "1.2.0",
            "_model_name": "LayoutModel",
            "_view_count": null,
            "_view_module": "@jupyter-widgets/base",
            "_view_module_version": "1.2.0",
            "_view_name": "LayoutView",
            "align_content": null,
            "align_items": null,
            "align_self": null,
            "border": null,
            "bottom": null,
            "display": null,
            "flex": null,
            "flex_flow": null,
            "grid_area": null,
            "grid_auto_columns": null,
            "grid_auto_flow": null,
            "grid_auto_rows": null,
            "grid_column": null,
            "grid_gap": null,
            "grid_row": null,
            "grid_template_areas": null,
            "grid_template_columns": null,
            "grid_template_rows": null,
            "height": null,
            "justify_content": null,
            "justify_items": null,
            "left": null,
            "margin": null,
            "max_height": null,
            "max_width": null,
            "min_height": null,
            "min_width": null,
            "object_fit": null,
            "object_position": null,
            "order": null,
            "overflow": null,
            "overflow_x": null,
            "overflow_y": null,
            "padding": null,
            "right": null,
            "top": null,
            "visibility": null,
            "width": null
          }
        },
        "0a535c2d68644b39835151ed711cd7b5": {
          "model_module": "@jupyter-widgets/base",
          "model_name": "LayoutModel",
          "model_module_version": "1.2.0",
          "state": {
            "_model_module": "@jupyter-widgets/base",
            "_model_module_version": "1.2.0",
            "_model_name": "LayoutModel",
            "_view_count": null,
            "_view_module": "@jupyter-widgets/base",
            "_view_module_version": "1.2.0",
            "_view_name": "LayoutView",
            "align_content": null,
            "align_items": null,
            "align_self": null,
            "border": null,
            "bottom": null,
            "display": null,
            "flex": null,
            "flex_flow": null,
            "grid_area": null,
            "grid_auto_columns": null,
            "grid_auto_flow": null,
            "grid_auto_rows": null,
            "grid_column": null,
            "grid_gap": null,
            "grid_row": null,
            "grid_template_areas": null,
            "grid_template_columns": null,
            "grid_template_rows": null,
            "height": null,
            "justify_content": null,
            "justify_items": null,
            "left": null,
            "margin": null,
            "max_height": null,
            "max_width": null,
            "min_height": null,
            "min_width": null,
            "object_fit": null,
            "object_position": null,
            "order": null,
            "overflow": null,
            "overflow_x": null,
            "overflow_y": null,
            "padding": null,
            "right": null,
            "top": null,
            "visibility": null,
            "width": null
          }
        },
        "0b91aadffef6424288663d215404aed2": {
          "model_module": "@jupyter-widgets/controls",
          "model_name": "DescriptionStyleModel",
          "model_module_version": "1.5.0",
          "state": {
            "_model_module": "@jupyter-widgets/controls",
            "_model_module_version": "1.5.0",
            "_model_name": "DescriptionStyleModel",
            "_view_count": null,
            "_view_module": "@jupyter-widgets/base",
            "_view_module_version": "1.2.0",
            "_view_name": "StyleView",
            "description_width": ""
          }
        },
        "ad24c53de9c54356adae465e3dd37bde": {
          "model_module": "@jupyter-widgets/base",
          "model_name": "LayoutModel",
          "model_module_version": "1.2.0",
          "state": {
            "_model_module": "@jupyter-widgets/base",
            "_model_module_version": "1.2.0",
            "_model_name": "LayoutModel",
            "_view_count": null,
            "_view_module": "@jupyter-widgets/base",
            "_view_module_version": "1.2.0",
            "_view_name": "LayoutView",
            "align_content": null,
            "align_items": null,
            "align_self": null,
            "border": null,
            "bottom": null,
            "display": null,
            "flex": null,
            "flex_flow": null,
            "grid_area": null,
            "grid_auto_columns": null,
            "grid_auto_flow": null,
            "grid_auto_rows": null,
            "grid_column": null,
            "grid_gap": null,
            "grid_row": null,
            "grid_template_areas": null,
            "grid_template_columns": null,
            "grid_template_rows": null,
            "height": null,
            "justify_content": null,
            "justify_items": null,
            "left": null,
            "margin": null,
            "max_height": null,
            "max_width": null,
            "min_height": null,
            "min_width": null,
            "object_fit": null,
            "object_position": null,
            "order": null,
            "overflow": null,
            "overflow_x": null,
            "overflow_y": null,
            "padding": null,
            "right": null,
            "top": null,
            "visibility": null,
            "width": null
          }
        },
        "a0fb59204ff64b7fbfab1e3879df0aad": {
          "model_module": "@jupyter-widgets/controls",
          "model_name": "ProgressStyleModel",
          "model_module_version": "1.5.0",
          "state": {
            "_model_module": "@jupyter-widgets/controls",
            "_model_module_version": "1.5.0",
            "_model_name": "ProgressStyleModel",
            "_view_count": null,
            "_view_module": "@jupyter-widgets/base",
            "_view_module_version": "1.2.0",
            "_view_name": "StyleView",
            "bar_color": null,
            "description_width": ""
          }
        },
        "aa411032026044cdbe023c8b17e4a257": {
          "model_module": "@jupyter-widgets/base",
          "model_name": "LayoutModel",
          "model_module_version": "1.2.0",
          "state": {
            "_model_module": "@jupyter-widgets/base",
            "_model_module_version": "1.2.0",
            "_model_name": "LayoutModel",
            "_view_count": null,
            "_view_module": "@jupyter-widgets/base",
            "_view_module_version": "1.2.0",
            "_view_name": "LayoutView",
            "align_content": null,
            "align_items": null,
            "align_self": null,
            "border": null,
            "bottom": null,
            "display": null,
            "flex": null,
            "flex_flow": null,
            "grid_area": null,
            "grid_auto_columns": null,
            "grid_auto_flow": null,
            "grid_auto_rows": null,
            "grid_column": null,
            "grid_gap": null,
            "grid_row": null,
            "grid_template_areas": null,
            "grid_template_columns": null,
            "grid_template_rows": null,
            "height": null,
            "justify_content": null,
            "justify_items": null,
            "left": null,
            "margin": null,
            "max_height": null,
            "max_width": null,
            "min_height": null,
            "min_width": null,
            "object_fit": null,
            "object_position": null,
            "order": null,
            "overflow": null,
            "overflow_x": null,
            "overflow_y": null,
            "padding": null,
            "right": null,
            "top": null,
            "visibility": null,
            "width": null
          }
        },
        "ea141d74321b4600a29395197ba27890": {
          "model_module": "@jupyter-widgets/controls",
          "model_name": "DescriptionStyleModel",
          "model_module_version": "1.5.0",
          "state": {
            "_model_module": "@jupyter-widgets/controls",
            "_model_module_version": "1.5.0",
            "_model_name": "DescriptionStyleModel",
            "_view_count": null,
            "_view_module": "@jupyter-widgets/base",
            "_view_module_version": "1.2.0",
            "_view_name": "StyleView",
            "description_width": ""
          }
        },
        "85e88e04906a410398af2ea345eefa82": {
          "model_module": "@jupyter-widgets/controls",
          "model_name": "HBoxModel",
          "model_module_version": "1.5.0",
          "state": {
            "_dom_classes": [],
            "_model_module": "@jupyter-widgets/controls",
            "_model_module_version": "1.5.0",
            "_model_name": "HBoxModel",
            "_view_count": null,
            "_view_module": "@jupyter-widgets/controls",
            "_view_module_version": "1.5.0",
            "_view_name": "HBoxView",
            "box_style": "",
            "children": [
              "IPY_MODEL_b092ac661b004943afe7716d49bde831",
              "IPY_MODEL_933e819aab3c45c4a527f5ce17d2cab4",
              "IPY_MODEL_d5a3b99969b64881997943e48e2be1d4"
            ],
            "layout": "IPY_MODEL_e7ebad590453490fae89c51629c6a524"
          }
        },
        "b092ac661b004943afe7716d49bde831": {
          "model_module": "@jupyter-widgets/controls",
          "model_name": "HTMLModel",
          "model_module_version": "1.5.0",
          "state": {
            "_dom_classes": [],
            "_model_module": "@jupyter-widgets/controls",
            "_model_module_version": "1.5.0",
            "_model_name": "HTMLModel",
            "_view_count": null,
            "_view_module": "@jupyter-widgets/controls",
            "_view_module_version": "1.5.0",
            "_view_name": "HTMLView",
            "description": "",
            "description_tooltip": null,
            "layout": "IPY_MODEL_eedb0b20fc4f470ba3f22bf47bda4d7b",
            "placeholder": "​",
            "style": "IPY_MODEL_b60d51efd72b4e6aba19360113d5a9a3",
            "value": "tokenizer.json: 100%"
          }
        },
        "933e819aab3c45c4a527f5ce17d2cab4": {
          "model_module": "@jupyter-widgets/controls",
          "model_name": "FloatProgressModel",
          "model_module_version": "1.5.0",
          "state": {
            "_dom_classes": [],
            "_model_module": "@jupyter-widgets/controls",
            "_model_module_version": "1.5.0",
            "_model_name": "FloatProgressModel",
            "_view_count": null,
            "_view_module": "@jupyter-widgets/controls",
            "_view_module_version": "1.5.0",
            "_view_name": "ProgressView",
            "bar_style": "success",
            "description": "",
            "description_tooltip": null,
            "layout": "IPY_MODEL_03be322d13bb4399a37b3fac2017708b",
            "max": 9096718,
            "min": 0,
            "orientation": "horizontal",
            "style": "IPY_MODEL_4b0f84314af6471384d779899f022043",
            "value": 9096718
          }
        },
        "d5a3b99969b64881997943e48e2be1d4": {
          "model_module": "@jupyter-widgets/controls",
          "model_name": "HTMLModel",
          "model_module_version": "1.5.0",
          "state": {
            "_dom_classes": [],
            "_model_module": "@jupyter-widgets/controls",
            "_model_module_version": "1.5.0",
            "_model_name": "HTMLModel",
            "_view_count": null,
            "_view_module": "@jupyter-widgets/controls",
            "_view_module_version": "1.5.0",
            "_view_name": "HTMLView",
            "description": "",
            "description_tooltip": null,
            "layout": "IPY_MODEL_834a27933e62432ca80ade43819a3e1c",
            "placeholder": "​",
            "style": "IPY_MODEL_edfd47f9ac1145c682115f55b4156bd2",
            "value": " 9.10M/9.10M [00:00&lt;00:00, 21.6MB/s]"
          }
        },
        "e7ebad590453490fae89c51629c6a524": {
          "model_module": "@jupyter-widgets/base",
          "model_name": "LayoutModel",
          "model_module_version": "1.2.0",
          "state": {
            "_model_module": "@jupyter-widgets/base",
            "_model_module_version": "1.2.0",
            "_model_name": "LayoutModel",
            "_view_count": null,
            "_view_module": "@jupyter-widgets/base",
            "_view_module_version": "1.2.0",
            "_view_name": "LayoutView",
            "align_content": null,
            "align_items": null,
            "align_self": null,
            "border": null,
            "bottom": null,
            "display": null,
            "flex": null,
            "flex_flow": null,
            "grid_area": null,
            "grid_auto_columns": null,
            "grid_auto_flow": null,
            "grid_auto_rows": null,
            "grid_column": null,
            "grid_gap": null,
            "grid_row": null,
            "grid_template_areas": null,
            "grid_template_columns": null,
            "grid_template_rows": null,
            "height": null,
            "justify_content": null,
            "justify_items": null,
            "left": null,
            "margin": null,
            "max_height": null,
            "max_width": null,
            "min_height": null,
            "min_width": null,
            "object_fit": null,
            "object_position": null,
            "order": null,
            "overflow": null,
            "overflow_x": null,
            "overflow_y": null,
            "padding": null,
            "right": null,
            "top": null,
            "visibility": null,
            "width": null
          }
        },
        "eedb0b20fc4f470ba3f22bf47bda4d7b": {
          "model_module": "@jupyter-widgets/base",
          "model_name": "LayoutModel",
          "model_module_version": "1.2.0",
          "state": {
            "_model_module": "@jupyter-widgets/base",
            "_model_module_version": "1.2.0",
            "_model_name": "LayoutModel",
            "_view_count": null,
            "_view_module": "@jupyter-widgets/base",
            "_view_module_version": "1.2.0",
            "_view_name": "LayoutView",
            "align_content": null,
            "align_items": null,
            "align_self": null,
            "border": null,
            "bottom": null,
            "display": null,
            "flex": null,
            "flex_flow": null,
            "grid_area": null,
            "grid_auto_columns": null,
            "grid_auto_flow": null,
            "grid_auto_rows": null,
            "grid_column": null,
            "grid_gap": null,
            "grid_row": null,
            "grid_template_areas": null,
            "grid_template_columns": null,
            "grid_template_rows": null,
            "height": null,
            "justify_content": null,
            "justify_items": null,
            "left": null,
            "margin": null,
            "max_height": null,
            "max_width": null,
            "min_height": null,
            "min_width": null,
            "object_fit": null,
            "object_position": null,
            "order": null,
            "overflow": null,
            "overflow_x": null,
            "overflow_y": null,
            "padding": null,
            "right": null,
            "top": null,
            "visibility": null,
            "width": null
          }
        },
        "b60d51efd72b4e6aba19360113d5a9a3": {
          "model_module": "@jupyter-widgets/controls",
          "model_name": "DescriptionStyleModel",
          "model_module_version": "1.5.0",
          "state": {
            "_model_module": "@jupyter-widgets/controls",
            "_model_module_version": "1.5.0",
            "_model_name": "DescriptionStyleModel",
            "_view_count": null,
            "_view_module": "@jupyter-widgets/base",
            "_view_module_version": "1.2.0",
            "_view_name": "StyleView",
            "description_width": ""
          }
        },
        "03be322d13bb4399a37b3fac2017708b": {
          "model_module": "@jupyter-widgets/base",
          "model_name": "LayoutModel",
          "model_module_version": "1.2.0",
          "state": {
            "_model_module": "@jupyter-widgets/base",
            "_model_module_version": "1.2.0",
            "_model_name": "LayoutModel",
            "_view_count": null,
            "_view_module": "@jupyter-widgets/base",
            "_view_module_version": "1.2.0",
            "_view_name": "LayoutView",
            "align_content": null,
            "align_items": null,
            "align_self": null,
            "border": null,
            "bottom": null,
            "display": null,
            "flex": null,
            "flex_flow": null,
            "grid_area": null,
            "grid_auto_columns": null,
            "grid_auto_flow": null,
            "grid_auto_rows": null,
            "grid_column": null,
            "grid_gap": null,
            "grid_row": null,
            "grid_template_areas": null,
            "grid_template_columns": null,
            "grid_template_rows": null,
            "height": null,
            "justify_content": null,
            "justify_items": null,
            "left": null,
            "margin": null,
            "max_height": null,
            "max_width": null,
            "min_height": null,
            "min_width": null,
            "object_fit": null,
            "object_position": null,
            "order": null,
            "overflow": null,
            "overflow_x": null,
            "overflow_y": null,
            "padding": null,
            "right": null,
            "top": null,
            "visibility": null,
            "width": null
          }
        },
        "4b0f84314af6471384d779899f022043": {
          "model_module": "@jupyter-widgets/controls",
          "model_name": "ProgressStyleModel",
          "model_module_version": "1.5.0",
          "state": {
            "_model_module": "@jupyter-widgets/controls",
            "_model_module_version": "1.5.0",
            "_model_name": "ProgressStyleModel",
            "_view_count": null,
            "_view_module": "@jupyter-widgets/base",
            "_view_module_version": "1.2.0",
            "_view_name": "StyleView",
            "bar_color": null,
            "description_width": ""
          }
        },
        "834a27933e62432ca80ade43819a3e1c": {
          "model_module": "@jupyter-widgets/base",
          "model_name": "LayoutModel",
          "model_module_version": "1.2.0",
          "state": {
            "_model_module": "@jupyter-widgets/base",
            "_model_module_version": "1.2.0",
            "_model_name": "LayoutModel",
            "_view_count": null,
            "_view_module": "@jupyter-widgets/base",
            "_view_module_version": "1.2.0",
            "_view_name": "LayoutView",
            "align_content": null,
            "align_items": null,
            "align_self": null,
            "border": null,
            "bottom": null,
            "display": null,
            "flex": null,
            "flex_flow": null,
            "grid_area": null,
            "grid_auto_columns": null,
            "grid_auto_flow": null,
            "grid_auto_rows": null,
            "grid_column": null,
            "grid_gap": null,
            "grid_row": null,
            "grid_template_areas": null,
            "grid_template_columns": null,
            "grid_template_rows": null,
            "height": null,
            "justify_content": null,
            "justify_items": null,
            "left": null,
            "margin": null,
            "max_height": null,
            "max_width": null,
            "min_height": null,
            "min_width": null,
            "object_fit": null,
            "object_position": null,
            "order": null,
            "overflow": null,
            "overflow_x": null,
            "overflow_y": null,
            "padding": null,
            "right": null,
            "top": null,
            "visibility": null,
            "width": null
          }
        },
        "edfd47f9ac1145c682115f55b4156bd2": {
          "model_module": "@jupyter-widgets/controls",
          "model_name": "DescriptionStyleModel",
          "model_module_version": "1.5.0",
          "state": {
            "_model_module": "@jupyter-widgets/controls",
            "_model_module_version": "1.5.0",
            "_model_name": "DescriptionStyleModel",
            "_view_count": null,
            "_view_module": "@jupyter-widgets/base",
            "_view_module_version": "1.2.0",
            "_view_name": "StyleView",
            "description_width": ""
          }
        },
        "cf454c52f9a640249dd2eeb80930c314": {
          "model_module": "@jupyter-widgets/controls",
          "model_name": "HBoxModel",
          "model_module_version": "1.5.0",
          "state": {
            "_dom_classes": [],
            "_model_module": "@jupyter-widgets/controls",
            "_model_module_version": "1.5.0",
            "_model_name": "HBoxModel",
            "_view_count": null,
            "_view_module": "@jupyter-widgets/controls",
            "_view_module_version": "1.5.0",
            "_view_name": "HBoxView",
            "box_style": "",
            "children": [
              "IPY_MODEL_ebe7729543b4471aa6c88c36d9419608",
              "IPY_MODEL_4b341e3618de42afb28e1e4cab2303bf",
              "IPY_MODEL_c16225667e824e649897001ca2dd11fb"
            ],
            "layout": "IPY_MODEL_e844b7ae9dab4dcf984a26dcd6572cc8"
          }
        },
        "ebe7729543b4471aa6c88c36d9419608": {
          "model_module": "@jupyter-widgets/controls",
          "model_name": "HTMLModel",
          "model_module_version": "1.5.0",
          "state": {
            "_dom_classes": [],
            "_model_module": "@jupyter-widgets/controls",
            "_model_module_version": "1.5.0",
            "_model_name": "HTMLModel",
            "_view_count": null,
            "_view_module": "@jupyter-widgets/controls",
            "_view_module_version": "1.5.0",
            "_view_name": "HTMLView",
            "description": "",
            "description_tooltip": null,
            "layout": "IPY_MODEL_509bca18f3e94abfb8e1a2eb78cbc936",
            "placeholder": "​",
            "style": "IPY_MODEL_d8955602d46e40d8b2b1fe7f68c8ed50",
            "value": "model.safetensors: 100%"
          }
        },
        "4b341e3618de42afb28e1e4cab2303bf": {
          "model_module": "@jupyter-widgets/controls",
          "model_name": "FloatProgressModel",
          "model_module_version": "1.5.0",
          "state": {
            "_dom_classes": [],
            "_model_module": "@jupyter-widgets/controls",
            "_model_module_version": "1.5.0",
            "_model_name": "FloatProgressModel",
            "_view_count": null,
            "_view_module": "@jupyter-widgets/controls",
            "_view_module_version": "1.5.0",
            "_view_name": "ProgressView",
            "bar_style": "success",
            "description": "",
            "description_tooltip": null,
            "layout": "IPY_MODEL_686b734f88bc44618eb1f9f8333af5f3",
            "max": 1115567652,
            "min": 0,
            "orientation": "horizontal",
            "style": "IPY_MODEL_73e2a4be54bc479ab8a724637b65bdc2",
            "value": 1115567652
          }
        },
        "c16225667e824e649897001ca2dd11fb": {
          "model_module": "@jupyter-widgets/controls",
          "model_name": "HTMLModel",
          "model_module_version": "1.5.0",
          "state": {
            "_dom_classes": [],
            "_model_module": "@jupyter-widgets/controls",
            "_model_module_version": "1.5.0",
            "_model_name": "HTMLModel",
            "_view_count": null,
            "_view_module": "@jupyter-widgets/controls",
            "_view_module_version": "1.5.0",
            "_view_name": "HTMLView",
            "description": "",
            "description_tooltip": null,
            "layout": "IPY_MODEL_db19ab19a412431495fa3ceb092d656b",
            "placeholder": "​",
            "style": "IPY_MODEL_7a74d2ce039144e980f6031cb976b5ff",
            "value": " 1.12G/1.12G [00:22&lt;00:00, 56.9MB/s]"
          }
        },
        "e844b7ae9dab4dcf984a26dcd6572cc8": {
          "model_module": "@jupyter-widgets/base",
          "model_name": "LayoutModel",
          "model_module_version": "1.2.0",
          "state": {
            "_model_module": "@jupyter-widgets/base",
            "_model_module_version": "1.2.0",
            "_model_name": "LayoutModel",
            "_view_count": null,
            "_view_module": "@jupyter-widgets/base",
            "_view_module_version": "1.2.0",
            "_view_name": "LayoutView",
            "align_content": null,
            "align_items": null,
            "align_self": null,
            "border": null,
            "bottom": null,
            "display": null,
            "flex": null,
            "flex_flow": null,
            "grid_area": null,
            "grid_auto_columns": null,
            "grid_auto_flow": null,
            "grid_auto_rows": null,
            "grid_column": null,
            "grid_gap": null,
            "grid_row": null,
            "grid_template_areas": null,
            "grid_template_columns": null,
            "grid_template_rows": null,
            "height": null,
            "justify_content": null,
            "justify_items": null,
            "left": null,
            "margin": null,
            "max_height": null,
            "max_width": null,
            "min_height": null,
            "min_width": null,
            "object_fit": null,
            "object_position": null,
            "order": null,
            "overflow": null,
            "overflow_x": null,
            "overflow_y": null,
            "padding": null,
            "right": null,
            "top": null,
            "visibility": null,
            "width": null
          }
        },
        "509bca18f3e94abfb8e1a2eb78cbc936": {
          "model_module": "@jupyter-widgets/base",
          "model_name": "LayoutModel",
          "model_module_version": "1.2.0",
          "state": {
            "_model_module": "@jupyter-widgets/base",
            "_model_module_version": "1.2.0",
            "_model_name": "LayoutModel",
            "_view_count": null,
            "_view_module": "@jupyter-widgets/base",
            "_view_module_version": "1.2.0",
            "_view_name": "LayoutView",
            "align_content": null,
            "align_items": null,
            "align_self": null,
            "border": null,
            "bottom": null,
            "display": null,
            "flex": null,
            "flex_flow": null,
            "grid_area": null,
            "grid_auto_columns": null,
            "grid_auto_flow": null,
            "grid_auto_rows": null,
            "grid_column": null,
            "grid_gap": null,
            "grid_row": null,
            "grid_template_areas": null,
            "grid_template_columns": null,
            "grid_template_rows": null,
            "height": null,
            "justify_content": null,
            "justify_items": null,
            "left": null,
            "margin": null,
            "max_height": null,
            "max_width": null,
            "min_height": null,
            "min_width": null,
            "object_fit": null,
            "object_position": null,
            "order": null,
            "overflow": null,
            "overflow_x": null,
            "overflow_y": null,
            "padding": null,
            "right": null,
            "top": null,
            "visibility": null,
            "width": null
          }
        },
        "d8955602d46e40d8b2b1fe7f68c8ed50": {
          "model_module": "@jupyter-widgets/controls",
          "model_name": "DescriptionStyleModel",
          "model_module_version": "1.5.0",
          "state": {
            "_model_module": "@jupyter-widgets/controls",
            "_model_module_version": "1.5.0",
            "_model_name": "DescriptionStyleModel",
            "_view_count": null,
            "_view_module": "@jupyter-widgets/base",
            "_view_module_version": "1.2.0",
            "_view_name": "StyleView",
            "description_width": ""
          }
        },
        "686b734f88bc44618eb1f9f8333af5f3": {
          "model_module": "@jupyter-widgets/base",
          "model_name": "LayoutModel",
          "model_module_version": "1.2.0",
          "state": {
            "_model_module": "@jupyter-widgets/base",
            "_model_module_version": "1.2.0",
            "_model_name": "LayoutModel",
            "_view_count": null,
            "_view_module": "@jupyter-widgets/base",
            "_view_module_version": "1.2.0",
            "_view_name": "LayoutView",
            "align_content": null,
            "align_items": null,
            "align_self": null,
            "border": null,
            "bottom": null,
            "display": null,
            "flex": null,
            "flex_flow": null,
            "grid_area": null,
            "grid_auto_columns": null,
            "grid_auto_flow": null,
            "grid_auto_rows": null,
            "grid_column": null,
            "grid_gap": null,
            "grid_row": null,
            "grid_template_areas": null,
            "grid_template_columns": null,
            "grid_template_rows": null,
            "height": null,
            "justify_content": null,
            "justify_items": null,
            "left": null,
            "margin": null,
            "max_height": null,
            "max_width": null,
            "min_height": null,
            "min_width": null,
            "object_fit": null,
            "object_position": null,
            "order": null,
            "overflow": null,
            "overflow_x": null,
            "overflow_y": null,
            "padding": null,
            "right": null,
            "top": null,
            "visibility": null,
            "width": null
          }
        },
        "73e2a4be54bc479ab8a724637b65bdc2": {
          "model_module": "@jupyter-widgets/controls",
          "model_name": "ProgressStyleModel",
          "model_module_version": "1.5.0",
          "state": {
            "_model_module": "@jupyter-widgets/controls",
            "_model_module_version": "1.5.0",
            "_model_name": "ProgressStyleModel",
            "_view_count": null,
            "_view_module": "@jupyter-widgets/base",
            "_view_module_version": "1.2.0",
            "_view_name": "StyleView",
            "bar_color": null,
            "description_width": ""
          }
        },
        "db19ab19a412431495fa3ceb092d656b": {
          "model_module": "@jupyter-widgets/base",
          "model_name": "LayoutModel",
          "model_module_version": "1.2.0",
          "state": {
            "_model_module": "@jupyter-widgets/base",
            "_model_module_version": "1.2.0",
            "_model_name": "LayoutModel",
            "_view_count": null,
            "_view_module": "@jupyter-widgets/base",
            "_view_module_version": "1.2.0",
            "_view_name": "LayoutView",
            "align_content": null,
            "align_items": null,
            "align_self": null,
            "border": null,
            "bottom": null,
            "display": null,
            "flex": null,
            "flex_flow": null,
            "grid_area": null,
            "grid_auto_columns": null,
            "grid_auto_flow": null,
            "grid_auto_rows": null,
            "grid_column": null,
            "grid_gap": null,
            "grid_row": null,
            "grid_template_areas": null,
            "grid_template_columns": null,
            "grid_template_rows": null,
            "height": null,
            "justify_content": null,
            "justify_items": null,
            "left": null,
            "margin": null,
            "max_height": null,
            "max_width": null,
            "min_height": null,
            "min_width": null,
            "object_fit": null,
            "object_position": null,
            "order": null,
            "overflow": null,
            "overflow_x": null,
            "overflow_y": null,
            "padding": null,
            "right": null,
            "top": null,
            "visibility": null,
            "width": null
          }
        },
        "7a74d2ce039144e980f6031cb976b5ff": {
          "model_module": "@jupyter-widgets/controls",
          "model_name": "DescriptionStyleModel",
          "model_module_version": "1.5.0",
          "state": {
            "_model_module": "@jupyter-widgets/controls",
            "_model_module_version": "1.5.0",
            "_model_name": "DescriptionStyleModel",
            "_view_count": null,
            "_view_module": "@jupyter-widgets/base",
            "_view_module_version": "1.2.0",
            "_view_name": "StyleView",
            "description_width": ""
          }
        }
      }
    }
  },
  "cells": [
    {
      "cell_type": "markdown",
      "source": [
        "##imports"
      ],
      "metadata": {
        "id": "LD0M3YecZ8hx"
      }
    },
    {
      "cell_type": "code",
      "source": [
        "!pip install datasets evaluate transformers[sentencepiece]"
      ],
      "metadata": {
        "id": "_pNpTP0Rodgi",
        "colab": {
          "base_uri": "https://localhost:8080/"
        },
        "outputId": "9993f040-7bbd-4193-d925-1f91c7e73a69"
      },
      "execution_count": null,
      "outputs": [
        {
          "output_type": "stream",
          "name": "stdout",
          "text": [
            "Collecting datasets\n",
            "  Downloading datasets-2.19.1-py3-none-any.whl (542 kB)\n",
            "\u001b[2K     \u001b[90m━━━━━━━━━━━━━━━━━━━━━━━━━━━━━━━━━━━━━━━━\u001b[0m \u001b[32m542.0/542.0 kB\u001b[0m \u001b[31m5.9 MB/s\u001b[0m eta \u001b[36m0:00:00\u001b[0m\n",
            "\u001b[?25hCollecting evaluate\n",
            "  Downloading evaluate-0.4.2-py3-none-any.whl (84 kB)\n",
            "\u001b[2K     \u001b[90m━━━━━━━━━━━━━━━━━━━━━━━━━━━━━━━━━━━━━━━━\u001b[0m \u001b[32m84.1/84.1 kB\u001b[0m \u001b[31m8.0 MB/s\u001b[0m eta \u001b[36m0:00:00\u001b[0m\n",
            "\u001b[?25hRequirement already satisfied: transformers[sentencepiece] in /usr/local/lib/python3.10/dist-packages (4.40.2)\n",
            "Requirement already satisfied: filelock in /usr/local/lib/python3.10/dist-packages (from datasets) (3.14.0)\n",
            "Requirement already satisfied: numpy>=1.17 in /usr/local/lib/python3.10/dist-packages (from datasets) (1.25.2)\n",
            "Requirement already satisfied: pyarrow>=12.0.0 in /usr/local/lib/python3.10/dist-packages (from datasets) (14.0.2)\n",
            "Requirement already satisfied: pyarrow-hotfix in /usr/local/lib/python3.10/dist-packages (from datasets) (0.6)\n",
            "Collecting dill<0.3.9,>=0.3.0 (from datasets)\n",
            "  Downloading dill-0.3.8-py3-none-any.whl (116 kB)\n",
            "\u001b[2K     \u001b[90m━━━━━━━━━━━━━━━━━━━━━━━━━━━━━━━━━━━━━━━━\u001b[0m \u001b[32m116.3/116.3 kB\u001b[0m \u001b[31m6.6 MB/s\u001b[0m eta \u001b[36m0:00:00\u001b[0m\n",
            "\u001b[?25hRequirement already satisfied: pandas in /usr/local/lib/python3.10/dist-packages (from datasets) (2.0.3)\n",
            "Requirement already satisfied: requests>=2.19.0 in /usr/local/lib/python3.10/dist-packages (from datasets) (2.31.0)\n",
            "Requirement already satisfied: tqdm>=4.62.1 in /usr/local/lib/python3.10/dist-packages (from datasets) (4.66.4)\n",
            "Collecting xxhash (from datasets)\n",
            "  Downloading xxhash-3.4.1-cp310-cp310-manylinux_2_17_x86_64.manylinux2014_x86_64.whl (194 kB)\n",
            "\u001b[2K     \u001b[90m━━━━━━━━━━━━━━━━━━━━━━━━━━━━━━━━━━━━━━━━\u001b[0m \u001b[32m194.1/194.1 kB\u001b[0m \u001b[31m7.0 MB/s\u001b[0m eta \u001b[36m0:00:00\u001b[0m\n",
            "\u001b[?25hCollecting multiprocess (from datasets)\n",
            "  Downloading multiprocess-0.70.16-py310-none-any.whl (134 kB)\n",
            "\u001b[2K     \u001b[90m━━━━━━━━━━━━━━━━━━━━━━━━━━━━━━━━━━━━━━━━\u001b[0m \u001b[32m134.8/134.8 kB\u001b[0m \u001b[31m3.3 MB/s\u001b[0m eta \u001b[36m0:00:00\u001b[0m\n",
            "\u001b[?25hRequirement already satisfied: fsspec[http]<=2024.3.1,>=2023.1.0 in /usr/local/lib/python3.10/dist-packages (from datasets) (2023.6.0)\n",
            "Requirement already satisfied: aiohttp in /usr/local/lib/python3.10/dist-packages (from datasets) (3.9.5)\n",
            "Collecting huggingface-hub>=0.21.2 (from datasets)\n",
            "  Downloading huggingface_hub-0.23.0-py3-none-any.whl (401 kB)\n",
            "\u001b[2K     \u001b[90m━━━━━━━━━━━━━━━━━━━━━━━━━━━━━━━━━━━━━━━━\u001b[0m \u001b[32m401.2/401.2 kB\u001b[0m \u001b[31m11.0 MB/s\u001b[0m eta \u001b[36m0:00:00\u001b[0m\n",
            "\u001b[?25hRequirement already satisfied: packaging in /usr/local/lib/python3.10/dist-packages (from datasets) (24.0)\n",
            "Requirement already satisfied: pyyaml>=5.1 in /usr/local/lib/python3.10/dist-packages (from datasets) (6.0.1)\n",
            "Requirement already satisfied: regex!=2019.12.17 in /usr/local/lib/python3.10/dist-packages (from transformers[sentencepiece]) (2023.12.25)\n",
            "Requirement already satisfied: tokenizers<0.20,>=0.19 in /usr/local/lib/python3.10/dist-packages (from transformers[sentencepiece]) (0.19.1)\n",
            "Requirement already satisfied: safetensors>=0.4.1 in /usr/local/lib/python3.10/dist-packages (from transformers[sentencepiece]) (0.4.3)\n",
            "Requirement already satisfied: sentencepiece!=0.1.92,>=0.1.91 in /usr/local/lib/python3.10/dist-packages (from transformers[sentencepiece]) (0.1.99)\n",
            "Requirement already satisfied: protobuf in /usr/local/lib/python3.10/dist-packages (from transformers[sentencepiece]) (3.20.3)\n",
            "Requirement already satisfied: aiosignal>=1.1.2 in /usr/local/lib/python3.10/dist-packages (from aiohttp->datasets) (1.3.1)\n",
            "Requirement already satisfied: attrs>=17.3.0 in /usr/local/lib/python3.10/dist-packages (from aiohttp->datasets) (23.2.0)\n",
            "Requirement already satisfied: frozenlist>=1.1.1 in /usr/local/lib/python3.10/dist-packages (from aiohttp->datasets) (1.4.1)\n",
            "Requirement already satisfied: multidict<7.0,>=4.5 in /usr/local/lib/python3.10/dist-packages (from aiohttp->datasets) (6.0.5)\n",
            "Requirement already satisfied: yarl<2.0,>=1.0 in /usr/local/lib/python3.10/dist-packages (from aiohttp->datasets) (1.9.4)\n",
            "Requirement already satisfied: async-timeout<5.0,>=4.0 in /usr/local/lib/python3.10/dist-packages (from aiohttp->datasets) (4.0.3)\n",
            "Requirement already satisfied: typing-extensions>=3.7.4.3 in /usr/local/lib/python3.10/dist-packages (from huggingface-hub>=0.21.2->datasets) (4.11.0)\n",
            "Requirement already satisfied: charset-normalizer<4,>=2 in /usr/local/lib/python3.10/dist-packages (from requests>=2.19.0->datasets) (3.3.2)\n",
            "Requirement already satisfied: idna<4,>=2.5 in /usr/local/lib/python3.10/dist-packages (from requests>=2.19.0->datasets) (3.7)\n",
            "Requirement already satisfied: urllib3<3,>=1.21.1 in /usr/local/lib/python3.10/dist-packages (from requests>=2.19.0->datasets) (2.0.7)\n",
            "Requirement already satisfied: certifi>=2017.4.17 in /usr/local/lib/python3.10/dist-packages (from requests>=2.19.0->datasets) (2024.2.2)\n",
            "Requirement already satisfied: python-dateutil>=2.8.2 in /usr/local/lib/python3.10/dist-packages (from pandas->datasets) (2.8.2)\n",
            "Requirement already satisfied: pytz>=2020.1 in /usr/local/lib/python3.10/dist-packages (from pandas->datasets) (2023.4)\n",
            "Requirement already satisfied: tzdata>=2022.1 in /usr/local/lib/python3.10/dist-packages (from pandas->datasets) (2024.1)\n",
            "Requirement already satisfied: six>=1.5 in /usr/local/lib/python3.10/dist-packages (from python-dateutil>=2.8.2->pandas->datasets) (1.16.0)\n",
            "Installing collected packages: xxhash, dill, multiprocess, huggingface-hub, datasets, evaluate\n",
            "  Attempting uninstall: huggingface-hub\n",
            "    Found existing installation: huggingface-hub 0.20.3\n",
            "    Uninstalling huggingface-hub-0.20.3:\n",
            "      Successfully uninstalled huggingface-hub-0.20.3\n",
            "Successfully installed datasets-2.19.1 dill-0.3.8 evaluate-0.4.2 huggingface-hub-0.23.0 multiprocess-0.70.16 xxhash-3.4.1\n"
          ]
        }
      ]
    },
    {
      "cell_type": "code",
      "source": [
        "from transformers import BertTokenizer, BertModel, BertTokenizerFast\n",
        "import numpy as np\n",
        "import torch\n",
        "from transformers import DataCollatorWithPadding\n",
        "from datasets import Dataset\n",
        "from tqdm import tqdm\n",
        "import torch.nn.functional as F\n",
        "from datasets import load_dataset"
      ],
      "metadata": {
        "id": "1tKwcDipigX2"
      },
      "execution_count": null,
      "outputs": []
    },
    {
      "cell_type": "code",
      "source": [
        "from transformers import AutoTokenizer, AutoModelForMaskedLM, XLMRobertaModel\n",
        "\n",
        "tokenizer = AutoTokenizer.from_pretrained('xlm-roberta-base')\n",
        "encoder = XLMRobertaModel.from_pretrained('xlm-roberta-base')"
      ],
      "metadata": {
        "colab": {
          "base_uri": "https://localhost:8080/",
          "height": 336,
          "referenced_widgets": [
            "8ee5253719ac4e8781976797e423cb27",
            "295ee01cfb914c679a8fd806fa09b3d0",
            "ccce132daf3c4a4ca506af2e10564c5a",
            "9007eadda3d14944afcae43e17637777",
            "185d77b55c3a42deb4ba746016d85d62",
            "e4cd7bf742504f8cb217249f897002ed",
            "8148a81e64e14f38ad6e923f30711cac",
            "b2be695cbeec4d49942ea352b4ab8189",
            "c0e2d63bf4c74a35b0a16d4925adabc6",
            "414b6441ff12434090d1e640e6bf81f3",
            "843e9788311f4848be5a5c6c76ef63fd",
            "da185ac2e6504abd9d0e851e8c907be2",
            "1b016755d8c647f7a59bc5018e14fe5f",
            "2213048fcb2f4e94ae63852a016a6889",
            "0b979362c9c34f0da43c34e17451b483",
            "9ff688b7a56d4a60974b5c5d4514316e",
            "c673c212dc7447ce9bd5fafcda873ca3",
            "d2ecd12c9ce043d0bf21b28593870ce0",
            "01a4dcd199a148089193b3d1f8668469",
            "6f577ed628aa43aeb3a42bbf198ef1ca",
            "c15213df49d145148f260f04ca572bbe",
            "029ba6cb3405459da856c7653745d2c8",
            "149fc09be919465c9bdd6bf6417d9e6f",
            "46c5690859864bed952b405f1c2305e8",
            "40d878f0b6aa4e65bfd63f493633c35a",
            "c58548ccbe7d42a6bf6a1127e4d22da1",
            "f936602d628442a2ab25d1241d6f895e",
            "0a535c2d68644b39835151ed711cd7b5",
            "0b91aadffef6424288663d215404aed2",
            "ad24c53de9c54356adae465e3dd37bde",
            "a0fb59204ff64b7fbfab1e3879df0aad",
            "aa411032026044cdbe023c8b17e4a257",
            "ea141d74321b4600a29395197ba27890",
            "85e88e04906a410398af2ea345eefa82",
            "b092ac661b004943afe7716d49bde831",
            "933e819aab3c45c4a527f5ce17d2cab4",
            "d5a3b99969b64881997943e48e2be1d4",
            "e7ebad590453490fae89c51629c6a524",
            "eedb0b20fc4f470ba3f22bf47bda4d7b",
            "b60d51efd72b4e6aba19360113d5a9a3",
            "03be322d13bb4399a37b3fac2017708b",
            "4b0f84314af6471384d779899f022043",
            "834a27933e62432ca80ade43819a3e1c",
            "edfd47f9ac1145c682115f55b4156bd2",
            "cf454c52f9a640249dd2eeb80930c314",
            "ebe7729543b4471aa6c88c36d9419608",
            "4b341e3618de42afb28e1e4cab2303bf",
            "c16225667e824e649897001ca2dd11fb",
            "e844b7ae9dab4dcf984a26dcd6572cc8",
            "509bca18f3e94abfb8e1a2eb78cbc936",
            "d8955602d46e40d8b2b1fe7f68c8ed50",
            "686b734f88bc44618eb1f9f8333af5f3",
            "73e2a4be54bc479ab8a724637b65bdc2",
            "db19ab19a412431495fa3ceb092d656b",
            "7a74d2ce039144e980f6031cb976b5ff"
          ]
        },
        "id": "iJCvV2ZGh-Cz",
        "outputId": "3c2b90cb-0877-4c75-b404-74654e5b23ab"
      },
      "execution_count": null,
      "outputs": [
        {
          "output_type": "stream",
          "name": "stderr",
          "text": [
            "/usr/local/lib/python3.10/dist-packages/huggingface_hub/file_download.py:1132: FutureWarning: `resume_download` is deprecated and will be removed in version 1.0.0. Downloads always resume when possible. If you want to force a new download, use `force_download=True`.\n",
            "  warnings.warn(\n",
            "/usr/local/lib/python3.10/dist-packages/huggingface_hub/utils/_token.py:89: UserWarning: \n",
            "The secret `HF_TOKEN` does not exist in your Colab secrets.\n",
            "To authenticate with the Hugging Face Hub, create a token in your settings tab (https://huggingface.co/settings/tokens), set it as secret in your Google Colab and restart your session.\n",
            "You will be able to reuse this secret in all of your notebooks.\n",
            "Please note that authentication is recommended but still optional to access public models or datasets.\n",
            "  warnings.warn(\n"
          ]
        },
        {
          "output_type": "display_data",
          "data": {
            "text/plain": [
              "tokenizer_config.json:   0%|          | 0.00/25.0 [00:00<?, ?B/s]"
            ],
            "application/vnd.jupyter.widget-view+json": {
              "version_major": 2,
              "version_minor": 0,
              "model_id": "8ee5253719ac4e8781976797e423cb27"
            }
          },
          "metadata": {}
        },
        {
          "output_type": "display_data",
          "data": {
            "text/plain": [
              "config.json:   0%|          | 0.00/615 [00:00<?, ?B/s]"
            ],
            "application/vnd.jupyter.widget-view+json": {
              "version_major": 2,
              "version_minor": 0,
              "model_id": "da185ac2e6504abd9d0e851e8c907be2"
            }
          },
          "metadata": {}
        },
        {
          "output_type": "display_data",
          "data": {
            "text/plain": [
              "sentencepiece.bpe.model:   0%|          | 0.00/5.07M [00:00<?, ?B/s]"
            ],
            "application/vnd.jupyter.widget-view+json": {
              "version_major": 2,
              "version_minor": 0,
              "model_id": "149fc09be919465c9bdd6bf6417d9e6f"
            }
          },
          "metadata": {}
        },
        {
          "output_type": "display_data",
          "data": {
            "text/plain": [
              "tokenizer.json:   0%|          | 0.00/9.10M [00:00<?, ?B/s]"
            ],
            "application/vnd.jupyter.widget-view+json": {
              "version_major": 2,
              "version_minor": 0,
              "model_id": "85e88e04906a410398af2ea345eefa82"
            }
          },
          "metadata": {}
        },
        {
          "output_type": "display_data",
          "data": {
            "text/plain": [
              "model.safetensors:   0%|          | 0.00/1.12G [00:00<?, ?B/s]"
            ],
            "application/vnd.jupyter.widget-view+json": {
              "version_major": 2,
              "version_minor": 0,
              "model_id": "cf454c52f9a640249dd2eeb80930c314"
            }
          },
          "metadata": {}
        }
      ]
    },
    {
      "cell_type": "markdown",
      "source": [
        "##❌previous"
      ],
      "metadata": {
        "id": "1I6iyDEsjiP_"
      }
    },
    {
      "cell_type": "code",
      "source": [
        "# from transformers import BertTokenizerFast, BertModel\n",
        "# import numpy as np\n",
        "\n",
        "# tokenizer = BertTokenizerFast.from_pretrained('bert-base-multilingual-cased')\n",
        "# model = BertModel.from_pretrained(\"bert-base-multilingual-cased\")\n",
        "\n",
        "# text = 'Я йти до школи.'\n",
        "# # text = \"Привітаня для вас!\"\n",
        "\n",
        "# pos = text.find('йти')\n",
        "\n",
        "\n",
        "# example = tokenizer.encode_plus(text, return_tensors='pt', padding=True, truncation=True)\n",
        "# token_ids_word = np.where(np.array(example.word_ids()) == 1)\n",
        "# print(token_ids_word)\n",
        "\n",
        "# output = model(**example)\n",
        "# sentence_word_ids = example.word_ids()\n",
        "\n",
        "# source_word_idxs = [idx for idx, word_id in enumerate(sentence_word_ids) if word_id is not None and word_id == pos]\n",
        "# print(source_word_idxs)\n",
        "\n",
        "# last_hidden_state = output.last_hidden_state\n",
        "# source_word_vectors = last_hidden_state[:, source_word_idxs, :]\n",
        "\n",
        "# print(\"Вектори токенів слова :\", source_word_vectors.shape)\n"
      ],
      "metadata": {
        "id": "1L5OXBxRjfrz"
      },
      "execution_count": null,
      "outputs": []
    },
    {
      "cell_type": "code",
      "source": [
        "# tokenizer = BertTokenizer.from_pretrained('bert-base-multilingual-cased')\n",
        "# model = BertModel.from_pretrained(\"bert-base-multilingual-cased\")\n",
        "# text = \"Я йти до школи.\"\n",
        "# tokens = tokenizer.tokenize(text)\n",
        "# encoded_input = tokenizer(text, return_tensors='pt')\n",
        "# output = model(**encoded_input)\n",
        "# print(tokens)"
      ],
      "metadata": {
        "id": "IZceZ3s9Dt-L"
      },
      "execution_count": null,
      "outputs": []
    },
    {
      "cell_type": "code",
      "source": [
        "# text = 'Я йти до школи.'\n",
        "# # text = \"Привітаня для вас !\"\n",
        "# ann_source_word = 'йти'\n",
        "# pos = word_index(text, ann_source_word)\n",
        "# print('pos', pos)\n",
        "\n",
        "# encoded_text = encode_sentence(text, tokenizer)\n",
        "\n",
        "# sentence_word_ids = encoded_text.word_ids()\n",
        "# print('sentence_word_ids', sentence_word_ids)\n",
        "# print(tokenizer.tokenize(text))\n",
        "\n",
        "# word_tokens_ids = tokens_ids(sentence_word_ids, pos)\n",
        "# tokens = [tokenizer.decode(token_id) for token_id in encoded_text.input_ids[0][word_tokens_ids]]\n",
        "\n",
        "\n",
        "# model_output = model(**encoded_text)\n",
        "# word_vectors = get_word_tokens_vectors(model_output, word_tokens_ids)\n",
        "\n",
        "# average_vector = get_average_vector(word_vectors)\n",
        "\n",
        "# print(\"Токени: \",ann_source_word, tokens)\n",
        "# print(\"Вектори токенів слова:\", word_vectors.shape)\n",
        "# print(\"Середнє значення векторів:\", average_vector.shape)"
      ],
      "metadata": {
        "id": "Knvtxt8Ilrgp"
      },
      "execution_count": null,
      "outputs": []
    },
    {
      "cell_type": "code",
      "source": [
        "# from transformers import BertTokenizerFast, BertModel\n",
        "\n",
        "\n",
        "# tokenizer = BertTokenizerFast.from_pretrained('bert-base-multilingual-cased')\n",
        "# model = BertModel.from_pretrained(\"bert-base-multilingual-cased\")\n",
        "# text = 'Я йти до школи.'\n",
        "# text = \"Привітаня для вас !\"\n",
        "# def get_word_idx(sent: str, word: str):\n",
        "    # return sent.split(\" \").index(word)\n",
        "# pos = get_word_idx(text, 'Привітаня')\n",
        "# print(pos)\n",
        "\n",
        "\n",
        "# example = tokenizer.encode_plus(text, return_tensors='pt', padding=True, truncation=True)\n",
        "# output = model(**example)\n",
        "\n",
        "\n",
        "# sentence_word_ids = example.word_ids()\n",
        "# print(sentence_word_ids)\n",
        "# print(tokenizer.tokenize(text))\n",
        "# print(example)\n",
        "\n",
        "# source_word_idxs = [idx for idx, word_id in enumerate(sentence_word_ids) if word_id is not None and word_id == pos]\n",
        "# source_word_idxs = np.where(np.array(sentence_word_ids) == pos)[0]\n",
        "# print('source_word_idxs', source_word_idxs)\n",
        "\n",
        "# print(example.input_ids)\n",
        "# tokens = [tokenizer.decode(token_id) for token_id in example.input_ids[0][source_word_idxs]]\n",
        "# print(\"Токени source_word\", tokens)\n",
        "\n",
        "\n",
        "# token_values = example.input_ids[0][source_word_idxs]\n",
        "# print(\"тензор :\", token_values)\n",
        "\n",
        "# last_hidden_state = output.last_hidden_state\n",
        "# print('last_hidden_state',last_hidden_state.shape)\n",
        "# source_word_vectors = last_hidden_state[:, source_word_idxs, :]\n",
        "\n",
        "# print(\"Вектори токенів слова :\", source_word_vectors.shape)\n"
      ],
      "metadata": {
        "id": "5dcYQptQV49r"
      },
      "execution_count": null,
      "outputs": []
    },
    {
      "cell_type": "code",
      "source": [
        "# def modify_raw_line(line, mask=\"[EMPTY]\"):\n",
        "#   source_target_list = re.findall(r'\\{([^:]+):', line)\n",
        "#   for source_target_str in source_target_list:\n",
        "#     # print(source_target_str)\n",
        "#     chunks = line.split(source_target_str)\n",
        "#     print(chunks[0])\n",
        "#     src, trgt = source_target_str.split(\"=>\")\n",
        "#     # print(src, trgt)\n",
        "#     if len(src) == 0:\n",
        "#       src = mask\n",
        "#     if len(trgt) == 0:\n",
        "#       trgt = mask\n",
        "#     if len(chunks) != 2:\n",
        "#       print(\"ERROR!\")\n",
        "#     new_line = chunks[0] + src + \"=>\" + trgt + chunks[1]\n",
        "#     return new_line\n",
        "\n",
        "# test_raw_strings = [\n",
        "#     \"Святе Письмо говорить про віру {=>,:::error_type=Punctuation} як про довір’я людини до Господа .\",\n",
        "#     \"Святе Письмо говорить про віру {,=>:::error_type=Punctuation} як про довір’я людини до Господа .\",\n",
        "#     \"Святе Письмо говорить про віру {привіт=>:::error_type=Punctuation} як про довір’я людини до Господа .\",\n",
        "#     \"Святе Письмо говорить про віру {=>привіт:::error_type=Punctuation} як про довір’я людини до Господа .\",\n",
        "#     \"Святе Письмо говорить про віру {папа=>привіт:::error_type=Punctuation} як про довір’я людини до Господа .\",\n",
        "#     # \"Святе Письмо говорить про віру {привіт=>:::error_type=Punctuation} як про довір’я {=>,:::error_type=Punctuation} людини до Господа .\"\n",
        "# ]\n",
        "# modified_raw_strings = []\n",
        "# for test_str in test_raw_strings:\n",
        "#   modified_raw_strings.append(modify_raw_line(test_str))\n",
        "\n",
        "# modified_raw_strings\n",
        "# #  Я \"\"=>\"тебе\" люблю \"не\"=>\"\" дуже сильно!"
      ],
      "metadata": {
        "colab": {
          "base_uri": "https://localhost:8080/"
        },
        "id": "_gsxgt5Ijhys",
        "outputId": "208b73b2-49b8-464c-bd44-06c11afa528f"
      },
      "execution_count": null,
      "outputs": [
        {
          "output_type": "stream",
          "name": "stdout",
          "text": [
            "Святе Письмо говорить про віру {\n",
            "Святе Письмо говорить про віру {\n",
            "Святе Письмо говорить про віру {\n",
            "Святе Письмо говорить про віру {\n",
            "Святе Письмо говорить про віру {\n"
          ]
        },
        {
          "output_type": "execute_result",
          "data": {
            "text/plain": [
              "['Святе Письмо говорить про віру {[EMPTY]=>,:::error_type=Punctuation} як про довір’я людини до Господа .',\n",
              " 'Святе Письмо говорить про віру {,=>[EMPTY]:::error_type=Punctuation} як про довір’я людини до Господа .',\n",
              " 'Святе Письмо говорить про віру {привіт=>[EMPTY]:::error_type=Punctuation} як про довір’я людини до Господа .',\n",
              " 'Святе Письмо говорить про віру {[EMPTY]=>привіт:::error_type=Punctuation} як про довір’я людини до Господа .',\n",
              " 'Святе Письмо говорить про віру {папа=>привіт:::error_type=Punctuation} як про довір’я людини до Господа .']"
            ]
          },
          "metadata": {},
          "execution_count": 84
        }
      ]
    },
    {
      "cell_type": "code",
      "source": [
        "# tokenizer = BertTokenizerFast.from_pretrained('bert-base-multilingual-cased')\n",
        "# model = BertModel.from_pretrained(\"bert-base-multilingual-cased\")"
      ],
      "metadata": {
        "id": "buUkYsu5k81I",
        "colab": {
          "base_uri": "https://localhost:8080/",
          "height": 301,
          "referenced_widgets": [
            "d08ee91950dd4cff941eb1b17b9a4a7a",
            "ff6e0b0510954d23a9dd42b415a416f3",
            "0b300c872b054bcaa58f85e0760169d3",
            "4144d432555d4a7ea0a249ab694e31df",
            "0ccaeaa15302456f8ab41525b2000638",
            "d790839ae75e4939a7caeba48d5e0adb",
            "0c3d0ae6308c45b79fd9f994392f5193",
            "37c6f765f6d2479eab8fad64cb8150eb",
            "0029252301d149e0861011fcc1f9b2d5",
            "3ff599be940d4ce99e79101c68f34b95",
            "acaa58f8aadb451ca1e0dbfc4dd038cd",
            "d89c91667c3d4c4ab5a52d50b07d4cdb",
            "e59df0a4274c4296b7a47a43295625ac",
            "fb0fd85d58ad41c1b418b58fd6307c84",
            "e360f9769c4a427f80eef99ed1f1837f",
            "0bcf07a12c664e28af7902961952e407",
            "d63330b38edd4b0dbb0fd761a20438c8",
            "da8a54b0e25b439393ebe871e46161c3",
            "972418e615664442a38bad82730eb7dc",
            "084973b22fad4b6bbeec41d964984215",
            "b6666ebe686d49c8b91dc6c50db39fe9",
            "73b789422dfb4f16964b230268732a34",
            "ade31bb60e1140969ca28a856089daac",
            "5b251d5e98cb450f922244c7b66a2302",
            "3a47b6dd6eec4e7ba898df30c1dc385e",
            "bdc9bb445dfa4f48a67db02e090ec0d6",
            "51234214f16b45f6a3a8efcf1736cf15",
            "3e5a9690f5a14fa98b0a0590338b72e6",
            "a721b7f2de8a422781cfaa0abf087ff3",
            "bfc3e2460cf944fcbd784438d8034b52",
            "e9d028b339dd43b8bc170ee893bc8e43",
            "12af8513b3d6499b94a078cc75d0dd1e",
            "bf132409459845dca10ffdf2c3752ca8",
            "8b4d9ed79a324dcc98faefd7d53571ce",
            "d8afa45cb7db46e49b16a63aba604068",
            "6d87f39a8867425d8ca1723e760eabfd",
            "64cca7531ff142cf808b09244fdd5a8c",
            "898395e0292747d0b1be269236a68181",
            "a95b027794b245518f1412d624f3cb50",
            "f95b1cd604864547a26b68a3ae1a2998",
            "ad00cb9423534ad39eb854f5c593f546",
            "0605b7b0c72940ad936c8180eef23cf9",
            "17ccd76c517641a3b2c96d6d650b2bbd",
            "e1eb7aaeac36467b8dde9b8c14172076",
            "d3785b5b43584dfaaab87eb70adac77e",
            "d0fdc8f2aedc4517ac6d150823bbac35",
            "9d10b732d10a403cbdb41cd20fa88096",
            "297afa9148274d67be70c7c0fd499c89",
            "fd62b30e13a649e280023617c61dd263",
            "cd7531e13ee74fec9a5dff78a325d189",
            "13d523942286438593831022f1f88bf5",
            "d989a62415764a8a8eb34e62029b8381",
            "1a24145c627c4722a334767c966065a3",
            "9ad5bce384ca43059bb34b1734c6c696",
            "fd040e072c1241969d610da9d3b578b0"
          ]
        },
        "outputId": "c416f74f-6c23-4edf-a3bb-c50473eed00b"
      },
      "execution_count": null,
      "outputs": [
        {
          "output_type": "stream",
          "name": "stderr",
          "text": [
            "/usr/local/lib/python3.10/dist-packages/huggingface_hub/utils/_token.py:88: UserWarning: \n",
            "The secret `HF_TOKEN` does not exist in your Colab secrets.\n",
            "To authenticate with the Hugging Face Hub, create a token in your settings tab (https://huggingface.co/settings/tokens), set it as secret in your Google Colab and restart your session.\n",
            "You will be able to reuse this secret in all of your notebooks.\n",
            "Please note that authentication is recommended but still optional to access public models or datasets.\n",
            "  warnings.warn(\n"
          ]
        },
        {
          "output_type": "display_data",
          "data": {
            "text/plain": [
              "tokenizer_config.json:   0%|          | 0.00/49.0 [00:00<?, ?B/s]"
            ],
            "application/vnd.jupyter.widget-view+json": {
              "version_major": 2,
              "version_minor": 0,
              "model_id": "d08ee91950dd4cff941eb1b17b9a4a7a"
            }
          },
          "metadata": {}
        },
        {
          "output_type": "display_data",
          "data": {
            "text/plain": [
              "vocab.txt:   0%|          | 0.00/996k [00:00<?, ?B/s]"
            ],
            "application/vnd.jupyter.widget-view+json": {
              "version_major": 2,
              "version_minor": 0,
              "model_id": "d89c91667c3d4c4ab5a52d50b07d4cdb"
            }
          },
          "metadata": {}
        },
        {
          "output_type": "display_data",
          "data": {
            "text/plain": [
              "tokenizer.json:   0%|          | 0.00/1.96M [00:00<?, ?B/s]"
            ],
            "application/vnd.jupyter.widget-view+json": {
              "version_major": 2,
              "version_minor": 0,
              "model_id": "ade31bb60e1140969ca28a856089daac"
            }
          },
          "metadata": {}
        },
        {
          "output_type": "display_data",
          "data": {
            "text/plain": [
              "config.json:   0%|          | 0.00/625 [00:00<?, ?B/s]"
            ],
            "application/vnd.jupyter.widget-view+json": {
              "version_major": 2,
              "version_minor": 0,
              "model_id": "8b4d9ed79a324dcc98faefd7d53571ce"
            }
          },
          "metadata": {}
        },
        {
          "output_type": "display_data",
          "data": {
            "text/plain": [
              "model.safetensors:   0%|          | 0.00/714M [00:00<?, ?B/s]"
            ],
            "application/vnd.jupyter.widget-view+json": {
              "version_major": 2,
              "version_minor": 0,
              "model_id": "d3785b5b43584dfaaab87eb70adac77e"
            }
          },
          "metadata": {}
        }
      ]
    },
    {
      "cell_type": "code",
      "source": [
        "# def get_word_tokens_vectors(output, word_tokens_ids: np.ndarray):\n",
        "#     last_hidden_state = output.last_hidden_state\n",
        "#     return last_hidden_state[:, word_tokens_ids, :]"
      ],
      "metadata": {
        "id": "bgzKk-gCp3O_"
      },
      "execution_count": null,
      "outputs": []
    },
    {
      "cell_type": "code",
      "source": [
        "# def get_average_vector(word_vectors: torch.Tensor):\n",
        "#     return torch.mean(word_vectors, dim=1)"
      ],
      "metadata": {
        "id": "_LFFOfMcxfCm"
      },
      "execution_count": null,
      "outputs": []
    },
    {
      "cell_type": "code",
      "source": [
        "# def word_index(text: str, word: str):\n",
        "#     return text.split(\" \").index(word)"
      ],
      "metadata": {
        "id": "fF-09_o6j92_"
      },
      "execution_count": null,
      "outputs": []
    },
    {
      "cell_type": "code",
      "source": [
        "# def vectorize_word(text: str, ann_source_word: str, tokenizer, model):\n",
        "#     pos = word_index(text, ann_source_word)\n",
        "#     print('pos', pos)\n",
        "\n",
        "#     encoded_text = encode_sentence(text, tokenizer)\n",
        "\n",
        "#     sentence_word_ids = encoded_text.word_ids()\n",
        "#     print('sentence_word_ids', sentence_word_ids)\n",
        "#     print(tokenizer.tokenize(text))\n",
        "\n",
        "#     word_tokens_ids = tokens_ids(sentence_word_ids, pos)\n",
        "#     print(' word_tokens_ids',  word_tokens_ids)\n",
        "#     tokens = [tokenizer.decode(token_id) for token_id in encoded_text.input_ids[0][word_tokens_ids]]\n",
        "\n",
        "#     model_output = model(**encoded_text)\n",
        "#     word_vectors = get_word_tokens_vectors(model_output, word_tokens_ids)\n",
        "\n",
        "#     average_vector = get_average_vector(word_vectors)\n",
        "\n",
        "#     print(\"Токени:\", ann_source_word, tokens)\n",
        "#     print(\"Вектори токенів слова:\", word_vectors.shape)\n",
        "#     print(\"Середнє значення векторів:\", average_vector.shape)\n",
        "\n",
        "#     return average_vector"
      ],
      "metadata": {
        "id": "n83g1jb66M4Y"
      },
      "execution_count": null,
      "outputs": []
    },
    {
      "cell_type": "code",
      "source": [
        "# text1 = 'Я йти до школи.'\n",
        "# text1 = 'Я йти до школи.'\n",
        "# average_vector1 = vectorize_word(text1, 'Я йти', tokenizer, model)"
      ],
      "metadata": {
        "colab": {
          "base_uri": "https://localhost:8080/",
          "height": 269
        },
        "id": "VANnu0dY6jMa",
        "outputId": "2c724ea3-64cd-4b98-a5c8-309426bb7377"
      },
      "execution_count": null,
      "outputs": [
        {
          "output_type": "error",
          "ename": "ValueError",
          "evalue": "'Я йти' is not in list",
          "traceback": [
            "\u001b[0;31m---------------------------------------------------------------------------\u001b[0m",
            "\u001b[0;31mValueError\u001b[0m                                Traceback (most recent call last)",
            "\u001b[0;32m<ipython-input-24-1beb0a809aff>\u001b[0m in \u001b[0;36m<cell line: 3>\u001b[0;34m()\u001b[0m\n\u001b[1;32m      1\u001b[0m \u001b[0;31m# text1 = 'Я йти до школи.'\u001b[0m\u001b[0;34m\u001b[0m\u001b[0;34m\u001b[0m\u001b[0m\n\u001b[1;32m      2\u001b[0m \u001b[0mtext1\u001b[0m \u001b[0;34m=\u001b[0m \u001b[0;34m'Я йти до школи.'\u001b[0m\u001b[0;34m\u001b[0m\u001b[0;34m\u001b[0m\u001b[0m\n\u001b[0;32m----> 3\u001b[0;31m \u001b[0maverage_vector1\u001b[0m \u001b[0;34m=\u001b[0m \u001b[0mvectorize_word\u001b[0m\u001b[0;34m(\u001b[0m\u001b[0mtext1\u001b[0m\u001b[0;34m,\u001b[0m \u001b[0;34m'Я йти'\u001b[0m\u001b[0;34m,\u001b[0m \u001b[0mtokenizer\u001b[0m\u001b[0;34m,\u001b[0m \u001b[0mmodel\u001b[0m\u001b[0;34m)\u001b[0m\u001b[0;34m\u001b[0m\u001b[0;34m\u001b[0m\u001b[0m\n\u001b[0m",
            "\u001b[0;32m<ipython-input-13-961951ed9836>\u001b[0m in \u001b[0;36mvectorize_word\u001b[0;34m(text, ann_source_word, tokenizer, model)\u001b[0m\n\u001b[1;32m      1\u001b[0m \u001b[0;32mdef\u001b[0m \u001b[0mvectorize_word\u001b[0m\u001b[0;34m(\u001b[0m\u001b[0mtext\u001b[0m\u001b[0;34m:\u001b[0m \u001b[0mstr\u001b[0m\u001b[0;34m,\u001b[0m \u001b[0mann_source_word\u001b[0m\u001b[0;34m:\u001b[0m \u001b[0mstr\u001b[0m\u001b[0;34m,\u001b[0m \u001b[0mtokenizer\u001b[0m\u001b[0;34m,\u001b[0m \u001b[0mmodel\u001b[0m\u001b[0;34m)\u001b[0m\u001b[0;34m:\u001b[0m\u001b[0;34m\u001b[0m\u001b[0;34m\u001b[0m\u001b[0m\n\u001b[0;32m----> 2\u001b[0;31m     \u001b[0mpos\u001b[0m \u001b[0;34m=\u001b[0m \u001b[0mword_index\u001b[0m\u001b[0;34m(\u001b[0m\u001b[0mtext\u001b[0m\u001b[0;34m,\u001b[0m \u001b[0mann_source_word\u001b[0m\u001b[0;34m)\u001b[0m\u001b[0;34m\u001b[0m\u001b[0;34m\u001b[0m\u001b[0m\n\u001b[0m\u001b[1;32m      3\u001b[0m     \u001b[0mprint\u001b[0m\u001b[0;34m(\u001b[0m\u001b[0;34m'pos'\u001b[0m\u001b[0;34m,\u001b[0m \u001b[0mpos\u001b[0m\u001b[0;34m)\u001b[0m\u001b[0;34m\u001b[0m\u001b[0;34m\u001b[0m\u001b[0m\n\u001b[1;32m      4\u001b[0m \u001b[0;34m\u001b[0m\u001b[0m\n\u001b[1;32m      5\u001b[0m     \u001b[0mencoded_text\u001b[0m \u001b[0;34m=\u001b[0m \u001b[0mencode_sentence\u001b[0m\u001b[0;34m(\u001b[0m\u001b[0mtext\u001b[0m\u001b[0;34m,\u001b[0m \u001b[0mtokenizer\u001b[0m\u001b[0;34m)\u001b[0m\u001b[0;34m\u001b[0m\u001b[0;34m\u001b[0m\u001b[0m\n",
            "\u001b[0;32m<ipython-input-7-81d19ae36cd6>\u001b[0m in \u001b[0;36mword_index\u001b[0;34m(text, word)\u001b[0m\n\u001b[1;32m      1\u001b[0m \u001b[0;32mdef\u001b[0m \u001b[0mword_index\u001b[0m\u001b[0;34m(\u001b[0m\u001b[0mtext\u001b[0m\u001b[0;34m:\u001b[0m \u001b[0mstr\u001b[0m\u001b[0;34m,\u001b[0m \u001b[0mword\u001b[0m\u001b[0;34m:\u001b[0m \u001b[0mstr\u001b[0m\u001b[0;34m)\u001b[0m\u001b[0;34m:\u001b[0m\u001b[0;34m\u001b[0m\u001b[0;34m\u001b[0m\u001b[0m\n\u001b[0;32m----> 2\u001b[0;31m     \u001b[0;32mreturn\u001b[0m \u001b[0mtext\u001b[0m\u001b[0;34m.\u001b[0m\u001b[0msplit\u001b[0m\u001b[0;34m(\u001b[0m\u001b[0;34m\" \"\u001b[0m\u001b[0;34m)\u001b[0m\u001b[0;34m.\u001b[0m\u001b[0mindex\u001b[0m\u001b[0;34m(\u001b[0m\u001b[0mword\u001b[0m\u001b[0;34m)\u001b[0m\u001b[0;34m\u001b[0m\u001b[0;34m\u001b[0m\u001b[0m\n\u001b[0m",
            "\u001b[0;31mValueError\u001b[0m: 'Я йти' is not in list"
          ]
        }
      ]
    },
    {
      "cell_type": "code",
      "source": [
        "# text2 = 'Я йду до школи.'\n",
        "# average_vector2 = vectorize_word(text2, 'йду', tokenizer, model)"
      ],
      "metadata": {
        "id": "8BpysYTB6lWt"
      },
      "execution_count": null,
      "outputs": []
    },
    {
      "cell_type": "code",
      "source": [
        "# concatenated_vector = concatenate_vectors(average_vector1, average_vector2)\n",
        "# print(\"Результат конкатенації:\", concatenated_vector.shape)"
      ],
      "metadata": {
        "id": "US1_dyjXDuFg"
      },
      "execution_count": null,
      "outputs": []
    },
    {
      "cell_type": "code",
      "source": [
        "# import torch.nn as nn\n",
        "# import torch.nn.functional as F\n",
        "\n",
        "# size_of_input = concatenated_vector.size(1)\n",
        "# size_of_output = len(list_of_classes)\n",
        "\n",
        "# linear1 = nn.Linear(in_features=size_of_input, out_features=size_of_input*2)\n",
        "# linear2 = nn.Linear(in_features=size_of_input*2, out_features=size_of_input)\n",
        "# linear3 = nn.Linear(in_features=size_of_input, out_features=size_of_input//2)\n",
        "# linear4 = nn.Linear(in_features=size_of_input//2, out_features=size_of_output)\n",
        "\n",
        "\n",
        "# hidden1 = F.relu(linear1(concatenated_vector))\n",
        "# hidden2 = F.relu(linear2(hidden1))\n",
        "# hidden3 = F.relu(linear3(hidden2))\n",
        "\n",
        "\n",
        "# y_logits = linear4(hidden3)\n",
        "# y = F.softmax(y_logits, dim=1)\n",
        "\n",
        "# print(y)\n",
        "\n"
      ],
      "metadata": {
        "id": "3BDtYZqdHqrB"
      },
      "execution_count": null,
      "outputs": []
    },
    {
      "cell_type": "code",
      "source": [
        "# max_prob_index = torch.argmax(y)\n",
        "# predicted_class = list_of_classes[max_prob_index]\n",
        "# print( predicted_class)"
      ],
      "metadata": {
        "id": "EJIwMJLPIDEP"
      },
      "execution_count": null,
      "outputs": []
    },
    {
      "cell_type": "markdown",
      "source": [
        "# encode_sentence, list_of_classes, tokens_ids, concatenate_vectors\n"
      ],
      "metadata": {
        "id": "oeAmGVx5jnxM"
      }
    },
    {
      "cell_type": "code",
      "source": [
        "def encode_sentence(text: str, tokenizer):\n",
        "    return tokenizer.encode_plus(text, return_tensors='pt', padding=True, truncation=True)"
      ],
      "metadata": {
        "id": "vDZfp1KGkRuN"
      },
      "execution_count": null,
      "outputs": []
    },
    {
      "cell_type": "code",
      "source": [
        "list_of_classes = [\"Spelling\", \"Punctuation\", \"G/Case\", \"G/Gender\", \"G/Number\", \"G/Aspect\", \"G/Tense\",\n",
        "                   \"G/VerbVoice\", \"G/PartVoice\", \"G/VerbAForm\", \"G/Prep\", \"G/Participle\",\n",
        "                   \"G/UngrammaticalStructure\", \"G/Comparison\", \"G/Conjunction\", \"G/Particle\", \"Other\", \"G/Other\",\n",
        "                   \"F/Style\", \"F/Calque\", \"F/Collocation\", \"F/PoorFlow\", \"F/Repetition\", \"F/Other\"]\n",
        "\n"
      ],
      "metadata": {
        "id": "p6wr0EzED8M5"
      },
      "execution_count": null,
      "outputs": []
    },
    {
      "cell_type": "code",
      "source": [
        "# індекси токенів, що відповідають зазначеному слову у sentence_word_ids\n",
        "def tokens_ids(sentence_word_ids: list, pos: list):\n",
        "    positions = []\n",
        "    for p in pos:\n",
        "        positions.extend(np.where(np.array(sentence_word_ids) == p)[0])\n",
        "    return positions"
      ],
      "metadata": {
        "id": "opmuUCmhliOg"
      },
      "execution_count": null,
      "outputs": []
    },
    {
      "cell_type": "code",
      "source": [
        "def concatenate_vectors(vector1, vector2):\n",
        "    return torch.cat((vector1, vector2), dim=1)"
      ],
      "metadata": {
        "id": "8Ee2992rDnOJ"
      },
      "execution_count": null,
      "outputs": []
    },
    {
      "cell_type": "markdown",
      "source": [
        "#  Фунції повертають індекси слів для source та target в анотації."
      ],
      "metadata": {
        "id": "f1ua7xPt0X6x"
      }
    },
    {
      "cell_type": "code",
      "source": [
        "!pip install -q ipytest ua-gec"
      ],
      "metadata": {
        "id": "nCXqJbl30gZC",
        "colab": {
          "base_uri": "https://localhost:8080/"
        },
        "outputId": "a8d867f6-df02-4f61-fbe3-5b114c079193"
      },
      "execution_count": null,
      "outputs": [
        {
          "output_type": "stream",
          "name": "stdout",
          "text": [
            "\u001b[2K     \u001b[90m━━━━━━━━━━━━━━━━━━━━━━━━━━━━━━━━━━━━━━━━\u001b[0m \u001b[32m36.0/36.0 MB\u001b[0m \u001b[31m5.5 MB/s\u001b[0m eta \u001b[36m0:00:00\u001b[0m\n",
            "\u001b[2K     \u001b[90m━━━━━━━━━━━━━━━━━━━━━━━━━━━━━━━━━━━━━━━━\u001b[0m \u001b[32m1.6/1.6 MB\u001b[0m \u001b[31m40.9 MB/s\u001b[0m eta \u001b[36m0:00:00\u001b[0m\n",
            "\u001b[?25h"
          ]
        }
      ]
    },
    {
      "cell_type": "code",
      "source": [
        "# import pytest\n",
        "# import ipytest\n",
        "!pip install ua_gec\n",
        "from ua_gec import AnnotatedText\n",
        "# ipytest.autoconfig()"
      ],
      "metadata": {
        "id": "apwTJJb30aOz",
        "colab": {
          "base_uri": "https://localhost:8080/"
        },
        "outputId": "56212786-1a93-4079-83ce-8034e5b51aaf"
      },
      "execution_count": null,
      "outputs": [
        {
          "output_type": "stream",
          "name": "stdout",
          "text": [
            "Requirement already satisfied: ua_gec in /usr/local/lib/python3.10/dist-packages (2.1.3)\n"
          ]
        }
      ]
    },
    {
      "cell_type": "code",
      "source": [
        "# %%ipytest\n",
        "\n",
        "# NOTE: Error/correction span may take more than one word.\n",
        "#       Also, there might be several occurencies of the word\n",
        "#       in the text (\"Куди мене ще йти? Я йти до школи.\")\n",
        "#       So `word_index` is not enough for us.\n",
        "# def test_word_index():\n",
        "#     assert word_index(\"Я йти до школи\", \"йти\") == 1\n",
        "#     with pytest.raises(ValueError):\n",
        "#         word_index(\"Я йти до школи\", \"bad\")"
      ],
      "metadata": {
        "id": "gsXV3tg70x89"
      },
      "execution_count": null,
      "outputs": []
    },
    {
      "cell_type": "code",
      "source": [
        "# %%ipytest\n",
        "\n",
        "# Допоміжна функція, використовується нижче\n",
        "def char_to_word_index(s: str, char_index: int) -> int:\n",
        "    \"\"\"Return index of a word corresponding to a character position. \"\"\"\n",
        "    pos = -1\n",
        "    word_index = -1\n",
        "    while (pos := s.find(\" \", pos + 1)) != -1:\n",
        "        word_index += 1\n",
        "        if pos >= char_index:\n",
        "            return word_index\n",
        "    return word_index + 1\n",
        "\n",
        "\n",
        "# def test_char_to_word_index():\n",
        "#     assert char_to_word_index(\"Hello , world !\", 0) == 0  # \"H\"\n",
        "#     assert char_to_word_index(\"Hello , world !\", 2) == 0  # \"l\"\n",
        "#     assert char_to_word_index(\"Hello , world !\", 4) == 0  # \"o\"\n",
        "#     assert char_to_word_index(\"Hello , world !\", 5) == 0  # \" \"\n",
        "#     assert char_to_word_index(\"Hello , world !\", 6) == 1  # \",\"\n",
        "#     assert char_to_word_index(\"Hello , world !\", 8) == 2  # \"w\"\n",
        "#     assert char_to_word_index(\"Hello , world !\", 999) == 3  # out of string, assume last word"
      ],
      "metadata": {
        "id": "eJEjT4C_1Epz"
      },
      "execution_count": null,
      "outputs": []
    },
    {
      "cell_type": "markdown",
      "source": [
        "Наступні фунції повертають індекси слів для source та target в анотації. Їх треба використовувати замість `word_index()`."
      ],
      "metadata": {
        "id": "PpxyAd4L3FEX"
      }
    },
    {
      "cell_type": "code",
      "source": [
        "# %%ipytest\n",
        "\n",
        "def get_annotation_source_indexes(annotated, annotation) -> list[int]:\n",
        "    text = annotated.get_original_text()\n",
        "    start_word_index = char_to_word_index(text, annotation.start)\n",
        "    end_word_index = char_to_word_index(text, annotation.end)\n",
        "    return list(range(start_word_index, end_word_index + 1))\n",
        "\n",
        "\n",
        "def get_annotation_target_indexes(annotated, annotation) -> list[int]:\n",
        "    assert len(annotated.get_annotations()) == 1, \\\n",
        "        (\"This implemention assumes there is only one annotation per text. \"\n",
        "         \"Otherwise it won't work correctly.\")\n",
        "    text = annotated.get_corrected_text()\n",
        "    char_start = annotation.start\n",
        "    char_end = char_start + len(annotation.top_suggestion)\n",
        "    start_word_index = char_to_word_index(text, char_start)\n",
        "    end_word_index = char_to_word_index(text, char_end)\n",
        "    return list(range(start_word_index, end_word_index + 1))\n",
        "\n",
        "\n",
        "def test_annotation_source_indexes():\n",
        "    annotated = AnnotatedText(\"Я {буду йти=>йтиму} до школи.\")\n",
        "    annotation = annotated.get_annotations()[0]\n",
        "    assert get_annotation_source_indexes(annotated, annotation) == [1, 2]\n",
        "\n",
        "\n",
        "def test_annotation_target_indexes():\n",
        "    annotated = AnnotatedText(\"Я {буду йти=>йтиму} до школи.\")\n",
        "    annotation = annotated.get_annotations()[0]\n",
        "    assert get_annotation_target_indexes(annotated, annotation) == [1]"
      ],
      "metadata": {
        "id": "v4yvJGAC1JNq"
      },
      "execution_count": null,
      "outputs": []
    },
    {
      "cell_type": "markdown",
      "source": [
        "# Оборобка датасету"
      ],
      "metadata": {
        "id": "M2ydLGDqbjt2"
      }
    },
    {
      "cell_type": "markdown",
      "source": [
        "Завантажимо корпус, розбитий на речення. Ці дані ще не змерджині та недоступні через пакет `ua_gec`, отже треба завантажувати їх за прямим посиланням."
      ],
      "metadata": {
        "id": "Q99vB4Fc3abc"
      }
    },
    {
      "cell_type": "code",
      "source": [
        "!rm -f gec-only.*.annotated\n",
        "!wget -q https://github.com/osyvokon/ua-gec/raw/osyvokon/annotated-sentences/data/gec-only/test/gec-only.test.annotated\n",
        "!wget -q https://github.com/osyvokon/ua-gec/raw/osyvokon/annotated-sentences/data/gec-only/train/gec-only.train.annotated"
      ],
      "metadata": {
        "id": "lSKttWUh3lZe"
      },
      "execution_count": null,
      "outputs": []
    },
    {
      "cell_type": "markdown",
      "source": [
        "Функції для додавання [EMPTY] до пустих source/target"
      ],
      "metadata": {
        "id": "-He0jwVOcByB"
      }
    },
    {
      "cell_type": "code",
      "source": [
        "import re\n",
        "def modify_raw_line(line, mask=\"[EMPTY]\"):\n",
        "    source_target_list = find_substrings_indexes(line)\n",
        "\n",
        "    chunks = []\n",
        "    prev_index = 0\n",
        "\n",
        "    for i, source_target_str in enumerate(source_target_list):\n",
        "        src, trgt = source_target_str[\"sub\"].split(\"=>\")\n",
        "        if len(src) == 0:\n",
        "            src = mask\n",
        "        if len(trgt) == 0:\n",
        "            trgt = mask\n",
        "\n",
        "        start_index = source_target_str[\"start\"]\n",
        "        end_index = source_target_str[\"end\"]\n",
        "        chunks.append(line[prev_index:start_index])\n",
        "        chunks.append(f\"{src}=>{trgt}\")\n",
        "        prev_index = end_index\n",
        "    chunks.append(line[prev_index:])\n",
        "    return ''.join(chunks)\n",
        "\n",
        "\n",
        "def find_substrings_indexes(text):\n",
        "    substrings = []\n",
        "    # pattern = r'\\{([^:]+):::'\n",
        "    # pattern = r'\\{([^:]+.):::'\n",
        "    pattern = r'\\{([^{}]*)=>([^{}]*):::'\n",
        "\n",
        "    matches = re.finditer(pattern, text)\n",
        "    for match in matches:\n",
        "        substring = match.group()[1:-3]\n",
        "        # substring = match.group(1)\n",
        "        # start_index, end_index = match.span(1)\n",
        "        start_index = match.start() + 1\n",
        "        end_index = match.end() - 3\n",
        "\n",
        "        source_target_dict = {}\n",
        "        source_target_dict[\"sub\"] = substring\n",
        "        source_target_dict[\"start\"] = start_index\n",
        "        source_target_dict[\"end\"] = end_index\n",
        "        substrings.append(source_target_dict)\n",
        "\n",
        "    return substrings\n",
        "\n",
        "\n",
        "\n",
        "test_raw_strings = [\"Нам кажуть {=>, :::error_type=Punctuation}що війни з червоними не буде , та {=>, :::error_type=Punctuation}думаю {=>, :::error_type=Punctuation}це лише питання часу , ми виконаємо наш обов'язок {=>, :::error_type=Punctuation}де б ми не були , до кінця , тільки б той кінець прийшов {вже=>уже:::error_type=Spelling} якомога швидше {. '=>' .:::error_type=Punctuation}\"\n",
        "     \"Святе Письмо говорить про віру як про довір’я людини до Господа .\",\n",
        "    \"Святе Письмо говорить про віру {=>,:::error_type=Punctuation} як про довір’я людини до Господа .\",\n",
        "    \"Святе Письмо говорить про віру {,=>:::error_type=Punctuation} як про довір’я людини до Господа .\",\n",
        "    \"Святе Письмо говорить про віру {привіт=>:::error_type=Punctuation} як про довір’я людини до Господа .\",\n",
        "    \"Святе Письмо говорить про віру {=>привіт:::error_type=Punctuation} як про довір’я людини до Господа .\",\n",
        "    \"Святе Письмо говорить про віру {папа=>привіт:::error_type=Punctuation} як про довір’я людини до Господа .\",\n",
        "    \"Святе Письмо говорить про віру {привіт=>:::error_type=Punctuation} як про довір’я {=>,:::error_type=Punctuation} людини до Господа .\",\n",
        "    \"Святе Письмо говорить про віру {привіт=>:::error_type=Punctuation} як про довір’я {,=>:::error_type=Punctuation} людини до Господа .\",\n",
        "]\n",
        "modified_raw_strings = []\n",
        "for test_str in test_raw_strings:\n",
        "  modified_raw_strings.append(modify_raw_line(test_str))\n",
        "modified_raw_strings\n"
      ],
      "metadata": {
        "colab": {
          "base_uri": "https://localhost:8080/"
        },
        "id": "eAPAy1G9U9Kx",
        "outputId": "e094787f-0ce7-49cb-aaa9-9d9032fb451b"
      },
      "execution_count": null,
      "outputs": [
        {
          "output_type": "execute_result",
          "data": {
            "text/plain": [
              "[\"Нам кажуть {[EMPTY]=>, :::error_type=Punctuation}що війни з червоними не буде , та {[EMPTY]=>, :::error_type=Punctuation}думаю {[EMPTY]=>, :::error_type=Punctuation}це лише питання часу , ми виконаємо наш обов'язок {[EMPTY]=>, :::error_type=Punctuation}де б ми не були , до кінця , тільки б той кінець прийшов {вже=>уже:::error_type=Spelling} якомога швидше {. '=>' .:::error_type=Punctuation}Святе Письмо говорить про віру як про довір’я людини до Господа .\",\n",
              " 'Святе Письмо говорить про віру {[EMPTY]=>,:::error_type=Punctuation} як про довір’я людини до Господа .',\n",
              " 'Святе Письмо говорить про віру {,=>[EMPTY]:::error_type=Punctuation} як про довір’я людини до Господа .',\n",
              " 'Святе Письмо говорить про віру {привіт=>[EMPTY]:::error_type=Punctuation} як про довір’я людини до Господа .',\n",
              " 'Святе Письмо говорить про віру {[EMPTY]=>привіт:::error_type=Punctuation} як про довір’я людини до Господа .',\n",
              " 'Святе Письмо говорить про віру {папа=>привіт:::error_type=Punctuation} як про довір’я людини до Господа .',\n",
              " 'Святе Письмо говорить про віру {привіт=>[EMPTY]:::error_type=Punctuation} як про довір’я {[EMPTY]=>,:::error_type=Punctuation} людини до Господа .',\n",
              " 'Святе Письмо говорить про віру {привіт=>[EMPTY]:::error_type=Punctuation} як про довір’я {,=>[EMPTY]:::error_type=Punctuation} людини до Господа .']"
            ]
          },
          "metadata": {},
          "execution_count": 14
        }
      ]
    },
    {
      "cell_type": "code",
      "source": [
        "def load_annotated_dataset(path: str) -> list[AnnotatedText]:\n",
        "    dataset = []\n",
        "    with open(path) as f:\n",
        "        for line in f:\n",
        "          line = modify_raw_line(line)\n",
        "          # print(line)\n",
        "          annotated = AnnotatedText(line.strip())\n",
        "          dataset.append(annotated)\n",
        "    return dataset\n",
        "\n",
        "training_data = load_annotated_dataset(\"gec-only.train.annotated\")\n",
        "test_data = load_annotated_dataset(\"gec-only.test.annotated\")\n",
        "\n",
        "print(f\"Examples in train: {len(training_data)}\")\n",
        "print(f\"Examples in test:  {len(test_data)}\")\n",
        "print(f\"Sample: {training_data[3]}\")"
      ],
      "metadata": {
        "colab": {
          "base_uri": "https://localhost:8080/"
        },
        "id": "pD8LXJPn3zFA",
        "outputId": "a43238b7-e6aa-43f3-e9b4-365bf74050b2"
      },
      "execution_count": null,
      "outputs": [
        {
          "output_type": "stream",
          "name": "stdout",
          "text": [
            "Examples in train: 32743\n",
            "Examples in test:  2862\n",
            "Sample: Сьогодні розповім про те {[EMPTY]=>, :::error_type=Punctuation}як і навіщо мене занесло {у=>в:::error_type=Spelling} Instagram .\n"
          ]
        }
      ]
    },
    {
      "cell_type": "code",
      "source": [
        "print('Сьогодні розповім про те {[EMPTY]=>, :::error_type=Punctuation}\\n' +' як і навіщо мене занесло {у=>в:::error_type=Spelling} Instagram .')"
      ],
      "metadata": {
        "id": "D6QYzzUqseuh",
        "colab": {
          "base_uri": "https://localhost:8080/"
        },
        "outputId": "d08432c2-6f93-4e43-af00-0d447a1ea1f3"
      },
      "execution_count": null,
      "outputs": [
        {
          "output_type": "stream",
          "name": "stdout",
          "text": [
            "Сьогодні розповім про те {[EMPTY]=>, :::error_type=Punctuation}\n",
            " як і навіщо мене занесло {у=>в:::error_type=Spelling} Instagram .\n"
          ]
        }
      ]
    },
    {
      "cell_type": "code",
      "source": [
        "empty_list = []\n",
        "annotated_list = []\n",
        "for i, data in enumerate(training_data):\n",
        "  if len(data.get_annotations()) == 0:\n",
        "    empty_list.append((i, data))\n",
        "  else:\n",
        "    annotated_list.append(data)"
      ],
      "metadata": {
        "id": "bo9uVLFQTPF9"
      },
      "execution_count": null,
      "outputs": []
    },
    {
      "cell_type": "code",
      "source": [
        "print('Len of annotated list = ', len(annotated_list))"
      ],
      "metadata": {
        "colab": {
          "base_uri": "https://localhost:8080/"
        },
        "id": "ChDUT9-d4No5",
        "outputId": "24e5034b-798e-4d02-8e64-1e85c2f7c249"
      },
      "execution_count": null,
      "outputs": [
        {
          "output_type": "stream",
          "name": "stdout",
          "text": [
            "Len of annotated list =  14355\n"
          ]
        }
      ]
    },
    {
      "cell_type": "code",
      "source": [
        "for annotated_text in annotated_list:\n",
        "  if annotated_text.get_original_text().endswith(', анітрохи не ображаючись .'):\n",
        "    print(annotated_text)"
      ],
      "metadata": {
        "id": "o_uRfXMBLhSa",
        "colab": {
          "base_uri": "https://localhost:8080/"
        },
        "outputId": "a8d9e170-b6d1-4f00-ead6-bd2456b4ca8b"
      },
      "execution_count": null,
      "outputs": [
        {
          "output_type": "stream",
          "name": "stdout",
          "text": [
            "— {}-=>}:::error_type=Punctuation} Чудово , чудово , {-=>—:::error_type=Punctuation} пробурмотів доктор , анітрохи не ображаючись .\n"
          ]
        }
      ]
    },
    {
      "cell_type": "code",
      "source": [
        "annotated_list[20]"
      ],
      "metadata": {
        "id": "SRGMpbNLssp5",
        "colab": {
          "base_uri": "https://localhost:8080/"
        },
        "outputId": "d116ef14-19c3-4749-a095-3a934fd0510c"
      },
      "execution_count": null,
      "outputs": [
        {
          "output_type": "execute_result",
          "data": {
            "text/plain": [
              "<AnnotatedText('Спочатку написання постів мені давалося дуже важко , адже я витрачав по декілька годин на {їх=>їхній:::error_type=G/Case} переклад кожного дня .')>"
            ]
          },
          "metadata": {},
          "execution_count": 19
        }
      ]
    },
    {
      "cell_type": "code",
      "source": [
        "empty_source = []\n",
        "\n",
        "for annotated_text in annotated_list:\n",
        "  for ann in annotated_text.iter_annotations():\n",
        "    if ann.top_suggestion == '': # or ann.source_text == ''\n",
        "      print(annotated_text)\n",
        "    # if annotated_text.get_annotations()[0].top_suggestion == ':':\n",
        "      empty_source.append(annotated_text)\n",
        "\n",
        "print(len(empty_source))"
      ],
      "metadata": {
        "id": "FS6cOgXVD6LE",
        "colab": {
          "base_uri": "https://localhost:8080/"
        },
        "outputId": "f6f90442-52e4-48c1-893f-8923377671b9"
      },
      "execution_count": null,
      "outputs": [
        {
          "output_type": "stream",
          "name": "stdout",
          "text": [
            "— {}- не=>} Не:::error_type=Spelling} брав , ну і добре{[EMPTY]=>.:::error_type=Punctuation}\n",
            "– {}-=>}:::error_type=Punctuation} Скажіть , Іване {Миколайовиче=>Миколайовичу:::error_type=G/Case} , а ви-то самі як далеко були від турнікету , коли Берліоз звалився під трамвай ?\n",
            "— {}-=>}:::error_type=Punctuation} Чудово , чудово , {-=>—:::error_type=Punctuation} пробурмотів доктор , анітрохи не ображаючись .\n",
            "3\n"
          ]
        }
      ]
    },
    {
      "cell_type": "code",
      "source": [
        "len(empty_list)"
      ],
      "metadata": {
        "colab": {
          "base_uri": "https://localhost:8080/"
        },
        "id": "JLJY5M1QUPHL",
        "outputId": "25432870-41cd-41c5-ca07-506cccc5203e"
      },
      "execution_count": null,
      "outputs": [
        {
          "output_type": "execute_result",
          "data": {
            "text/plain": [
              "18388"
            ]
          },
          "metadata": {},
          "execution_count": 21
        }
      ]
    },
    {
      "cell_type": "code",
      "source": [
        "def swap_two_first(my_list):\n",
        "  if len(my_list) >= 2:\n",
        "    my_list[0], my_list[1] = my_list[1], my_list[0]\n",
        "  return my_list"
      ],
      "metadata": {
        "id": "cDiLHr02xra_"
      },
      "execution_count": null,
      "outputs": []
    },
    {
      "cell_type": "code",
      "source": [
        "# функція, щоб розділяти речення з > 1 анотацією на окремі речення\n",
        "def get_sub_ann_sentences(annotated_text, with_corrected=True):\n",
        "  if len(annotated_text._annotations) < 2: return [annotated_text]\n",
        "\n",
        "  sub_sentences = []\n",
        "  for i, _ in enumerate(annotated_text.iter_annotations()):\n",
        "    copied = AnnotatedText(annotated_text.__str__())\n",
        "    j = 0\n",
        "    while (len(copied._annotations) > 1):\n",
        "      ann_j = copied._annotations[0]\n",
        "      if i != j:\n",
        "        if with_corrected:\n",
        "          copied.apply_correction(ann_j)\n",
        "        else:\n",
        "          copied.remove(ann_j)\n",
        "      j+=1\n",
        "      if j > i:\n",
        "        swap_two_first(copied._annotations)\n",
        "    sub_sentences.append(copied)\n",
        "  return sub_sentences"
      ],
      "metadata": {
        "id": "kwmIzRvlrZ5G"
      },
      "execution_count": null,
      "outputs": []
    },
    {
      "cell_type": "markdown",
      "source": [
        "# testing get_sub_ann_sentences"
      ],
      "metadata": {
        "id": "ak7JsLjD3fJX"
      }
    },
    {
      "cell_type": "code",
      "source": [
        "annotated_list[8]"
      ],
      "metadata": {
        "colab": {
          "base_uri": "https://localhost:8080/"
        },
        "id": "_jtWgIfC3LMS",
        "outputId": "06d36415-b957-4653-8d16-c897b1fb2e1f"
      },
      "execution_count": null,
      "outputs": [
        {
          "output_type": "execute_result",
          "data": {
            "text/plain": [
              "<AnnotatedText('емоційне збудження від перегляду гарних фото ( читання {–=>—:::error_type=Punctuation} це менш природний процес , {ніж=>аніж:::error_type=Spelling} споглядання ){[EMPTY]=>;:::error_type=Punctuation}')>"
            ]
          },
          "metadata": {},
          "execution_count": 23
        }
      ]
    },
    {
      "cell_type": "code",
      "source": [
        "sub_sentences8 = get_sub_ann_sentences(annotated_list[8])\n",
        "sub_sentences8"
      ],
      "metadata": {
        "colab": {
          "base_uri": "https://localhost:8080/"
        },
        "id": "mInqlyST2Kci",
        "outputId": "023bfd33-52a2-47f1-f00f-4d6c64edab6b"
      },
      "execution_count": null,
      "outputs": [
        {
          "output_type": "execute_result",
          "data": {
            "text/plain": [
              "[<AnnotatedText('емоційне збудження від перегляду гарних фото ( читання {–=>—:::error_type=Punctuation} це менш природний процес , аніж споглядання );')>,\n",
              " <AnnotatedText('емоційне збудження від перегляду гарних фото ( читання — це менш природний процес , {ніж=>аніж:::error_type=Spelling} споглядання );')>,\n",
              " <AnnotatedText('емоційне збудження від перегляду гарних фото ( читання — це менш природний процес , аніж споглядання ){[EMPTY]=>;:::error_type=Punctuation}')>]"
            ]
          },
          "metadata": {},
          "execution_count": 24
        }
      ]
    },
    {
      "cell_type": "code",
      "source": [
        "sub_sentences8[2]._annotations"
      ],
      "metadata": {
        "colab": {
          "base_uri": "https://localhost:8080/"
        },
        "id": "WjbBB3sr5vDs",
        "outputId": "61d5daf8-6a67-4979-de63-7c31e6a42002"
      },
      "execution_count": null,
      "outputs": [
        {
          "output_type": "execute_result",
          "data": {
            "text/plain": [
              "[Annotation(start=102, end=109, source_text='[EMPTY]', suggestions=[';'], meta={'error_type': 'Punctuation'})]"
            ]
          },
          "metadata": {},
          "execution_count": 25
        }
      ]
    },
    {
      "cell_type": "code",
      "source": [
        "sub_sentences8[2].get_corrected_text()[102:102+1]"
      ],
      "metadata": {
        "colab": {
          "base_uri": "https://localhost:8080/"
        },
        "id": "Vc0NsPMp5zCH",
        "outputId": "8bd59581-8ced-4f5e-bfea-afe26673191b"
      },
      "execution_count": null,
      "outputs": [
        {
          "output_type": "execute_result",
          "data": {
            "text/plain": [
              "';'"
            ],
            "application/vnd.google.colaboratory.intrinsic+json": {
              "type": "string"
            }
          },
          "metadata": {},
          "execution_count": 26
        }
      ]
    },
    {
      "cell_type": "code",
      "source": [
        "annotated_list[2]"
      ],
      "metadata": {
        "colab": {
          "base_uri": "https://localhost:8080/"
        },
        "id": "ugeLqRRT3IpB",
        "outputId": "cefbd822-a29d-48ed-d985-b40040ad21f3"
      },
      "execution_count": null,
      "outputs": [
        {
          "output_type": "execute_result",
          "data": {
            "text/plain": [
              "<AnnotatedText('Сьогодні розповім про те {[EMPTY]=>, :::error_type=Punctuation}як і навіщо мене занесло {у=>в:::error_type=Spelling} Instagram .')>"
            ]
          },
          "metadata": {},
          "execution_count": 27
        }
      ]
    },
    {
      "cell_type": "code",
      "source": [
        "sub_sentences = get_sub_ann_sentences(annotated_list[2])\n",
        "sub_sentences"
      ],
      "metadata": {
        "colab": {
          "base_uri": "https://localhost:8080/"
        },
        "id": "4J83BqEk2jau",
        "outputId": "1f4754a3-2467-403e-f950-e49424ddaea0"
      },
      "execution_count": null,
      "outputs": [
        {
          "output_type": "execute_result",
          "data": {
            "text/plain": [
              "[<AnnotatedText('Сьогодні розповім про те {[EMPTY]=>, :::error_type=Punctuation}як і навіщо мене занесло в Instagram .')>,\n",
              " <AnnotatedText('Сьогодні розповім про те , як і навіщо мене занесло {у=>в:::error_type=Spelling} Instagram .')>]"
            ]
          },
          "metadata": {},
          "execution_count": 28
        }
      ]
    },
    {
      "cell_type": "code",
      "source": [
        "print(\"[<AnnotatedText('Сьогодні розповім про те {[EMPTY]=>, :::error_type=Punctuation} \\n\" + \"як і навіщо мене занесло в Instagram .')>\\n\"+ \"<AnnotatedText('Сьогодні розповім про те , \\n\" + \"як і навіщо мене занесло {у=>в:::error_type=Spelling} Instagram .')>)\")"
      ],
      "metadata": {
        "colab": {
          "base_uri": "https://localhost:8080/"
        },
        "id": "tBEe9FLYe5IS",
        "outputId": "2add9c31-78db-4033-db68-9bcaaa3ed73b"
      },
      "execution_count": null,
      "outputs": [
        {
          "output_type": "stream",
          "name": "stdout",
          "text": [
            "[<AnnotatedText('Сьогодні розповім про те {[EMPTY]=>, :::error_type=Punctuation} \n",
            "як і навіщо мене занесло в Instagram .')>\n",
            "<AnnotatedText('Сьогодні розповім про те , \n",
            "як і навіщо мене занесло {у=>в:::error_type=Spelling} Instagram .')>)\n"
          ]
        }
      ]
    },
    {
      "cell_type": "code",
      "source": [
        "annotated_list[1]"
      ],
      "metadata": {
        "colab": {
          "base_uri": "https://localhost:8080/"
        },
        "id": "cVXo7ksd3Tb6",
        "outputId": "53637db5-09b2-49b2-fe49-00979788ade5"
      },
      "execution_count": null,
      "outputs": [
        {
          "output_type": "execute_result",
          "data": {
            "text/plain": [
              "<AnnotatedText('Останні 3 місяці мого життя видалися аж занадто насиченими на події та емоції , але ось нарешті у мене з’явилося декілька вільних годин та трохи енергії {[EMPTY]=>, :::error_type=Punctuation}щоб продовжити серію записів щодо мого досвіду блогерства .')>"
            ]
          },
          "metadata": {},
          "execution_count": 29
        }
      ]
    },
    {
      "cell_type": "code",
      "source": [
        "sub_sentences = get_sub_ann_sentences(annotated_list[1])\n",
        "sub_sentences"
      ],
      "metadata": {
        "id": "psNWPY6j244q",
        "colab": {
          "base_uri": "https://localhost:8080/"
        },
        "outputId": "60e2736e-e5fa-4386-fab3-a10332c7d359"
      },
      "execution_count": null,
      "outputs": [
        {
          "output_type": "execute_result",
          "data": {
            "text/plain": [
              "[<AnnotatedText('Останні 3 місяці мого життя видалися аж занадто насиченими на події та емоції , але ось нарешті у мене з’явилося декілька вільних годин та трохи енергії {[EMPTY]=>, :::error_type=Punctuation}щоб продовжити серію записів щодо мого досвіду блогерства .')>]"
            ]
          },
          "metadata": {},
          "execution_count": 30
        }
      ]
    },
    {
      "cell_type": "markdown",
      "source": [
        "# NEW annotated_text_flatten with get_sub_ann_sentences"
      ],
      "metadata": {
        "id": "uOdxgM303kK-"
      }
    },
    {
      "cell_type": "code",
      "source": [
        "annotated_text_flatten = []\n",
        "for annotated_text in annotated_list:\n",
        "  sub_sentences = get_sub_ann_sentences(annotated_text)\n",
        "  annotated_text_flatten.extend(sub_sentences)"
      ],
      "metadata": {
        "id": "n1EL-ehz31yE"
      },
      "execution_count": null,
      "outputs": []
    },
    {
      "cell_type": "code",
      "source": [
        "len(annotated_text_flatten)"
      ],
      "metadata": {
        "colab": {
          "base_uri": "https://localhost:8080/"
        },
        "id": "qP0Z24TC4HOt",
        "outputId": "5250142f-1f11-420c-8fd3-f91dfad7f727"
      },
      "execution_count": null,
      "outputs": [
        {
          "output_type": "execute_result",
          "data": {
            "text/plain": [
              "26081"
            ]
          },
          "metadata": {},
          "execution_count": 25
        }
      ]
    },
    {
      "cell_type": "code",
      "source": [
        "empty_target = []\n",
        "\n",
        "for annotated_text in annotated_text_flatten:\n",
        "    if annotated_text.get_annotations()[0].top_suggestion == '':\n",
        "      # print(annotated_text)\n",
        "# — {}- не=>} Не:::error_type=Spelling} брав , ну і добре.\n",
        "# – {}-=>}:::error_type=Punctuation} Скажіть , Іване Миколайовичу , а ви-то самі як далеко були від турнікету , коли Берліоз звалився під трамвай ?\n",
        "# — {}-=>}:::error_type=Punctuation} Чудово , чудово , — пробурмотів доктор , анітрохи не ображаючись .\n",
        "\n",
        "      # Видаляю цих 3 приклади\n",
        "      annotated_text_flatten.remove(annotated_text)\n",
        "      empty_target.append(annotated_text)\n",
        "\n",
        "print(len(empty_target))\n",
        "print('Len of updated dataset', len(annotated_text_flatten))\n"
      ],
      "metadata": {
        "colab": {
          "base_uri": "https://localhost:8080/"
        },
        "id": "xKXWALkYMLfV",
        "outputId": "6dfe5b63-455d-418d-a0a0-101d2c0e680e"
      },
      "execution_count": null,
      "outputs": [
        {
          "output_type": "stream",
          "name": "stdout",
          "text": [
            "3\n",
            "Len of updated dataset 26078\n"
          ]
        }
      ]
    },
    {
      "cell_type": "code",
      "source": [
        "arr= []\n",
        "\n",
        "for annotated_text in annotated_text_flatten:\n",
        "    if annotated_text.get_annotations()[0].start == 1:\n",
        "      print(annotated_text)\n",
        "      arr.append(annotated_text)\n",
        "\n",
        "print(len(arr))"
      ],
      "metadata": {
        "colab": {
          "base_uri": "https://localhost:8080/"
        },
        "id": "ejNERrCgndE6",
        "outputId": "4a939033-7615-46e6-f9ea-b19ac6819193"
      },
      "execution_count": null,
      "outputs": [
        {
          "output_type": "stream",
          "name": "stdout",
          "text": [
            "—{Доктор=>Докторе:::error_type=G/Case} , —каже Меєр , —Ви ж не збираєтесь іти ?\n",
            "\"{'ми'=>Ми:::error_type=Punctuation} \" — це означення нашої свідомості , що викликана наявністю і будовою мозку .\n",
            "—{Але=>Все:::error_type=Punctuation} гаразд ?\n",
            "—{- Їй=>Їй -:::error_type=Punctuation} богу !\n",
            "—{Все=>Усе:::error_type=Spelling} добре , офіцере .\n",
            "—{_-Гм=>Гм:::error_type=Punctuation} !..\n",
            "А{В=>о:::error_type=G/Prep} десятій , учинивши над собою формове насилля , Римський зняв слухавку з апарата [EMPTY] і тут переконався в тому , що телефон його мертвий .\n",
            "一{- Ви-професор=>Ви професор:::error_type=Punctuation} ?\n",
            "—{- Їй=>Їй -:::error_type=Punctuation} богу ?\n",
            "—{- Їй=>Їй -:::error_type=Punctuation} богу ?\n",
            "10\n"
          ]
        }
      ]
    },
    {
      "cell_type": "code",
      "source": [
        "annotated_text_flatten[6]"
      ],
      "metadata": {
        "colab": {
          "base_uri": "https://localhost:8080/"
        },
        "id": "2Sh1Mrw3mQA9",
        "outputId": "ceff2f0f-cc51-44e2-8ad3-df68a62f1de1"
      },
      "execution_count": null,
      "outputs": [
        {
          "output_type": "execute_result",
          "data": {
            "text/plain": [
              "<AnnotatedText('Колись давно я прочитав статтю [EMPTY] чи просто коментарій – {вже=>уже:::error_type=Spelling} не згадаю .')>"
            ]
          },
          "metadata": {},
          "execution_count": 28
        }
      ]
    },
    {
      "cell_type": "code",
      "source": [
        "print(annotated_text_flatten[0].get_annotations()[0])\n",
        "print(annotated_text_flatten[1].get_annotations()[0])\n",
        "print(annotated_text_flatten[5].get_annotations()[0])"
      ],
      "metadata": {
        "colab": {
          "base_uri": "https://localhost:8080/"
        },
        "id": "fihTXvzjYROh",
        "outputId": "d5b359f6-027b-45de-e1b2-c46316c3eeb9"
      },
      "execution_count": null,
      "outputs": [
        {
          "output_type": "stream",
          "name": "stdout",
          "text": [
            "Annotation(start=47, end=48, source_text='у', suggestions=['в'], meta={'error_type': 'Spelling'})\n",
            "Annotation(start=153, end=160, source_text='[EMPTY]', suggestions=[', '], meta={'error_type': 'Punctuation'})\n",
            "Annotation(start=31, end=32, source_text=',', suggestions=['[EMPTY]'], meta={'error_type': 'Punctuation'})\n"
          ]
        }
      ]
    },
    {
      "cell_type": "code",
      "source": [
        "print(annotated_text_flatten[0])\n",
        "print(annotated_text_flatten[1])\n",
        "print(annotated_text_flatten[98])"
      ],
      "metadata": {
        "id": "GewC22d5bZAm",
        "colab": {
          "base_uri": "https://localhost:8080/"
        },
        "outputId": "6ef3c05c-afc0-419e-acfe-40821f0e235b"
      },
      "execution_count": null,
      "outputs": [
        {
          "output_type": "stream",
          "name": "stdout",
          "text": [
            "Byte for France або “ Мій досвід ведення блогу {у=>в:::error_type=Spelling} Instagram ”\n",
            "Останні 3 місяці мого життя видалися аж занадто насиченими на події та емоції , але ось нарешті у мене з’явилося декілька вільних годин та трохи енергії {[EMPTY]=>, :::error_type=Punctuation}щоб продовжити серію записів щодо мого досвіду блогерства .\n",
            "Просто кажу , що в історії були і такі варіанти{[EMPTY]=>.:::error_type=Punctuation}\n"
          ]
        }
      ]
    },
    {
      "cell_type": "markdown",
      "source": [
        "# Виправлення помилки позиції токенів в реченні"
      ],
      "metadata": {
        "id": "AAQEHvmjo489"
      }
    },
    {
      "cell_type": "code",
      "source": [
        "def testing_all(example_annotated):\n",
        "  print(example_annotated)\n",
        "  example_annotation = example_annotated.get_annotations()[0]\n",
        "  # print(example_annotation)\n",
        "  example_pos_source = get_annotation_source_indexes(example_annotated, example_annotation)\n",
        "  # print(example_pos_source)\n",
        "  example_pos_target = get_annotation_target_indexes(example_annotated, example_annotation)\n",
        "\n",
        "  encoded_example_source = encode_sentence(example_annotated.get_original_text(), tokenizer)\n",
        "  # print(encoded_example_source)\n",
        "\n",
        "\n",
        "  encoded_example_target = encode_sentence(example_annotated.get_corrected_text(), tokenizer)\n",
        "  # print(encoded_example_target)\n",
        "  # print( \"Індекси токенів слів в оригінальному реченні : \")\n",
        "  # print(encoded_example_source.word_ids())\n",
        "  # print(\"Індекс вхідного тексту анотації в оригінальному реченні\" , example_pos_source )\n",
        "  # print(' ')\n",
        "  # print( \"Індекси токенів слів в виправленому реченні\")\n",
        "  # print(encoded_example_target.word_ids())\n",
        "  # print('Індекс вbхідного тексту анотації в виправленому реченні' , example_pos_target )\n",
        "\n",
        "  print('Токенізована версія оринільного речення: ')\n",
        "  print(tokenizer.tokenize(example_annotated.get_original_text(), add_special_tokens=True))\n",
        "  source_tokens = tokens_ids(encoded_example_source.word_ids(), example_pos_source)\n",
        "  print(\"позиція source токена(ів): \", source_tokens)\n",
        "  print(' ')\n",
        "  print('Токенізована версія виправленого речення: ')\n",
        "  print(tokenizer.tokenize(example_annotated.get_corrected_text(), add_special_tokens=True))\n",
        "  # source_tokens = tokens_ids(encoded_example_source.word_ids(), example_pos_source)\n",
        "  # print(\"позиція source токена(ів)\", source_tokens)\n",
        "  target_tokens = tokens_ids(encoded_example_target.word_ids(), example_pos_target)\n",
        "  print(\"позиція target токена(ів)\", target_tokens)\n"
      ],
      "metadata": {
        "id": "hYSt_ETahFn9"
      },
      "execution_count": null,
      "outputs": []
    },
    {
      "cell_type": "code",
      "source": [
        "# приклад правильного речення - перед і після анотації пробіли\n",
        "example1 = annotated_text_flatten[10]\n",
        "testing_all(example1)"
      ],
      "metadata": {
        "colab": {
          "base_uri": "https://localhost:8080/"
        },
        "id": "SqidQKoK8FA8",
        "outputId": "bc33fe97-0c5b-46a9-9296-b9aeefec0dd0"
      },
      "execution_count": null,
      "outputs": [
        {
          "output_type": "stream",
          "name": "stdout",
          "text": [
            "Як же {автору=>авторові:::error_type=G/Case} вдалося передбачити майбутнє ?\n",
            "(source) токени слів в реченні [None, 0, 1, 2, 2, 3, 4, 4, 4, 5, 6, None] source слово в реченні [2]\n",
            "(target) токени слів в реченні [None, 0, 1, 2, 2, 3, 4, 4, 4, 5, 6, None] target слово в реченні [2]\n",
            "['<s>', '▁Як', '▁же', '▁автор', 'у', '▁вдалося', '▁перед', 'ба', 'чити', '▁майбутнє', '▁?', '</s>']\n",
            "['<s>', '▁Як', '▁же', '▁автор', 'ові', '▁вдалося', '▁перед', 'ба', 'чити', '▁майбутнє', '▁?', '</s>']\n",
            "позиція source токена(ів) [3, 4]\n",
            "позиція target токена(ів) [3, 4]\n"
          ]
        }
      ]
    },
    {
      "cell_type": "code",
      "source": [
        "# слова, які є перед анотацією та\\або після і між ними та анотацією нема пробілу - враховуються\n",
        "example1= AnnotatedText(\"соціальне підтвердження того , що відповідно до тренду{[EMPTY]=>;:::error_type=Punctuation}балала\")\n",
        "#приклад, коли лише перед анотацією нема пробілу - відповідно це слово врахується\n",
        "# example1= AnnotatedText(\"соціальне підтвердження того , що відповідно до тренду{[EMPTY]=>;:::error_type=Punctuation} балала\")\n",
        "testing_all(example1)"
      ],
      "metadata": {
        "colab": {
          "base_uri": "https://localhost:8080/"
        },
        "id": "wF3hLsNPvgH-",
        "outputId": "5752680b-4139-4820-f0e8-18797a625e8c"
      },
      "execution_count": null,
      "outputs": [
        {
          "output_type": "stream",
          "name": "stdout",
          "text": [
            "соціальне підтвердження того , що відповідно до тренду{[EMPTY]=>;:::error_type=Punctuation}балала\n",
            "(source) токени слів в реченні [None, 0, 0, 0, 0, 1, 1, 2, 3, 3, 4, 5, 6, 7, 7, 7, 7, 7, 7, 7, 7, None] source слово в реченні [7]\n",
            "(target) токени слів в реченні [None, 0, 0, 0, 0, 1, 1, 2, 3, 3, 4, 5, 6, 7, 7, 7, 7, 7, None] target слово в реченні [7]\n",
            "['<s>', '▁', 'соціал', 'ь', 'не', '▁під', 'твердження', '▁того', '▁', ',', '▁що', '▁відповідно', '▁до', '▁тренд', 'у', '[', 'EMP', 'TY', ']', 'бала', 'ла', '</s>']\n",
            "['<s>', '▁', 'соціал', 'ь', 'не', '▁під', 'твердження', '▁того', '▁', ',', '▁що', '▁відповідно', '▁до', '▁тренд', 'у', ';', 'бала', 'ла', '</s>']\n",
            "позиція source токена(ів) [13, 14, 15, 16, 17, 18, 19, 20]\n",
            "позиція target токена(ів) [13, 14, 15, 16, 17]\n"
          ]
        }
      ]
    },
    {
      "cell_type": "code",
      "source": [
        "# правильний варіант речення, перед анотацією - пробіл, після анотації - пробіл(навіть незважаючи на те що target містить в собі пробіл)\n",
        "example1= AnnotatedText('Сьогодні розповім про те {[EMPTY]=>, :::error_type=Punctuation} як і навіщо мене занесло в Instagram .')\n",
        "# бо якщо буде так: \"про те {[EMPTY]=>, :::error_type=Punctuation}як\" , тобто коли після анотації нема - таргет буде без змін, а у source буде вже враховутись \"як\"\n",
        "testing_all(example1)"
      ],
      "metadata": {
        "colab": {
          "base_uri": "https://localhost:8080/"
        },
        "id": "A4tEytlhwWTd",
        "outputId": "fa993623-5de8-4e72-a94a-3982531e8d1c"
      },
      "execution_count": null,
      "outputs": [
        {
          "output_type": "stream",
          "name": "stdout",
          "text": [
            "Сьогодні розповім про те {[EMPTY]=>, :::error_type=Punctuation} як і навіщо мене занесло в Instagram .\n",
            "Токенізована версія оринільного речення: \n",
            "['<s>', '▁Сьогодні', '▁роз', 'пові', 'м', '▁про', '▁те', '▁[', 'EMP', 'TY', ']', '▁як', '▁і', '▁на', 'ві', 'що', '▁мене', '▁за', 'не', 'сло', '▁в', '▁Instagram', '▁', '.', '</s>']\n",
            "позиція source токена(ів):  [7, 8, 9, 10]\n",
            " \n",
            "Токенізована версія виправленого речення: \n",
            "['<s>', '▁Сьогодні', '▁роз', 'пові', 'м', '▁про', '▁те', '▁', ',', '▁як', '▁і', '▁на', 'ві', 'що', '▁мене', '▁за', 'не', 'сло', '▁в', '▁Instagram', '▁', '.', '</s>']\n",
            "позиція target токена(ів) [7, 8, 9]\n"
          ]
        }
      ]
    },
    {
      "cell_type": "code",
      "source": [
        "# оригінальне речення з датасету (source би мало бути [2, 3, 4, 5], target [2, 3, 4])\n",
        "# example1= AnnotatedText(\"—{- Їй=>Їй -:::error_type=Punctuation} богу !\")\n",
        "\n",
        "\n",
        "# проте якщо поставити пробіл перед анотацією - воно буде його враховувати до source і target\n",
        "example1= AnnotatedText(\"— {- Їй=>Їй -:::error_type=Punctuation} богу !\")\n",
        "\n",
        "testing_all(example1)"
      ],
      "metadata": {
        "colab": {
          "base_uri": "https://localhost:8080/"
        },
        "id": "gX2n0_RUy6bw",
        "outputId": "44d5a6e7-fcd8-4d0a-c171-0284447e3859"
      },
      "execution_count": null,
      "outputs": [
        {
          "output_type": "stream",
          "name": "stdout",
          "text": [
            "— {- Їй=>Їй -:::error_type=Punctuation} богу !\n",
            "(source) токени слів в реченні [None, 0, 1, 2, 2, 2, 3, 3, 4, None] source слово в реченні [1, 2]\n",
            "(target) токени слів в реченні [None, 0, 1, 1, 1, 2, 3, 3, 4, None] target слово в реченні [1, 2]\n",
            "['<s>', '▁—', '▁-', '▁', 'Ї', 'й', '▁бог', 'у', '▁!', '</s>']\n",
            "['<s>', '▁—', '▁', 'Ї', 'й', '▁-', '▁бог', 'у', '▁!', '</s>']\n",
            "позиція source токена(ів) [2, 3, 4, 5]\n",
            "позиція target токена(ів) [2, 3, 4, 5]\n"
          ]
        }
      ]
    },
    {
      "cell_type": "markdown",
      "source": [
        "Варіант 2"
      ],
      "metadata": {
        "id": "4xv1zibkz7Or"
      }
    },
    {
      "cell_type": "code",
      "source": [
        "def find_consecutive_indices(original, sub):\n",
        "    # Convert tensors to NumPy arrays\n",
        "    original_np = original.numpy()\n",
        "    sub_np = sub.numpy()\n",
        "\n",
        "    indices = [i for i, elem in enumerate(original_np) if elem == sub_np[0]]\n",
        "\n",
        "    consecutive_indices = []\n",
        "    for index in indices:\n",
        "        if len(consecutive_indices) == len(sub_np): # 💢\n",
        "          break\n",
        "        if np.array_equal(original_np[index:index+len(sub_np)], sub_np):\n",
        "            consecutive_indices.extend(range(index, index+len(sub_np)))\n",
        "\n",
        "    if len(consecutive_indices) == 0:\n",
        "        print(f\"⛔️ error \")\n",
        "        raise ValueError(\"This is a custom error message.\")\n",
        "    return consecutive_indices"
      ],
      "metadata": {
        "id": "EVEjlSqJkFcc"
      },
      "execution_count": null,
      "outputs": []
    },
    {
      "cell_type": "code",
      "source": [
        "def find_target_token_idxs(example):\n",
        "  print(example)\n",
        "  example_source = example.get_original_text()\n",
        "  example_target = example.get_corrected_text()\n",
        "  # print('example_source', example_source)\n",
        "  # print('example_target', example_target)\n",
        "\n",
        "  example_source_start = example.get_annotations()[0].start\n",
        "  example_source_end = example.get_annotations()[0].end\n",
        "  # print('example_source_start', example_source_start, 'example_source_end', example_source_end)\n",
        "\n",
        "  example_target_start = example.get_annotations()[0].start\n",
        "  length_target =len(example.get_annotations()[0].top_suggestion)\n",
        "  example_target_end = example_target_start + length_target\n",
        "  # print('example_target_start', example_target_start, 'example_target_end', example_target_end)\n",
        "\n",
        "  source_part = example_source[example_source_start : example_source_end]\n",
        "  target_part =example_target[example_target_start :example_target_end]\n",
        "  # print('source_part', source_part)\n",
        "  # print('target_part', target_part)\n",
        "\n",
        "  source_part_tokenized = tokenizer(source_part, add_special_tokens = False)\n",
        "  target_part_tokenized = tokenizer(target_part, add_special_tokens = False)\n",
        "\n",
        "\n",
        "  example_source_tokenized = tokenizer(example_source, add_special_tokens = False)\n",
        "  example_target_tokenized = tokenizer(example_target, add_special_tokens = False)\n",
        "\n",
        "  source_part_tokenized_input_ids = torch.tensor(np.array(source_part_tokenized['input_ids']))\n",
        "  target_part_tokenized_input_ids = torch.tensor(np.array(target_part_tokenized['input_ids']))\n",
        "  print(source_part_tokenized_input_ids,target_part_tokenized_input_ids )\n",
        "\n",
        "  example_source_tokenized_input_ids = torch.tensor(np.array(example_source_tokenized['input_ids']))\n",
        "  example_target_tokenized_input_ids = torch.tensor(np.array(example_target_tokenized['input_ids']))\n",
        "  print(example_source_tokenized_input_ids, example_target_tokenized_input_ids)\n",
        "\n",
        "\n",
        "  sent1_tokens_indexes = find_consecutive_indices(example_source_tokenized_input_ids, source_part_tokenized_input_ids)\n",
        "  sent2_tokens_indexes = find_consecutive_indices(example_target_tokenized_input_ids, target_part_tokenized_input_ids)\n",
        "  # sent2_target_tokens_indexes = sent2_target_tokens_indexes + np.array(second_sentence_start_index)\n",
        "\n",
        "  return {\"sent1_tokens_indexes\": sent1_tokens_indexes, \"sent2_tokens_indexes\": sent2_tokens_indexes}"
      ],
      "metadata": {
        "id": "ChaZ-wZpj-bY"
      },
      "execution_count": null,
      "outputs": []
    },
    {
      "cell_type": "code",
      "source": [
        "# цей код перевіряє по самих токенах в цілому реченні і source\\target\n",
        "\n",
        "\n",
        "#речення правильне - перед і після анотації пробіли\n",
        "find_target_token_idxs(annotated_text_flatten[10])"
      ],
      "metadata": {
        "colab": {
          "base_uri": "https://localhost:8080/"
        },
        "id": "lYybeKha0a6T",
        "outputId": "dba94408-ef52-4919-b1d2-03672538ff38"
      },
      "execution_count": null,
      "outputs": [
        {
          "output_type": "stream",
          "name": "stdout",
          "text": [
            "Як же {автору=>авторові:::error_type=G/Case} вдалося передбачити майбутнє ?\n",
            "tensor([13391,   105]) tensor([13391, 12800])\n",
            "tensor([  4910,   1355,  13391,    105, 163258,   6962,   1996,  63542, 190560,\n",
            "           705]) tensor([  4910,   1355,  13391,  12800, 163258,   6962,   1996,  63542, 190560,\n",
            "           705])\n"
          ]
        },
        {
          "output_type": "execute_result",
          "data": {
            "text/plain": [
              "{'sent1_tokens_indexes': [2, 3], 'sent2_tokens_indexes': [2, 3]}"
            ]
          },
          "metadata": {},
          "execution_count": 45
        }
      ]
    },
    {
      "cell_type": "code",
      "source": [
        "#речення НЕправильне - перед і після анотації НЕМАЄ пробілів\n",
        "# find_target_token_idxs(AnnotatedText(\"соціальне підтвердження того , що відповідно до тренду{[EMPTY]=>бувай:::error_type=Punctuation}.\"))\n",
        "# ще приклад\n",
        "# find_target_token_idxs(annotated_text_flatten[98])"
      ],
      "metadata": {
        "id": "nSuZ_pNq133U"
      },
      "execution_count": null,
      "outputs": []
    },
    {
      "cell_type": "code",
      "source": [
        "# Проте з реченнями, де перед анотацією нема пробілу, проте після є - ситуація інша:\n",
        "find_target_token_idxs(annotated_text_flatten[2])\n",
        "\n",
        "#працює правильно, ще приклади:\n",
        "# find_target_token_idxs(annotated_text_flatten[88])"
      ],
      "metadata": {
        "colab": {
          "base_uri": "https://localhost:8080/"
        },
        "id": "FJvRuOes1srz",
        "outputId": "b1fca243-de34-437d-fdf8-9e0a0cc2dfee"
      },
      "execution_count": null,
      "outputs": [
        {
          "output_type": "stream",
          "name": "stdout",
          "text": [
            "Сьогодні розповім про те {[EMPTY]=>, :::error_type=Punctuation}як і навіщо мене занесло в Instagram .\n",
            "tensor([   378, 113926,  27143,    268]) tensor([6, 4])\n",
            "tensor([ 77870,   2724,  33438,    130,    591,   1960,    378, 113926,  27143,\n",
            "           268,  17931,    189,     29,   4335,  13196,  15558,     61,    336,\n",
            "         33314,     49,   9936,      6,      5]) tensor([77870,  2724, 33438,   130,   591,  1960,     6,     4,  1443,   189,\n",
            "           29,  4335, 13196, 15558,    61,   336, 33314,    49,  9936,     6,\n",
            "            5])\n"
          ]
        },
        {
          "output_type": "execute_result",
          "data": {
            "text/plain": [
              "{'sent1_tokens_indexes': [6, 7, 8, 9], 'sent2_tokens_indexes': [6, 7]}"
            ]
          },
          "metadata": {},
          "execution_count": 47
        }
      ]
    },
    {
      "cell_type": "markdown",
      "source": [
        "# Training model"
      ],
      "metadata": {
        "id": "LhaYIpAG3YwG"
      }
    },
    {
      "cell_type": "code",
      "source": [
        "def map_error_type_to_error_label(list_of_classes, error_type):\n",
        "  #print(error_type)\n",
        "  return list_of_classes.index(error_type)"
      ],
      "metadata": {
        "id": "mLnHQ8hjuQ6-"
      },
      "execution_count": null,
      "outputs": []
    },
    {
      "cell_type": "code",
      "source": [
        "def form_dataset_for_training(annotated_text_flatten, tokenizer):\n",
        "  input_ids_source_res = []\n",
        "  attention_mask_source_res = []\n",
        "  input_ids_target_res = []\n",
        "  attention_mask_target_res = []\n",
        "  source_tokens_idxs_res = []\n",
        "  target_tokens_idxs_res = []\n",
        "  labels = []\n",
        "\n",
        "\n",
        "  for i, example_annotated in tqdm(enumerate(annotated_text_flatten)):\n",
        "      # if i == 1:\n",
        "      #   break\n",
        "\n",
        "      # Дістаємо єдину анотацію\n",
        "      example_annotation = example_annotated.get_annotations()[0]\n",
        "\n",
        "      # Індекси source/target слова в original/corrected реченні (відповідно)\n",
        "      example_pos_source = get_annotation_source_indexes(example_annotated, example_annotation)\n",
        "      example_pos_target = get_annotation_target_indexes(example_annotated, example_annotation)\n",
        "\n",
        "      # Токенізуємо original/corrected речення\n",
        "      encoded_example_source = encode_sentence(example_annotated.get_original_text(), tokenizer)\n",
        "      encoded_example_target = encode_sentence(example_annotated.get_corrected_text(), tokenizer)\n",
        "\n",
        "      # Дістаємо індекси ТОКЕНІВ source/target слова\n",
        "      source_tokens_idxs = tokens_ids(encoded_example_source.word_ids(), example_pos_source)\n",
        "      target_tokens_idxs = tokens_ids(encoded_example_target.word_ids(), example_pos_target)\n",
        "\n",
        "      # Взнаємо тип помилки\n",
        "      error_label = map_error_type_to_error_label(list_of_classes, example_annotation.meta['error_type'])\n",
        "\n",
        "      def pad_tensors_to_equal_length(tensor1, tensor2, pad_token_id):\n",
        "          max_length = max(len(tensor1), len(tensor2))\n",
        "          padded_tensor1 = torch.nn.functional.pad(tensor1, (0, max_length - len(tensor1)), value=pad_token_id)\n",
        "          padded_tensor2 = torch.nn.functional.pad(tensor2, (0, max_length - len(tensor2)), value=pad_token_id)\n",
        "          return padded_tensor1, padded_tensor2\n",
        "\n",
        "      # Example usage:\n",
        "      # Assuming you have two tensors tensor1 and tensor2 and tokenizer.pad_token_id is the value you want to pad with\n",
        "      padded_input_ids_source, padded_input_ids_target = pad_tensors_to_equal_length(encoded_example_source[\"input_ids\"][0],\n",
        "                                                                            encoded_example_target[\"input_ids\"][0],\n",
        "                                                                            tokenizer.pad_token_id)\n",
        "\n",
        "      padded_attention_mask_source, padded_attention_mask_target = pad_tensors_to_equal_length(encoded_example_source[\"attention_mask\"][0],\n",
        "                                                                            encoded_example_target[\"attention_mask\"][0],\n",
        "                                                                            tokenizer.pad_token_id)\n",
        "\n",
        "      # input_ids_source_res.append(encoded_example_source[\"input_ids\"][0])\n",
        "      input_ids_source_res.append(padded_input_ids_source)\n",
        "\n",
        "      #attention_mask_source_res.append(encoded_example_source[\"attention_mask\"][0])\n",
        "      attention_mask_source_res.append(padded_attention_mask_source)\n",
        "\n",
        "\n",
        "      #input_ids_target_res.append(encoded_example_target[\"input_ids\"][0])\n",
        "      input_ids_target_res.append(padded_input_ids_target)\n",
        "\n",
        "\n",
        "      #attention_mask_target_res.append(encoded_example_target[\"attention_mask\"][0])\n",
        "      attention_mask_target_res.append(padded_attention_mask_target)\n",
        "\n",
        "      source_tokens_idxs_res.append(source_tokens_idxs)\n",
        "      target_tokens_idxs_res.append(target_tokens_idxs)\n",
        "\n",
        "      labels.append(error_label)\n",
        "\n",
        "  final_df = Dataset.from_dict({\"input_ids\": input_ids_source_res,\n",
        "                                \"input_ids_target\": input_ids_target_res,\n",
        "                                \"attention_mask\": attention_mask_source_res,\n",
        "                                \"attention_mask_target\": attention_mask_target_res,\n",
        "                                \"source_tokens_idxs\": source_tokens_idxs_res,\n",
        "                                \"target_tokens_idxs\": target_tokens_idxs_res,\n",
        "                                \"labels\": labels,\n",
        "                                })\n",
        "\n",
        "  return final_df"
      ],
      "metadata": {
        "id": "JtvaGyykni8d"
      },
      "execution_count": null,
      "outputs": []
    },
    {
      "cell_type": "code",
      "source": [
        "df_no_mask = form_dataset_for_training(annotated_text_flatten, tokenizer)"
      ],
      "metadata": {
        "id": "eHyUzc9-vvTn",
        "colab": {
          "base_uri": "https://localhost:8080/"
        },
        "outputId": "539d968d-70bf-4b98-b3a3-6503415d062c"
      },
      "execution_count": null,
      "outputs": [
        {
          "output_type": "stream",
          "name": "stderr",
          "text": [
            "26078it [00:34, 762.18it/s] \n"
          ]
        }
      ]
    },
    {
      "cell_type": "code",
      "source": [
        "df_no_mask[1]"
      ],
      "metadata": {
        "id": "FUHUssUN3fzj"
      },
      "execution_count": null,
      "outputs": []
    },
    {
      "cell_type": "code",
      "source": [
        "df_no_mask"
      ],
      "metadata": {
        "colab": {
          "base_uri": "https://localhost:8080/"
        },
        "id": "-cIXhfz0yaDa",
        "outputId": "5646710c-b78b-467f-c8c9-c14cf883a458"
      },
      "execution_count": null,
      "outputs": [
        {
          "output_type": "execute_result",
          "data": {
            "text/plain": [
              "Dataset({\n",
              "    features: ['input_ids', 'input_ids_target', 'attention_mask', 'attention_mask_target', 'source_tokens_idxs', 'target_tokens_idxs', 'labels'],\n",
              "    num_rows: 26078\n",
              "})"
            ]
          },
          "metadata": {},
          "execution_count": 52
        }
      ]
    },
    {
      "cell_type": "code",
      "source": [
        "print('''Dataset({\n",
        "    features: ['input_ids', 'input_ids_target', 'attention_mask', 'attention_mask_target',\n",
        "     'source_tokens_idxs', 'target_tokens_idxs', 'labels'],\n",
        "    num_rows: 26078\n",
        "})''')\n"
      ],
      "metadata": {
        "colab": {
          "base_uri": "https://localhost:8080/"
        },
        "id": "rNSKGh0IRMPq",
        "outputId": "a7b054ef-8f57-474b-e6c4-e34788e2f7c9"
      },
      "execution_count": null,
      "outputs": [
        {
          "output_type": "stream",
          "name": "stdout",
          "text": [
            "Dataset({\n",
            "    features: ['input_ids', 'input_ids_target', 'attention_mask', 'attention_mask_target',\n",
            "     'source_tokens_idxs', 'target_tokens_idxs', 'labels'],\n",
            "    num_rows: 26078\n",
            "})\n"
          ]
        }
      ]
    },
    {
      "cell_type": "code",
      "source": [
        "dfs_no_mask = df_no_mask.train_test_split(test_size=0.1)"
      ],
      "metadata": {
        "id": "B2sjZB7tzPbQ"
      },
      "execution_count": null,
      "outputs": []
    },
    {
      "cell_type": "code",
      "source": [
        "dfs_no_mask.set_format(\"torch\")"
      ],
      "metadata": {
        "id": "nUr4tKVkVRoC"
      },
      "execution_count": null,
      "outputs": []
    },
    {
      "cell_type": "code",
      "source": [
        "dfs_no_mask"
      ],
      "metadata": {
        "colab": {
          "base_uri": "https://localhost:8080/"
        },
        "id": "81Fs3YV2zW1x",
        "outputId": "e5ef2bc4-175f-4cc7-8c18-1fa7a3f0b8c3"
      },
      "execution_count": null,
      "outputs": [
        {
          "output_type": "execute_result",
          "data": {
            "text/plain": [
              "DatasetDict({\n",
              "    train: Dataset({\n",
              "        features: ['input_ids', 'input_ids_target', 'attention_mask', 'attention_mask_target', 'source_tokens_idxs', 'target_tokens_idxs', 'labels'],\n",
              "        num_rows: 23470\n",
              "    })\n",
              "    test: Dataset({\n",
              "        features: ['input_ids', 'input_ids_target', 'attention_mask', 'attention_mask_target', 'source_tokens_idxs', 'target_tokens_idxs', 'labels'],\n",
              "        num_rows: 2608\n",
              "    })\n",
              "})"
            ]
          },
          "metadata": {},
          "execution_count": 55
        }
      ]
    },
    {
      "cell_type": "code",
      "source": [
        "# for split, dataset in dfs_no_mask.items():\n",
        "    # dataset.to_json(f\"/content/drive/MyDrive/diploma/_dfs_no_mask_{split}.jsonl\")"
      ],
      "metadata": {
        "colab": {
          "base_uri": "https://localhost:8080/",
          "height": 176
        },
        "id": "lBNLA-8kqxps",
        "outputId": "66209aa5-e345-44df-d199-f6519d1862fa"
      },
      "execution_count": null,
      "outputs": [
        {
          "output_type": "error",
          "ename": "NameError",
          "evalue": "name 'dfs_no_mask' is not defined",
          "traceback": [
            "\u001b[0;31m---------------------------------------------------------------------------\u001b[0m",
            "\u001b[0;31mNameError\u001b[0m                                 Traceback (most recent call last)",
            "\u001b[0;32m<ipython-input-21-34691e0ba93a>\u001b[0m in \u001b[0;36m<cell line: 1>\u001b[0;34m()\u001b[0m\n\u001b[0;32m----> 1\u001b[0;31m \u001b[0;32mfor\u001b[0m \u001b[0msplit\u001b[0m\u001b[0;34m,\u001b[0m \u001b[0mdataset\u001b[0m \u001b[0;32min\u001b[0m \u001b[0mdfs_no_mask\u001b[0m\u001b[0;34m.\u001b[0m\u001b[0mitems\u001b[0m\u001b[0;34m(\u001b[0m\u001b[0;34m)\u001b[0m\u001b[0;34m:\u001b[0m\u001b[0;34m\u001b[0m\u001b[0;34m\u001b[0m\u001b[0m\n\u001b[0m\u001b[1;32m      2\u001b[0m     \u001b[0mdataset\u001b[0m\u001b[0;34m.\u001b[0m\u001b[0mto_json\u001b[0m\u001b[0;34m(\u001b[0m\u001b[0;34mf\"/content/drive/MyDrive/diploma/_dfs_no_mask_{split}.jsonl\"\u001b[0m\u001b[0;34m)\u001b[0m\u001b[0;34m\u001b[0m\u001b[0;34m\u001b[0m\u001b[0m\n",
            "\u001b[0;31mNameError\u001b[0m: name 'dfs_no_mask' is not defined"
          ]
        }
      ]
    },
    {
      "cell_type": "code",
      "source": [
        "from google.colab import drive\n",
        "drive.mount('/content/drive')"
      ],
      "metadata": {
        "colab": {
          "base_uri": "https://localhost:8080/"
        },
        "id": "meLMjSNhrRDB",
        "outputId": "205ee62e-10da-46ef-db19-09f4ee450391"
      },
      "execution_count": null,
      "outputs": [
        {
          "output_type": "stream",
          "name": "stdout",
          "text": [
            "Mounted at /content/drive\n"
          ]
        }
      ]
    },
    {
      "cell_type": "code",
      "source": [
        "data_files = {\n",
        "    \"train\": '/content/drive/MyDrive/diploma/_dfs_no_mask_train.jsonl',\n",
        "    \"test\":  '/content/drive/MyDrive/diploma/_dfs_no_mask_test.jsonl',\n",
        "    }\n",
        "dfs_no_mask = load_dataset(\"json\", data_files=data_files, )\n",
        "dfs_no_mask.set_format(\"torch\")\n",
        "dfs_no_mask"
      ],
      "metadata": {
        "colab": {
          "base_uri": "https://localhost:8080/"
        },
        "id": "T6xGBT78r1Uj",
        "outputId": "38290a49-937a-4b14-ea6e-33ca871ba2aa"
      },
      "execution_count": null,
      "outputs": [
        {
          "output_type": "execute_result",
          "data": {
            "text/plain": [
              "DatasetDict({\n",
              "    train: Dataset({\n",
              "        features: ['input_ids', 'input_ids_target', 'attention_mask', 'attention_mask_target', 'source_tokens_idxs', 'target_tokens_idxs', 'labels'],\n",
              "        num_rows: 23470\n",
              "    })\n",
              "    test: Dataset({\n",
              "        features: ['input_ids', 'input_ids_target', 'attention_mask', 'attention_mask_target', 'source_tokens_idxs', 'target_tokens_idxs', 'labels'],\n",
              "        num_rows: 2608\n",
              "    })\n",
              "})"
            ]
          },
          "metadata": {},
          "execution_count": 9
        }
      ]
    },
    {
      "cell_type": "code",
      "source": [
        "for i in range(dfs_no_mask[\"train\"].num_rows):\n",
        " # if isinstance(dfs_no_mask[\"train\"][i][\"input_ids_target\"][0], int):\n",
        "  #if (len(dfs_no_mask[\"train\"][i][\"input_ids_target\"]) != len(dfs_no_mask[\"train\"][i][\"input_ids\"]) ):\n",
        "    print(i)\n",
        "    print(len(dfs_no_mask[\"train\"][i][\"input_ids_target\"]), len(dfs_no_mask[\"train\"][i][\"input_ids\"]))\n",
        "    print(dfs_no_mask[\"train\"][i])\n",
        "    break"
      ],
      "metadata": {
        "colab": {
          "base_uri": "https://localhost:8080/"
        },
        "id": "lo1GPC_1QJKx",
        "outputId": "5d991b84-6f13-43e3-f8a9-ce979da840af"
      },
      "execution_count": null,
      "outputs": [
        {
          "output_type": "stream",
          "name": "stdout",
          "text": [
            "0\n",
            "56 56\n",
            "{'input_ids': tensor([     0,     44,    589,    551,   1447,    415,   1182,  21958,    415,\n",
            "           518,   2574,      6,      4,   8734,   1086,   1752,  43359,  43759,\n",
            "         23343, 167391,  99953,  78398,   3693,    526,   6218,   1117,   3707,\n",
            "            25,   1343,   1082,  57586,    711,     44,     20,  70540,    589,\n",
            "         49257,  17527,      6,      4,     61,  12270,   1447,  42149,  80956,\n",
            "             6,  59933,    328,    255,   2336,  10698,  31125,  24916,      6,\n",
            "             5,      2]), 'input_ids_target': tensor([     0,     44,    589,    551,   1447,    415,   1182,  21958,    415,\n",
            "           518,   2574,      6,      4,   8734,   1086,   1752,  43359,  43759,\n",
            "         23343, 167391,  99953,  78398,   3693,    526,   6218,   1117,   3707,\n",
            "            25,   1343,   1082,  57586,    711,    292,  70540,    589,  49257,\n",
            "         17527,      6,      4,     61,  12270,   1447,  42149,  80956,      6,\n",
            "         59933,    328,    255,   2336,  10698,  31125,  24916,      6,      5,\n",
            "             2,      1]), 'attention_mask': tensor([1, 1, 1, 1, 1, 1, 1, 1, 1, 1, 1, 1, 1, 1, 1, 1, 1, 1, 1, 1, 1, 1, 1, 1,\n",
            "        1, 1, 1, 1, 1, 1, 1, 1, 1, 1, 1, 1, 1, 1, 1, 1, 1, 1, 1, 1, 1, 1, 1, 1,\n",
            "        1, 1, 1, 1, 1, 1, 1, 1]), 'attention_mask_target': tensor([1, 1, 1, 1, 1, 1, 1, 1, 1, 1, 1, 1, 1, 1, 1, 1, 1, 1, 1, 1, 1, 1, 1, 1,\n",
            "        1, 1, 1, 1, 1, 1, 1, 1, 1, 1, 1, 1, 1, 1, 1, 1, 1, 1, 1, 1, 1, 1, 1, 1,\n",
            "        1, 1, 1, 1, 1, 1, 1, 1]), 'source_tokens_idxs': tensor([32, 33]), 'target_tokens_idxs': tensor([32]), 'labels': tensor(1)}\n"
          ]
        }
      ]
    },
    {
      "cell_type": "code",
      "source": [
        "# batch_size = 50\n",
        "batch_size = 25\n"
      ],
      "metadata": {
        "id": "PvUJ8n2cmUjj"
      },
      "execution_count": null,
      "outputs": []
    },
    {
      "cell_type": "code",
      "source": [
        "data_collator = DataCollatorWithPadding(\n",
        "    tokenizer=tokenizer,\n",
        "    padding=True\n",
        ")"
      ],
      "metadata": {
        "id": "o24NWAzAlkP8"
      },
      "execution_count": null,
      "outputs": []
    },
    {
      "cell_type": "code",
      "source": [
        "def collate_function(batch_examples, return_tensors=\"pt\"):\n",
        "\n",
        "    def select_columns(batch_examples, needed_columns):\n",
        "        filtered_batch = [] # len(filtered_batch) = batch_size\n",
        "        for example in batch_examples:\n",
        "            filtered_batch.append({column: example[column] for column in needed_columns})\n",
        "        return filtered_batch\n",
        "\n",
        "    def make_mask(batch, feature):\n",
        "        mask = torch.zeros_like(batch[\"input_ids\"])\n",
        "        for i, xs in enumerate(batch_examples):\n",
        "            mask[i][xs[feature]] = 1\n",
        "        return mask\n",
        "\n",
        "    inputs = select_columns(batch_examples, [\"input_ids\",\n",
        "                                            #  \"input_ids_target\",\n",
        "                                             \"attention_mask\",\n",
        "                                            #  \"attention_mask_target\"\n",
        "                                             ])\n",
        "\n",
        "    batch_inputs = data_collator(inputs)\n",
        "\n",
        "    batch_inputs[\"source_tokens_mask\"] = make_mask(\n",
        "        batch_inputs, \"source_tokens_idxs\"\n",
        "    )\n",
        "    #print(batch_inputs[\"source_tokens_mask\"])\n",
        "\n",
        "    batch_inputs[\"target_tokens_mask\"] = make_mask(\n",
        "        batch_inputs, \"target_tokens_idxs\"\n",
        "    )\n",
        "\n",
        "    def get_feature(batch_inputs, feature):\n",
        "      feature_values = torch.zeros_like(batch_inputs[\"input_ids\"])\n",
        "      max_length = feature_values.shape[1]\n",
        "\n",
        "      # batch_examples - list of dictionaries, where each dict is a one instance from batch\n",
        "      for i, xs in enumerate(batch_examples):\n",
        "          feature_length = xs[feature].shape[0]\n",
        "\n",
        "          # Pad xs[feature] to max_length if it's less than max_length\n",
        "          if feature_length < max_length:\n",
        "              padded_feature = F.pad(xs[feature], (0, max_length - feature_length), value=tokenizer.pad_token_id)\n",
        "              feature_values[i] = padded_feature\n",
        "          elif feature_length > max_length:\n",
        "              print(\"⛔️ TRUNCATED\")\n",
        "              # If feature_length is greater than or equal to max_length, truncate xs[feature] to max_length\n",
        "              feature_values[i] = xs[feature][:max_length]\n",
        "          else:\n",
        "              feature_values[i] = xs[feature]\n",
        "\n",
        "      return feature_values\n",
        "\n",
        "\n",
        "    #print(batch_examples[\"input_ids_target\"])\n",
        "    batch_inputs[\"input_ids_target\"] = get_feature(batch_inputs, \"input_ids_target\")\n",
        "    batch_inputs[\"attention_mask_target\"] = get_feature(batch_inputs, \"attention_mask_target\")\n",
        "\n",
        "\n",
        "\n",
        "\n",
        "    # Виділення міток з функції\n",
        "    labels = [float(x[\"labels\"]) for x in batch_examples]\n",
        "    batch_labels = {\"labels\": torch.tensor(labels)}\n",
        "\n",
        "    # Повернення окремих пакунків даних для бачів та міток\n",
        "    return batch_inputs, batch_labels"
      ],
      "metadata": {
        "id": "jHEWL0umkcN8"
      },
      "execution_count": null,
      "outputs": []
    },
    {
      "cell_type": "code",
      "source": [
        "from torch.utils.data import DataLoader\n",
        "train_dataloader = DataLoader(\n",
        "    dfs_no_mask[\"train\"],\n",
        "    shuffle=True,\n",
        "    batch_size=batch_size,\n",
        "    collate_fn=collate_function,\n",
        ")\n",
        "\n",
        "eval_dataloader = DataLoader(\n",
        "    dfs_no_mask[\"test\"],\n",
        "    batch_size=batch_size,\n",
        "    collate_fn=collate_function\n",
        ")"
      ],
      "metadata": {
        "id": "ZOC9eSeDmJBA"
      },
      "execution_count": null,
      "outputs": []
    },
    {
      "cell_type": "code",
      "source": [
        "for batch, labels in train_dataloader:\n",
        "    print(batch)\n",
        "    print(labels)\n",
        "    break"
      ],
      "metadata": {
        "colab": {
          "base_uri": "https://localhost:8080/"
        },
        "id": "OUJ6s35TzxPr",
        "outputId": "9f515f56-dc39-4794-b3ee-c7b1071958f2"
      },
      "execution_count": null,
      "outputs": [
        {
          "output_type": "stream",
          "name": "stdout",
          "text": [
            "{'input_ids': tensor([[    0,    20,   536,  ...,     1,     1,     1],\n",
            "        [    0,  1522, 12149,  ...,     1,     1,     1],\n",
            "        [    0, 48122,   103,  ...,     1,     1,     1],\n",
            "        ...,\n",
            "        [    0,    44,  1089,  ...,     1,     1,     1],\n",
            "        [    0,   292,  7762,  ...,     1,     1,     1],\n",
            "        [    0,    20, 15980,  ...,     1,     1,     1]]), 'attention_mask': tensor([[1, 1, 1,  ..., 0, 0, 0],\n",
            "        [1, 1, 1,  ..., 0, 0, 0],\n",
            "        [1, 1, 1,  ..., 0, 0, 0],\n",
            "        ...,\n",
            "        [1, 1, 1,  ..., 0, 0, 0],\n",
            "        [1, 1, 1,  ..., 0, 0, 0],\n",
            "        [1, 1, 1,  ..., 0, 0, 0]]), 'source_tokens_mask': tensor([[0, 1, 0,  ..., 0, 0, 0],\n",
            "        [0, 0, 0,  ..., 0, 0, 0],\n",
            "        [0, 1, 1,  ..., 0, 0, 0],\n",
            "        ...,\n",
            "        [0, 0, 0,  ..., 0, 0, 0],\n",
            "        [0, 0, 0,  ..., 0, 0, 0],\n",
            "        [0, 1, 0,  ..., 0, 0, 0]]), 'target_tokens_mask': tensor([[0, 1, 0,  ..., 0, 0, 0],\n",
            "        [0, 0, 0,  ..., 0, 0, 0],\n",
            "        [0, 1, 0,  ..., 0, 0, 0],\n",
            "        ...,\n",
            "        [0, 0, 0,  ..., 0, 0, 0],\n",
            "        [0, 0, 0,  ..., 0, 0, 0],\n",
            "        [0, 1, 0,  ..., 0, 0, 0]]), 'input_ids_target': tensor([[    0,   292,   536,  ...,     1,     1,     1],\n",
            "        [    0,  1522, 12149,  ...,     1,     1,     1],\n",
            "        [    0, 81836,   378,  ...,     1,     1,     1],\n",
            "        ...,\n",
            "        [    0,    44,  1089,  ...,     1,     1,     1],\n",
            "        [    0,   292,  7762,  ...,     1,     1,     1],\n",
            "        [    0,   292, 15980,  ...,     1,     1,     1]]), 'attention_mask_target': tensor([[1, 1, 1,  ..., 1, 1, 1],\n",
            "        [1, 1, 1,  ..., 1, 1, 1],\n",
            "        [1, 1, 1,  ..., 1, 1, 1],\n",
            "        ...,\n",
            "        [1, 1, 1,  ..., 1, 1, 1],\n",
            "        [1, 1, 1,  ..., 1, 1, 1],\n",
            "        [1, 1, 1,  ..., 1, 1, 1]])}\n",
            "{'labels': tensor([ 1.,  1.,  0.,  0.,  1.,  2.,  2.,  0.,  1., 14.,  0.,  1.,  0.,  0.,\n",
            "         1.,  1.,  1.,  1.,  1.,  1.,  1.,  1.,  1.,  1.,  1.])}\n"
          ]
        }
      ]
    },
    {
      "cell_type": "code",
      "source": [
        "import torch.nn as nn\n",
        "import torch.nn.functional as F\n",
        "import torch.optim as optim\n",
        "\n",
        "\n",
        "class SiameseErrorTypeClassificator(nn.Module):\n",
        "    \"\"\"Siameese network for error type classification.\n",
        "    \"\"\"\n",
        "    def __init__(self, encoder, num_classes):\n",
        "        super().__init__()\n",
        "        self.encoder = encoder\n",
        "        self.num_classes = num_classes\n",
        "\n",
        "        size_of_input = encoder.config.hidden_size * 2\n",
        "        self.linear = nn.Linear(size_of_input, num_classes)\n",
        "\n",
        "    def forward(self, batch):\n",
        "        # outputs_1 = self.encoder(**inputs_1)\n",
        "        # outputs_2 = self.encoder(**inputs_2)\n",
        "\n",
        "        input_ids_source = batch[\"input_ids\"]\n",
        "        input_ids_target = batch[\"input_ids_target\"]\n",
        "\n",
        "        attention_mask_source = batch[\"attention_mask\"]\n",
        "        attention_mask_target = batch[\"attention_mask_target\"]\n",
        "\n",
        "        tokens_mask_source = batch[\"source_tokens_mask\"]\n",
        "        tokens_mask_target = batch[\"target_tokens_mask\"]\n",
        "\n",
        "        bert_source_outputs = self.encoder(\n",
        "            input_ids=input_ids_source,\n",
        "            attention_mask=attention_mask_source,\n",
        "        )\n",
        "\n",
        "        bert_target_outputs = self.encoder(\n",
        "            input_ids=input_ids_target,\n",
        "            attention_mask=attention_mask_target,\n",
        "        )\n",
        "\n",
        "        target_vector_1 = self._span_vector(bert_source_outputs, tokens_mask_source)\n",
        "        target_vector_2 = self._span_vector(bert_target_outputs, tokens_mask_target)\n",
        "\n",
        "        features = concatenate_vectors(target_vector_1, target_vector_2)\n",
        "        logits = self.linear(features)\n",
        "        log_probs = F.log_softmax(logits, dim=1)\n",
        "\n",
        "        return log_probs\n",
        "\n",
        "\n",
        "    def _span_vector(self, outputs, span_tokens):\n",
        "        \"\"\"Compute mean output vector for span_tokens. \"\"\"\n",
        "\n",
        "        # hidden_states = outputs.last_hidden_state[:, span_tokens, :]\n",
        "        # mean = hidden_states.mean(dim=1)\n",
        "\n",
        "        hidden_state = outputs.last_hidden_state   # (batch_size, seq_len, hidden_size)\n",
        "\n",
        "        # Compute average hidden state of target word in each sentence\n",
        "        sum_target = (span_tokens.unsqueeze(-1) * hidden_state).sum(dim=1)  # (batch_size, hidden_size)\n",
        "        avg_target = sum_target / span_tokens.sum(dim=1).unsqueeze(-1)    # (batch_size, hidden_size)\n",
        "        return avg_target"
      ],
      "metadata": {
        "id": "M-0VTUAvmWXA"
      },
      "execution_count": null,
      "outputs": []
    },
    {
      "cell_type": "code",
      "source": [
        "def train(model, training_data):\n",
        "\n",
        "  criterion = nn.CrossEntropyLoss()\n",
        "  optimizer = optim.Adam(model.parameters(), lr=0.001)\n",
        "\n",
        "  # TODO: loop over\n",
        "  for example_annotated in training_data:\n",
        "\n",
        "    #DONE: Use AnnotatedText\n",
        "    # text1 = 'Я йти до школи.'\n",
        "    # text2 = 'Я йду до школи.'\n",
        "\n",
        "    # example_annotated = AnnotatedText(\"Я {йти=>йду} до школи.\")\n",
        "\n",
        "\n",
        "    #DONE: Switch from `word_index()` to `get_annotation_source_indexes()`\n",
        "    #       and `get_annotation_source_indexes()`\n",
        "    # pos1 = word_index(text1, 'йти')\n",
        "    # pos2 = word_index(text2, 'йду')\n",
        "    example_annotation = example_annotated.get_annotations()[0]\n",
        "    example_pos_source = get_annotation_source_indexes(example_annotated, example_annotation)\n",
        "    example_pos_target = get_annotation_target_indexes(example_annotated, example_annotation)\n",
        "\n",
        "\n",
        "    encoded_example_source = encode_sentence(example_annotated.get_original_text(), tokenizer)\n",
        "    encoded_example_target = encode_sentence(example_annotated.get_corrected_text(), tokenizer)\n",
        "\n",
        "    source_tokens = tokens_ids(encoded_example_source.word_ids(), example_pos_source)\n",
        "    target_tokens = tokens_ids(encoded_example_target.word_ids(), example_pos_target)\n",
        "\n",
        "    label_true = torch.tensor([list_of_classes.index(\"G/Aspect\")], dtype=torch.long) # ?\n",
        "    # label_true = list_of_classes.index(\"G/Aspect\")\n",
        "\n",
        "    log_probs = model(encoded_example_source, encoded_example_target, source_tokens, target_tokens)\n",
        "    print(log_probs)\n",
        "\n",
        "    # loss = ...  # Compute cross-entropy loss with label_true\n",
        "    # backprop\n",
        "\n",
        "    # loss = criterion(log_probs, label_true.unsqueeze(0))  # Convert label_true to a tensor and unsqueeze to make it match the shape # ?\n",
        "\n",
        "    # Repeat label_true to match the batch size # ?\n",
        "    batch_size = log_probs.size(0)\n",
        "    repeated_label_true = label_true.repeat(batch_size)\n",
        "    loss = criterion(log_probs, repeated_label_true)\n",
        "\n",
        "    loss.backward()\n",
        "    optimizer.step()\n",
        "\n",
        "    # print(loss.item())\n",
        "\n",
        "  return model\n",
        "\n",
        "\n",
        "def validate(model, test_data):\n",
        "    # TODO: loop over test_data and compute prediction metrics\n",
        "    NotImplemented\n",
        "\n",
        "#DONE: Load sentence-level corpus\n",
        "# training_set = training_data\n",
        "training_set = annotated_text_flatten\n",
        "\n",
        "model = Model(encoder, len(list_of_classes))\n",
        "train(model, training_set)\n"
      ],
      "metadata": {
        "id": "06sBS4zJo7le"
      },
      "execution_count": null,
      "outputs": []
    },
    {
      "cell_type": "code",
      "source": [
        "def train(model, train_dataloader, device, optimizer, criterion, num_epochs, eval_dataloader=None):\n",
        "\n",
        "    # Lists to store loss and accuracy values\n",
        "    train_losses = []\n",
        "    train_accuracies = []\n",
        "\n",
        "    eval_losses = []\n",
        "    eval_accuracies = []\n",
        "\n",
        "    batches_since_eval = 0\n",
        "    batches_since_epoch = 0\n",
        "\n",
        "    # Training loop\n",
        "    for epoch in range(num_epochs):\n",
        "        model.train()  # Set the model to training mode\n",
        "        running_loss = 0.0\n",
        "        correct_predictions = 0\n",
        "        total_samples = 0\n",
        "\n",
        "        # Iterate over the training dataset\n",
        "        for batch, batch_labels in tqdm(\n",
        "            train_dataloader, desc=f\"Epoch {epoch+1}/{num_epochs}\"\n",
        "        ):\n",
        "            # Move batch data and labels to GPU\n",
        "            batch = {k: v.to(device) for k, v in batch.items()}\n",
        "            batch_labels = {k: v.to(device) for k, v in batch_labels.items()}\n",
        "\n",
        "            optimizer.zero_grad()\n",
        "\n",
        "            log_probs = model(batch)\n",
        "\n",
        "            loss = criterion(log_probs, batch_labels[\"labels\"].long())\n",
        "\n",
        "\n",
        "            loss.backward()\n",
        "            optimizer.step()\n",
        "            running_loss += loss.item()\n",
        "\n",
        "            # Calculate the number of correct predictions for accuracy\n",
        "            _, predicted = torch.max(log_probs, 1)\n",
        "            correct_predictions = (predicted == batch_labels[\"labels\"].long()).sum().item()\n",
        "\n",
        "\n",
        "            total_samples += len(batch_labels)\n",
        "\n",
        "            # Evaluate the model every EVALUTION_FREQ batches\n",
        "            batches_since_eval += 1\n",
        "            batches_since_epoch += 1\n",
        "            # if eval_dataloader is not None and batches_since_eval >= EVALUTION_FREQ:\n",
        "            #     epoch_loss = running_loss / batches_since_epoch\n",
        "            #     epoch_accuracy = correct_predictions / total_samples\n",
        "            #     eval_loss, eval_accuracy = evaluate_model(model, device, eval_dataloader, criterion)\n",
        "            #     print(f\"\\nEpoch {epoch+1}, Train_Loss: {epoch_loss:.2f}, Train_Accuracy: {epoch_accuracy:.2f}, \"\n",
        "            #           f\"Eval_Loss: {eval_loss:.2f}, Eval_Accuracy: {eval_accuracy:.2f}\\n\")\n",
        "            #     batches_since_eval = 0\n",
        "\n",
        "        # Calculate average loss and accuracy for this epoch\n",
        "        epoch_loss = running_loss / len(train_dataloader)\n",
        "        epoch_accuracy = correct_predictions / total_samples\n",
        "\n",
        "        # Append loss and accuracy values to lists\n",
        "        train_losses.append(epoch_loss)\n",
        "        train_accuracies.append(epoch_accuracy)\n",
        "\n",
        "        # Compute the evaluation loss and accuracy\n",
        "        # eval_loss, eval_accuracy = evaluate_model(model, device, eval_dataloader, criterion)\n",
        "\n",
        "        # Append loss and accuracy values to lists\n",
        "        # eval_losses.append(eval_loss)\n",
        "        # eval_accuracies.append(eval_accuracy)\n",
        "\n",
        "        # Print the average loss and accuracy for this epoch\n",
        "        print(f\"\\nEpoch {epoch+1}, Train_Loss: {epoch_loss:.2f}, Train_Accuracy: {epoch_accuracy:.2f} \")\n",
        "              # f\"Eval_Loss: {eval_loss:.2f}, Eval_Accuracy: {eval_accuracy:.2f} \\n\")\n",
        "\n",
        "    return model, train_losses, train_accuracies, eval_losses, eval_accuracies"
      ],
      "metadata": {
        "id": "z39s0nWyiRvL"
      },
      "execution_count": null,
      "outputs": []
    },
    {
      "cell_type": "code",
      "source": [
        "model = SiameseErrorTypeClassificator(encoder, len(list_of_classes))\n",
        "\n",
        "# Move model to GPU\n",
        "device = torch.device(\"cuda\" if torch.cuda.is_available() else \"cpu\")\n",
        "model.to(device)"
      ],
      "metadata": {
        "id": "QWXUuPVEmu2y",
        "colab": {
          "base_uri": "https://localhost:8080/"
        },
        "outputId": "9dc9a4b5-9bab-4505-e7f9-7ec2df6898d1"
      },
      "execution_count": null,
      "outputs": [
        {
          "output_type": "execute_result",
          "data": {
            "text/plain": [
              "SiameseErrorTypeClassificator(\n",
              "  (encoder): XLMRobertaModel(\n",
              "    (embeddings): XLMRobertaEmbeddings(\n",
              "      (word_embeddings): Embedding(250002, 768, padding_idx=1)\n",
              "      (position_embeddings): Embedding(514, 768, padding_idx=1)\n",
              "      (token_type_embeddings): Embedding(1, 768)\n",
              "      (LayerNorm): LayerNorm((768,), eps=1e-05, elementwise_affine=True)\n",
              "      (dropout): Dropout(p=0.1, inplace=False)\n",
              "    )\n",
              "    (encoder): XLMRobertaEncoder(\n",
              "      (layer): ModuleList(\n",
              "        (0-11): 12 x XLMRobertaLayer(\n",
              "          (attention): XLMRobertaAttention(\n",
              "            (self): XLMRobertaSelfAttention(\n",
              "              (query): Linear(in_features=768, out_features=768, bias=True)\n",
              "              (key): Linear(in_features=768, out_features=768, bias=True)\n",
              "              (value): Linear(in_features=768, out_features=768, bias=True)\n",
              "              (dropout): Dropout(p=0.1, inplace=False)\n",
              "            )\n",
              "            (output): XLMRobertaSelfOutput(\n",
              "              (dense): Linear(in_features=768, out_features=768, bias=True)\n",
              "              (LayerNorm): LayerNorm((768,), eps=1e-05, elementwise_affine=True)\n",
              "              (dropout): Dropout(p=0.1, inplace=False)\n",
              "            )\n",
              "          )\n",
              "          (intermediate): XLMRobertaIntermediate(\n",
              "            (dense): Linear(in_features=768, out_features=3072, bias=True)\n",
              "            (intermediate_act_fn): GELUActivation()\n",
              "          )\n",
              "          (output): XLMRobertaOutput(\n",
              "            (dense): Linear(in_features=3072, out_features=768, bias=True)\n",
              "            (LayerNorm): LayerNorm((768,), eps=1e-05, elementwise_affine=True)\n",
              "            (dropout): Dropout(p=0.1, inplace=False)\n",
              "          )\n",
              "        )\n",
              "      )\n",
              "    )\n",
              "    (pooler): XLMRobertaPooler(\n",
              "      (dense): Linear(in_features=768, out_features=768, bias=True)\n",
              "      (activation): Tanh()\n",
              "    )\n",
              "  )\n",
              "  (linear): Linear(in_features=1536, out_features=24, bias=True)\n",
              ")"
            ]
          },
          "metadata": {},
          "execution_count": 17
        }
      ]
    },
    {
      "cell_type": "code",
      "source": [
        "criterion = nn.CrossEntropyLoss()\n",
        "optimizer = optim.Adam(model.parameters(), lr=0.001)"
      ],
      "metadata": {
        "id": "CF4n3v8ejF74"
      },
      "execution_count": null,
      "outputs": []
    },
    {
      "cell_type": "code",
      "source": [
        "import matplotlib.pyplot as plt"
      ],
      "metadata": {
        "id": "FO6k3W8npB5V"
      },
      "execution_count": null,
      "outputs": []
    },
    {
      "cell_type": "code",
      "source": [
        "def plot_loss_accuracy(losses, accuracies, df_name=\"Train\"):\n",
        "    # Plot loss and accuracy\n",
        "    plt.figure(figsize=(10, 5))\n",
        "    plt.subplot(1, 2, 1)\n",
        "    plt.plot(losses, label=f\"{df_name} Loss\")\n",
        "    plt.xlabel(\"Epoch\")\n",
        "    plt.ylabel(\"Loss\")\n",
        "    plt.title(f\"{df_name} Loss\")\n",
        "    plt.legend()\n",
        "\n",
        "    plt.subplot(1, 2, 2)\n",
        "    plt.plot(accuracies, label=f\"{df_name} Accuracy\")\n",
        "    plt.xlabel(\"Epoch\")\n",
        "    plt.ylabel(\"Accuracy\")\n",
        "    plt.title(f\"{df_name} Accuracy\")\n",
        "    plt.legend()\n",
        "    plt.show()"
      ],
      "metadata": {
        "id": "yi7jUjTjng7g"
      },
      "execution_count": null,
      "outputs": []
    },
    {
      "cell_type": "code",
      "source": [
        "# Training ...\n",
        "model, train_losses, train_accuracies, eval_losses, eval_accuracies = train(\n",
        "    model,\n",
        "    train_dataloader,\n",
        "    device,\n",
        "    optimizer,\n",
        "    criterion,\n",
        "    num_epochs=1,\n",
        "    eval_dataloader=eval_dataloader\n",
        ")\n",
        "\n",
        "# Save model and additional training information\n",
        "# torch.save(\n",
        "#     {\n",
        "#         \"model_state_dict\": model_cel.state_dict(),\n",
        "#         \"train_losses\": train_losses,\n",
        "#         \"train_accuracies\": train_accuracies,\n",
        "#     },\n",
        "#     get_FILE_PATH_TO_SAVE_MODEL('model_cel'),\n",
        "# )\n",
        "\n",
        "plot_loss_accuracy(train_losses, train_accuracies, \"Train\")\n",
        "# plot_loss_accuracy(eval_losses, eval_accuracies, \"Eval\")"
      ],
      "metadata": {
        "id": "NKtaTjsDnMkp",
        "colab": {
          "base_uri": "https://localhost:8080/",
          "height": 529
        },
        "outputId": "6d1badb2-fb42-4967-c01b-1c257af80566"
      },
      "execution_count": null,
      "outputs": [
        {
          "output_type": "stream",
          "name": "stderr",
          "text": [
            "Epoch 1/1:  10%|▉         | 92/939 [01:25<13:10,  1.07it/s]\n"
          ]
        },
        {
          "output_type": "error",
          "ename": "OutOfMemoryError",
          "evalue": "CUDA out of memory. Tried to allocate 22.00 MiB. GPU 0 has a total capacity of 14.75 GiB of which 11.06 MiB is free. Process 39132 has 14.73 GiB memory in use. Of the allocated memory 13.57 GiB is allocated by PyTorch, and 1.03 GiB is reserved by PyTorch but unallocated. If reserved but unallocated memory is large try setting PYTORCH_CUDA_ALLOC_CONF=expandable_segments:True to avoid fragmentation.  See documentation for Memory Management  (https://pytorch.org/docs/stable/notes/cuda.html#environment-variables)",
          "traceback": [
            "\u001b[0;31m---------------------------------------------------------------------------\u001b[0m",
            "\u001b[0;31mOutOfMemoryError\u001b[0m                          Traceback (most recent call last)",
            "\u001b[0;32m<ipython-input-21-246c87459405>\u001b[0m in \u001b[0;36m<cell line: 2>\u001b[0;34m()\u001b[0m\n\u001b[1;32m      1\u001b[0m \u001b[0;31m# Training ...\u001b[0m\u001b[0;34m\u001b[0m\u001b[0;34m\u001b[0m\u001b[0m\n\u001b[0;32m----> 2\u001b[0;31m model, train_losses, train_accuracies, eval_losses, eval_accuracies = train(\n\u001b[0m\u001b[1;32m      3\u001b[0m     \u001b[0mmodel\u001b[0m\u001b[0;34m,\u001b[0m\u001b[0;34m\u001b[0m\u001b[0;34m\u001b[0m\u001b[0m\n\u001b[1;32m      4\u001b[0m     \u001b[0mtrain_dataloader\u001b[0m\u001b[0;34m,\u001b[0m\u001b[0;34m\u001b[0m\u001b[0;34m\u001b[0m\u001b[0m\n\u001b[1;32m      5\u001b[0m     \u001b[0mdevice\u001b[0m\u001b[0;34m,\u001b[0m\u001b[0;34m\u001b[0m\u001b[0;34m\u001b[0m\u001b[0m\n",
            "\u001b[0;32m<ipython-input-16-9aae937ab1a4>\u001b[0m in \u001b[0;36mtrain\u001b[0;34m(model, train_dataloader, device, optimizer, criterion, num_epochs, eval_dataloader)\u001b[0m\n\u001b[1;32m     28\u001b[0m             \u001b[0moptimizer\u001b[0m\u001b[0;34m.\u001b[0m\u001b[0mzero_grad\u001b[0m\u001b[0;34m(\u001b[0m\u001b[0;34m)\u001b[0m\u001b[0;34m\u001b[0m\u001b[0;34m\u001b[0m\u001b[0m\n\u001b[1;32m     29\u001b[0m \u001b[0;34m\u001b[0m\u001b[0m\n\u001b[0;32m---> 30\u001b[0;31m             \u001b[0mlog_probs\u001b[0m \u001b[0;34m=\u001b[0m \u001b[0mmodel\u001b[0m\u001b[0;34m(\u001b[0m\u001b[0mbatch\u001b[0m\u001b[0;34m)\u001b[0m\u001b[0;34m\u001b[0m\u001b[0;34m\u001b[0m\u001b[0m\n\u001b[0m\u001b[1;32m     31\u001b[0m \u001b[0;34m\u001b[0m\u001b[0m\n\u001b[1;32m     32\u001b[0m             \u001b[0mloss\u001b[0m \u001b[0;34m=\u001b[0m \u001b[0mcriterion\u001b[0m\u001b[0;34m(\u001b[0m\u001b[0mlog_probs\u001b[0m\u001b[0;34m,\u001b[0m \u001b[0mbatch_labels\u001b[0m\u001b[0;34m[\u001b[0m\u001b[0;34m\"labels\"\u001b[0m\u001b[0;34m]\u001b[0m\u001b[0;34m.\u001b[0m\u001b[0mlong\u001b[0m\u001b[0;34m(\u001b[0m\u001b[0;34m)\u001b[0m\u001b[0;34m)\u001b[0m\u001b[0;34m\u001b[0m\u001b[0;34m\u001b[0m\u001b[0m\n",
            "\u001b[0;32m/usr/local/lib/python3.10/dist-packages/torch/nn/modules/module.py\u001b[0m in \u001b[0;36m_wrapped_call_impl\u001b[0;34m(self, *args, **kwargs)\u001b[0m\n\u001b[1;32m   1509\u001b[0m             \u001b[0;32mreturn\u001b[0m \u001b[0mself\u001b[0m\u001b[0;34m.\u001b[0m\u001b[0m_compiled_call_impl\u001b[0m\u001b[0;34m(\u001b[0m\u001b[0;34m*\u001b[0m\u001b[0margs\u001b[0m\u001b[0;34m,\u001b[0m \u001b[0;34m**\u001b[0m\u001b[0mkwargs\u001b[0m\u001b[0;34m)\u001b[0m  \u001b[0;31m# type: ignore[misc]\u001b[0m\u001b[0;34m\u001b[0m\u001b[0;34m\u001b[0m\u001b[0m\n\u001b[1;32m   1510\u001b[0m         \u001b[0;32melse\u001b[0m\u001b[0;34m:\u001b[0m\u001b[0;34m\u001b[0m\u001b[0;34m\u001b[0m\u001b[0m\n\u001b[0;32m-> 1511\u001b[0;31m             \u001b[0;32mreturn\u001b[0m \u001b[0mself\u001b[0m\u001b[0;34m.\u001b[0m\u001b[0m_call_impl\u001b[0m\u001b[0;34m(\u001b[0m\u001b[0;34m*\u001b[0m\u001b[0margs\u001b[0m\u001b[0;34m,\u001b[0m \u001b[0;34m**\u001b[0m\u001b[0mkwargs\u001b[0m\u001b[0;34m)\u001b[0m\u001b[0;34m\u001b[0m\u001b[0;34m\u001b[0m\u001b[0m\n\u001b[0m\u001b[1;32m   1512\u001b[0m \u001b[0;34m\u001b[0m\u001b[0m\n\u001b[1;32m   1513\u001b[0m     \u001b[0;32mdef\u001b[0m \u001b[0m_call_impl\u001b[0m\u001b[0;34m(\u001b[0m\u001b[0mself\u001b[0m\u001b[0;34m,\u001b[0m \u001b[0;34m*\u001b[0m\u001b[0margs\u001b[0m\u001b[0;34m,\u001b[0m \u001b[0;34m**\u001b[0m\u001b[0mkwargs\u001b[0m\u001b[0;34m)\u001b[0m\u001b[0;34m:\u001b[0m\u001b[0;34m\u001b[0m\u001b[0;34m\u001b[0m\u001b[0m\n",
            "\u001b[0;32m/usr/local/lib/python3.10/dist-packages/torch/nn/modules/module.py\u001b[0m in \u001b[0;36m_call_impl\u001b[0;34m(self, *args, **kwargs)\u001b[0m\n\u001b[1;32m   1518\u001b[0m                 \u001b[0;32mor\u001b[0m \u001b[0m_global_backward_pre_hooks\u001b[0m \u001b[0;32mor\u001b[0m \u001b[0m_global_backward_hooks\u001b[0m\u001b[0;34m\u001b[0m\u001b[0;34m\u001b[0m\u001b[0m\n\u001b[1;32m   1519\u001b[0m                 or _global_forward_hooks or _global_forward_pre_hooks):\n\u001b[0;32m-> 1520\u001b[0;31m             \u001b[0;32mreturn\u001b[0m \u001b[0mforward_call\u001b[0m\u001b[0;34m(\u001b[0m\u001b[0;34m*\u001b[0m\u001b[0margs\u001b[0m\u001b[0;34m,\u001b[0m \u001b[0;34m**\u001b[0m\u001b[0mkwargs\u001b[0m\u001b[0;34m)\u001b[0m\u001b[0;34m\u001b[0m\u001b[0;34m\u001b[0m\u001b[0m\n\u001b[0m\u001b[1;32m   1521\u001b[0m \u001b[0;34m\u001b[0m\u001b[0m\n\u001b[1;32m   1522\u001b[0m         \u001b[0;32mtry\u001b[0m\u001b[0;34m:\u001b[0m\u001b[0;34m\u001b[0m\u001b[0;34m\u001b[0m\u001b[0m\n",
            "\u001b[0;32m<ipython-input-14-6ca3bf9e093f>\u001b[0m in \u001b[0;36mforward\u001b[0;34m(self, batch)\u001b[0m\n\u001b[1;32m     33\u001b[0m         )\n\u001b[1;32m     34\u001b[0m \u001b[0;34m\u001b[0m\u001b[0m\n\u001b[0;32m---> 35\u001b[0;31m         bert_target_outputs = self.encoder(\n\u001b[0m\u001b[1;32m     36\u001b[0m             \u001b[0minput_ids\u001b[0m\u001b[0;34m=\u001b[0m\u001b[0minput_ids_target\u001b[0m\u001b[0;34m,\u001b[0m\u001b[0;34m\u001b[0m\u001b[0;34m\u001b[0m\u001b[0m\n\u001b[1;32m     37\u001b[0m             \u001b[0mattention_mask\u001b[0m\u001b[0;34m=\u001b[0m\u001b[0mattention_mask_target\u001b[0m\u001b[0;34m,\u001b[0m\u001b[0;34m\u001b[0m\u001b[0;34m\u001b[0m\u001b[0m\n",
            "\u001b[0;32m/usr/local/lib/python3.10/dist-packages/torch/nn/modules/module.py\u001b[0m in \u001b[0;36m_wrapped_call_impl\u001b[0;34m(self, *args, **kwargs)\u001b[0m\n\u001b[1;32m   1509\u001b[0m             \u001b[0;32mreturn\u001b[0m \u001b[0mself\u001b[0m\u001b[0;34m.\u001b[0m\u001b[0m_compiled_call_impl\u001b[0m\u001b[0;34m(\u001b[0m\u001b[0;34m*\u001b[0m\u001b[0margs\u001b[0m\u001b[0;34m,\u001b[0m \u001b[0;34m**\u001b[0m\u001b[0mkwargs\u001b[0m\u001b[0;34m)\u001b[0m  \u001b[0;31m# type: ignore[misc]\u001b[0m\u001b[0;34m\u001b[0m\u001b[0;34m\u001b[0m\u001b[0m\n\u001b[1;32m   1510\u001b[0m         \u001b[0;32melse\u001b[0m\u001b[0;34m:\u001b[0m\u001b[0;34m\u001b[0m\u001b[0;34m\u001b[0m\u001b[0m\n\u001b[0;32m-> 1511\u001b[0;31m             \u001b[0;32mreturn\u001b[0m \u001b[0mself\u001b[0m\u001b[0;34m.\u001b[0m\u001b[0m_call_impl\u001b[0m\u001b[0;34m(\u001b[0m\u001b[0;34m*\u001b[0m\u001b[0margs\u001b[0m\u001b[0;34m,\u001b[0m \u001b[0;34m**\u001b[0m\u001b[0mkwargs\u001b[0m\u001b[0;34m)\u001b[0m\u001b[0;34m\u001b[0m\u001b[0;34m\u001b[0m\u001b[0m\n\u001b[0m\u001b[1;32m   1512\u001b[0m \u001b[0;34m\u001b[0m\u001b[0m\n\u001b[1;32m   1513\u001b[0m     \u001b[0;32mdef\u001b[0m \u001b[0m_call_impl\u001b[0m\u001b[0;34m(\u001b[0m\u001b[0mself\u001b[0m\u001b[0;34m,\u001b[0m \u001b[0;34m*\u001b[0m\u001b[0margs\u001b[0m\u001b[0;34m,\u001b[0m \u001b[0;34m**\u001b[0m\u001b[0mkwargs\u001b[0m\u001b[0;34m)\u001b[0m\u001b[0;34m:\u001b[0m\u001b[0;34m\u001b[0m\u001b[0;34m\u001b[0m\u001b[0m\n",
            "\u001b[0;32m/usr/local/lib/python3.10/dist-packages/torch/nn/modules/module.py\u001b[0m in \u001b[0;36m_call_impl\u001b[0;34m(self, *args, **kwargs)\u001b[0m\n\u001b[1;32m   1518\u001b[0m                 \u001b[0;32mor\u001b[0m \u001b[0m_global_backward_pre_hooks\u001b[0m \u001b[0;32mor\u001b[0m \u001b[0m_global_backward_hooks\u001b[0m\u001b[0;34m\u001b[0m\u001b[0;34m\u001b[0m\u001b[0m\n\u001b[1;32m   1519\u001b[0m                 or _global_forward_hooks or _global_forward_pre_hooks):\n\u001b[0;32m-> 1520\u001b[0;31m             \u001b[0;32mreturn\u001b[0m \u001b[0mforward_call\u001b[0m\u001b[0;34m(\u001b[0m\u001b[0;34m*\u001b[0m\u001b[0margs\u001b[0m\u001b[0;34m,\u001b[0m \u001b[0;34m**\u001b[0m\u001b[0mkwargs\u001b[0m\u001b[0;34m)\u001b[0m\u001b[0;34m\u001b[0m\u001b[0;34m\u001b[0m\u001b[0m\n\u001b[0m\u001b[1;32m   1521\u001b[0m \u001b[0;34m\u001b[0m\u001b[0m\n\u001b[1;32m   1522\u001b[0m         \u001b[0;32mtry\u001b[0m\u001b[0;34m:\u001b[0m\u001b[0;34m\u001b[0m\u001b[0;34m\u001b[0m\u001b[0m\n",
            "\u001b[0;32m/usr/local/lib/python3.10/dist-packages/transformers/models/xlm_roberta/modeling_xlm_roberta.py\u001b[0m in \u001b[0;36mforward\u001b[0;34m(self, input_ids, attention_mask, token_type_ids, position_ids, head_mask, inputs_embeds, encoder_hidden_states, encoder_attention_mask, past_key_values, use_cache, output_attentions, output_hidden_states, return_dict)\u001b[0m\n\u001b[1;32m    835\u001b[0m             \u001b[0mpast_key_values_length\u001b[0m\u001b[0;34m=\u001b[0m\u001b[0mpast_key_values_length\u001b[0m\u001b[0;34m,\u001b[0m\u001b[0;34m\u001b[0m\u001b[0;34m\u001b[0m\u001b[0m\n\u001b[1;32m    836\u001b[0m         )\n\u001b[0;32m--> 837\u001b[0;31m         encoder_outputs = self.encoder(\n\u001b[0m\u001b[1;32m    838\u001b[0m             \u001b[0membedding_output\u001b[0m\u001b[0;34m,\u001b[0m\u001b[0;34m\u001b[0m\u001b[0;34m\u001b[0m\u001b[0m\n\u001b[1;32m    839\u001b[0m             \u001b[0mattention_mask\u001b[0m\u001b[0;34m=\u001b[0m\u001b[0mextended_attention_mask\u001b[0m\u001b[0;34m,\u001b[0m\u001b[0;34m\u001b[0m\u001b[0;34m\u001b[0m\u001b[0m\n",
            "\u001b[0;32m/usr/local/lib/python3.10/dist-packages/torch/nn/modules/module.py\u001b[0m in \u001b[0;36m_wrapped_call_impl\u001b[0;34m(self, *args, **kwargs)\u001b[0m\n\u001b[1;32m   1509\u001b[0m             \u001b[0;32mreturn\u001b[0m \u001b[0mself\u001b[0m\u001b[0;34m.\u001b[0m\u001b[0m_compiled_call_impl\u001b[0m\u001b[0;34m(\u001b[0m\u001b[0;34m*\u001b[0m\u001b[0margs\u001b[0m\u001b[0;34m,\u001b[0m \u001b[0;34m**\u001b[0m\u001b[0mkwargs\u001b[0m\u001b[0;34m)\u001b[0m  \u001b[0;31m# type: ignore[misc]\u001b[0m\u001b[0;34m\u001b[0m\u001b[0;34m\u001b[0m\u001b[0m\n\u001b[1;32m   1510\u001b[0m         \u001b[0;32melse\u001b[0m\u001b[0;34m:\u001b[0m\u001b[0;34m\u001b[0m\u001b[0;34m\u001b[0m\u001b[0m\n\u001b[0;32m-> 1511\u001b[0;31m             \u001b[0;32mreturn\u001b[0m \u001b[0mself\u001b[0m\u001b[0;34m.\u001b[0m\u001b[0m_call_impl\u001b[0m\u001b[0;34m(\u001b[0m\u001b[0;34m*\u001b[0m\u001b[0margs\u001b[0m\u001b[0;34m,\u001b[0m \u001b[0;34m**\u001b[0m\u001b[0mkwargs\u001b[0m\u001b[0;34m)\u001b[0m\u001b[0;34m\u001b[0m\u001b[0;34m\u001b[0m\u001b[0m\n\u001b[0m\u001b[1;32m   1512\u001b[0m \u001b[0;34m\u001b[0m\u001b[0m\n\u001b[1;32m   1513\u001b[0m     \u001b[0;32mdef\u001b[0m \u001b[0m_call_impl\u001b[0m\u001b[0;34m(\u001b[0m\u001b[0mself\u001b[0m\u001b[0;34m,\u001b[0m \u001b[0;34m*\u001b[0m\u001b[0margs\u001b[0m\u001b[0;34m,\u001b[0m \u001b[0;34m**\u001b[0m\u001b[0mkwargs\u001b[0m\u001b[0;34m)\u001b[0m\u001b[0;34m:\u001b[0m\u001b[0;34m\u001b[0m\u001b[0;34m\u001b[0m\u001b[0m\n",
            "\u001b[0;32m/usr/local/lib/python3.10/dist-packages/torch/nn/modules/module.py\u001b[0m in \u001b[0;36m_call_impl\u001b[0;34m(self, *args, **kwargs)\u001b[0m\n\u001b[1;32m   1518\u001b[0m                 \u001b[0;32mor\u001b[0m \u001b[0m_global_backward_pre_hooks\u001b[0m \u001b[0;32mor\u001b[0m \u001b[0m_global_backward_hooks\u001b[0m\u001b[0;34m\u001b[0m\u001b[0;34m\u001b[0m\u001b[0m\n\u001b[1;32m   1519\u001b[0m                 or _global_forward_hooks or _global_forward_pre_hooks):\n\u001b[0;32m-> 1520\u001b[0;31m             \u001b[0;32mreturn\u001b[0m \u001b[0mforward_call\u001b[0m\u001b[0;34m(\u001b[0m\u001b[0;34m*\u001b[0m\u001b[0margs\u001b[0m\u001b[0;34m,\u001b[0m \u001b[0;34m**\u001b[0m\u001b[0mkwargs\u001b[0m\u001b[0;34m)\u001b[0m\u001b[0;34m\u001b[0m\u001b[0;34m\u001b[0m\u001b[0m\n\u001b[0m\u001b[1;32m   1521\u001b[0m \u001b[0;34m\u001b[0m\u001b[0m\n\u001b[1;32m   1522\u001b[0m         \u001b[0;32mtry\u001b[0m\u001b[0;34m:\u001b[0m\u001b[0;34m\u001b[0m\u001b[0;34m\u001b[0m\u001b[0m\n",
            "\u001b[0;32m/usr/local/lib/python3.10/dist-packages/transformers/models/xlm_roberta/modeling_xlm_roberta.py\u001b[0m in \u001b[0;36mforward\u001b[0;34m(self, hidden_states, attention_mask, head_mask, encoder_hidden_states, encoder_attention_mask, past_key_values, use_cache, output_attentions, output_hidden_states, return_dict)\u001b[0m\n\u001b[1;32m    523\u001b[0m                 )\n\u001b[1;32m    524\u001b[0m             \u001b[0;32melse\u001b[0m\u001b[0;34m:\u001b[0m\u001b[0;34m\u001b[0m\u001b[0;34m\u001b[0m\u001b[0m\n\u001b[0;32m--> 525\u001b[0;31m                 layer_outputs = layer_module(\n\u001b[0m\u001b[1;32m    526\u001b[0m                     \u001b[0mhidden_states\u001b[0m\u001b[0;34m,\u001b[0m\u001b[0;34m\u001b[0m\u001b[0;34m\u001b[0m\u001b[0m\n\u001b[1;32m    527\u001b[0m                     \u001b[0mattention_mask\u001b[0m\u001b[0;34m,\u001b[0m\u001b[0;34m\u001b[0m\u001b[0;34m\u001b[0m\u001b[0m\n",
            "\u001b[0;32m/usr/local/lib/python3.10/dist-packages/torch/nn/modules/module.py\u001b[0m in \u001b[0;36m_wrapped_call_impl\u001b[0;34m(self, *args, **kwargs)\u001b[0m\n\u001b[1;32m   1509\u001b[0m             \u001b[0;32mreturn\u001b[0m \u001b[0mself\u001b[0m\u001b[0;34m.\u001b[0m\u001b[0m_compiled_call_impl\u001b[0m\u001b[0;34m(\u001b[0m\u001b[0;34m*\u001b[0m\u001b[0margs\u001b[0m\u001b[0;34m,\u001b[0m \u001b[0;34m**\u001b[0m\u001b[0mkwargs\u001b[0m\u001b[0;34m)\u001b[0m  \u001b[0;31m# type: ignore[misc]\u001b[0m\u001b[0;34m\u001b[0m\u001b[0;34m\u001b[0m\u001b[0m\n\u001b[1;32m   1510\u001b[0m         \u001b[0;32melse\u001b[0m\u001b[0;34m:\u001b[0m\u001b[0;34m\u001b[0m\u001b[0;34m\u001b[0m\u001b[0m\n\u001b[0;32m-> 1511\u001b[0;31m             \u001b[0;32mreturn\u001b[0m \u001b[0mself\u001b[0m\u001b[0;34m.\u001b[0m\u001b[0m_call_impl\u001b[0m\u001b[0;34m(\u001b[0m\u001b[0;34m*\u001b[0m\u001b[0margs\u001b[0m\u001b[0;34m,\u001b[0m \u001b[0;34m**\u001b[0m\u001b[0mkwargs\u001b[0m\u001b[0;34m)\u001b[0m\u001b[0;34m\u001b[0m\u001b[0;34m\u001b[0m\u001b[0m\n\u001b[0m\u001b[1;32m   1512\u001b[0m \u001b[0;34m\u001b[0m\u001b[0m\n\u001b[1;32m   1513\u001b[0m     \u001b[0;32mdef\u001b[0m \u001b[0m_call_impl\u001b[0m\u001b[0;34m(\u001b[0m\u001b[0mself\u001b[0m\u001b[0;34m,\u001b[0m \u001b[0;34m*\u001b[0m\u001b[0margs\u001b[0m\u001b[0;34m,\u001b[0m \u001b[0;34m**\u001b[0m\u001b[0mkwargs\u001b[0m\u001b[0;34m)\u001b[0m\u001b[0;34m:\u001b[0m\u001b[0;34m\u001b[0m\u001b[0;34m\u001b[0m\u001b[0m\n",
            "\u001b[0;32m/usr/local/lib/python3.10/dist-packages/torch/nn/modules/module.py\u001b[0m in \u001b[0;36m_call_impl\u001b[0;34m(self, *args, **kwargs)\u001b[0m\n\u001b[1;32m   1518\u001b[0m                 \u001b[0;32mor\u001b[0m \u001b[0m_global_backward_pre_hooks\u001b[0m \u001b[0;32mor\u001b[0m \u001b[0m_global_backward_hooks\u001b[0m\u001b[0;34m\u001b[0m\u001b[0;34m\u001b[0m\u001b[0m\n\u001b[1;32m   1519\u001b[0m                 or _global_forward_hooks or _global_forward_pre_hooks):\n\u001b[0;32m-> 1520\u001b[0;31m             \u001b[0;32mreturn\u001b[0m \u001b[0mforward_call\u001b[0m\u001b[0;34m(\u001b[0m\u001b[0;34m*\u001b[0m\u001b[0margs\u001b[0m\u001b[0;34m,\u001b[0m \u001b[0;34m**\u001b[0m\u001b[0mkwargs\u001b[0m\u001b[0;34m)\u001b[0m\u001b[0;34m\u001b[0m\u001b[0;34m\u001b[0m\u001b[0m\n\u001b[0m\u001b[1;32m   1521\u001b[0m \u001b[0;34m\u001b[0m\u001b[0m\n\u001b[1;32m   1522\u001b[0m         \u001b[0;32mtry\u001b[0m\u001b[0;34m:\u001b[0m\u001b[0;34m\u001b[0m\u001b[0;34m\u001b[0m\u001b[0m\n",
            "\u001b[0;32m/usr/local/lib/python3.10/dist-packages/transformers/models/xlm_roberta/modeling_xlm_roberta.py\u001b[0m in \u001b[0;36mforward\u001b[0;34m(self, hidden_states, attention_mask, head_mask, encoder_hidden_states, encoder_attention_mask, past_key_value, output_attentions)\u001b[0m\n\u001b[1;32m    412\u001b[0m         \u001b[0;31m# decoder uni-directional self-attention cached key/values tuple is at positions 1,2\u001b[0m\u001b[0;34m\u001b[0m\u001b[0;34m\u001b[0m\u001b[0m\n\u001b[1;32m    413\u001b[0m         \u001b[0mself_attn_past_key_value\u001b[0m \u001b[0;34m=\u001b[0m \u001b[0mpast_key_value\u001b[0m\u001b[0;34m[\u001b[0m\u001b[0;34m:\u001b[0m\u001b[0;36m2\u001b[0m\u001b[0;34m]\u001b[0m \u001b[0;32mif\u001b[0m \u001b[0mpast_key_value\u001b[0m \u001b[0;32mis\u001b[0m \u001b[0;32mnot\u001b[0m \u001b[0;32mNone\u001b[0m \u001b[0;32melse\u001b[0m \u001b[0;32mNone\u001b[0m\u001b[0;34m\u001b[0m\u001b[0;34m\u001b[0m\u001b[0m\n\u001b[0;32m--> 414\u001b[0;31m         self_attention_outputs = self.attention(\n\u001b[0m\u001b[1;32m    415\u001b[0m             \u001b[0mhidden_states\u001b[0m\u001b[0;34m,\u001b[0m\u001b[0;34m\u001b[0m\u001b[0;34m\u001b[0m\u001b[0m\n\u001b[1;32m    416\u001b[0m             \u001b[0mattention_mask\u001b[0m\u001b[0;34m,\u001b[0m\u001b[0;34m\u001b[0m\u001b[0;34m\u001b[0m\u001b[0m\n",
            "\u001b[0;32m/usr/local/lib/python3.10/dist-packages/torch/nn/modules/module.py\u001b[0m in \u001b[0;36m_wrapped_call_impl\u001b[0;34m(self, *args, **kwargs)\u001b[0m\n\u001b[1;32m   1509\u001b[0m             \u001b[0;32mreturn\u001b[0m \u001b[0mself\u001b[0m\u001b[0;34m.\u001b[0m\u001b[0m_compiled_call_impl\u001b[0m\u001b[0;34m(\u001b[0m\u001b[0;34m*\u001b[0m\u001b[0margs\u001b[0m\u001b[0;34m,\u001b[0m \u001b[0;34m**\u001b[0m\u001b[0mkwargs\u001b[0m\u001b[0;34m)\u001b[0m  \u001b[0;31m# type: ignore[misc]\u001b[0m\u001b[0;34m\u001b[0m\u001b[0;34m\u001b[0m\u001b[0m\n\u001b[1;32m   1510\u001b[0m         \u001b[0;32melse\u001b[0m\u001b[0;34m:\u001b[0m\u001b[0;34m\u001b[0m\u001b[0;34m\u001b[0m\u001b[0m\n\u001b[0;32m-> 1511\u001b[0;31m             \u001b[0;32mreturn\u001b[0m \u001b[0mself\u001b[0m\u001b[0;34m.\u001b[0m\u001b[0m_call_impl\u001b[0m\u001b[0;34m(\u001b[0m\u001b[0;34m*\u001b[0m\u001b[0margs\u001b[0m\u001b[0;34m,\u001b[0m \u001b[0;34m**\u001b[0m\u001b[0mkwargs\u001b[0m\u001b[0;34m)\u001b[0m\u001b[0;34m\u001b[0m\u001b[0;34m\u001b[0m\u001b[0m\n\u001b[0m\u001b[1;32m   1512\u001b[0m \u001b[0;34m\u001b[0m\u001b[0m\n\u001b[1;32m   1513\u001b[0m     \u001b[0;32mdef\u001b[0m \u001b[0m_call_impl\u001b[0m\u001b[0;34m(\u001b[0m\u001b[0mself\u001b[0m\u001b[0;34m,\u001b[0m \u001b[0;34m*\u001b[0m\u001b[0margs\u001b[0m\u001b[0;34m,\u001b[0m \u001b[0;34m**\u001b[0m\u001b[0mkwargs\u001b[0m\u001b[0;34m)\u001b[0m\u001b[0;34m:\u001b[0m\u001b[0;34m\u001b[0m\u001b[0;34m\u001b[0m\u001b[0m\n",
            "\u001b[0;32m/usr/local/lib/python3.10/dist-packages/torch/nn/modules/module.py\u001b[0m in \u001b[0;36m_call_impl\u001b[0;34m(self, *args, **kwargs)\u001b[0m\n\u001b[1;32m   1518\u001b[0m                 \u001b[0;32mor\u001b[0m \u001b[0m_global_backward_pre_hooks\u001b[0m \u001b[0;32mor\u001b[0m \u001b[0m_global_backward_hooks\u001b[0m\u001b[0;34m\u001b[0m\u001b[0;34m\u001b[0m\u001b[0m\n\u001b[1;32m   1519\u001b[0m                 or _global_forward_hooks or _global_forward_pre_hooks):\n\u001b[0;32m-> 1520\u001b[0;31m             \u001b[0;32mreturn\u001b[0m \u001b[0mforward_call\u001b[0m\u001b[0;34m(\u001b[0m\u001b[0;34m*\u001b[0m\u001b[0margs\u001b[0m\u001b[0;34m,\u001b[0m \u001b[0;34m**\u001b[0m\u001b[0mkwargs\u001b[0m\u001b[0;34m)\u001b[0m\u001b[0;34m\u001b[0m\u001b[0;34m\u001b[0m\u001b[0m\n\u001b[0m\u001b[1;32m   1521\u001b[0m \u001b[0;34m\u001b[0m\u001b[0m\n\u001b[1;32m   1522\u001b[0m         \u001b[0;32mtry\u001b[0m\u001b[0;34m:\u001b[0m\u001b[0;34m\u001b[0m\u001b[0;34m\u001b[0m\u001b[0m\n",
            "\u001b[0;32m/usr/local/lib/python3.10/dist-packages/transformers/models/xlm_roberta/modeling_xlm_roberta.py\u001b[0m in \u001b[0;36mforward\u001b[0;34m(self, hidden_states, attention_mask, head_mask, encoder_hidden_states, encoder_attention_mask, past_key_value, output_attentions)\u001b[0m\n\u001b[1;32m    339\u001b[0m         \u001b[0moutput_attentions\u001b[0m\u001b[0;34m:\u001b[0m \u001b[0mOptional\u001b[0m\u001b[0;34m[\u001b[0m\u001b[0mbool\u001b[0m\u001b[0;34m]\u001b[0m \u001b[0;34m=\u001b[0m \u001b[0;32mFalse\u001b[0m\u001b[0;34m,\u001b[0m\u001b[0;34m\u001b[0m\u001b[0;34m\u001b[0m\u001b[0m\n\u001b[1;32m    340\u001b[0m     ) -> Tuple[torch.Tensor]:\n\u001b[0;32m--> 341\u001b[0;31m         self_outputs = self.self(\n\u001b[0m\u001b[1;32m    342\u001b[0m             \u001b[0mhidden_states\u001b[0m\u001b[0;34m,\u001b[0m\u001b[0;34m\u001b[0m\u001b[0;34m\u001b[0m\u001b[0m\n\u001b[1;32m    343\u001b[0m             \u001b[0mattention_mask\u001b[0m\u001b[0;34m,\u001b[0m\u001b[0;34m\u001b[0m\u001b[0;34m\u001b[0m\u001b[0m\n",
            "\u001b[0;32m/usr/local/lib/python3.10/dist-packages/torch/nn/modules/module.py\u001b[0m in \u001b[0;36m_wrapped_call_impl\u001b[0;34m(self, *args, **kwargs)\u001b[0m\n\u001b[1;32m   1509\u001b[0m             \u001b[0;32mreturn\u001b[0m \u001b[0mself\u001b[0m\u001b[0;34m.\u001b[0m\u001b[0m_compiled_call_impl\u001b[0m\u001b[0;34m(\u001b[0m\u001b[0;34m*\u001b[0m\u001b[0margs\u001b[0m\u001b[0;34m,\u001b[0m \u001b[0;34m**\u001b[0m\u001b[0mkwargs\u001b[0m\u001b[0;34m)\u001b[0m  \u001b[0;31m# type: ignore[misc]\u001b[0m\u001b[0;34m\u001b[0m\u001b[0;34m\u001b[0m\u001b[0m\n\u001b[1;32m   1510\u001b[0m         \u001b[0;32melse\u001b[0m\u001b[0;34m:\u001b[0m\u001b[0;34m\u001b[0m\u001b[0;34m\u001b[0m\u001b[0m\n\u001b[0;32m-> 1511\u001b[0;31m             \u001b[0;32mreturn\u001b[0m \u001b[0mself\u001b[0m\u001b[0;34m.\u001b[0m\u001b[0m_call_impl\u001b[0m\u001b[0;34m(\u001b[0m\u001b[0;34m*\u001b[0m\u001b[0margs\u001b[0m\u001b[0;34m,\u001b[0m \u001b[0;34m**\u001b[0m\u001b[0mkwargs\u001b[0m\u001b[0;34m)\u001b[0m\u001b[0;34m\u001b[0m\u001b[0;34m\u001b[0m\u001b[0m\n\u001b[0m\u001b[1;32m   1512\u001b[0m \u001b[0;34m\u001b[0m\u001b[0m\n\u001b[1;32m   1513\u001b[0m     \u001b[0;32mdef\u001b[0m \u001b[0m_call_impl\u001b[0m\u001b[0;34m(\u001b[0m\u001b[0mself\u001b[0m\u001b[0;34m,\u001b[0m \u001b[0;34m*\u001b[0m\u001b[0margs\u001b[0m\u001b[0;34m,\u001b[0m \u001b[0;34m**\u001b[0m\u001b[0mkwargs\u001b[0m\u001b[0;34m)\u001b[0m\u001b[0;34m:\u001b[0m\u001b[0;34m\u001b[0m\u001b[0;34m\u001b[0m\u001b[0m\n",
            "\u001b[0;32m/usr/local/lib/python3.10/dist-packages/torch/nn/modules/module.py\u001b[0m in \u001b[0;36m_call_impl\u001b[0;34m(self, *args, **kwargs)\u001b[0m\n\u001b[1;32m   1518\u001b[0m                 \u001b[0;32mor\u001b[0m \u001b[0m_global_backward_pre_hooks\u001b[0m \u001b[0;32mor\u001b[0m \u001b[0m_global_backward_hooks\u001b[0m\u001b[0;34m\u001b[0m\u001b[0;34m\u001b[0m\u001b[0m\n\u001b[1;32m   1519\u001b[0m                 or _global_forward_hooks or _global_forward_pre_hooks):\n\u001b[0;32m-> 1520\u001b[0;31m             \u001b[0;32mreturn\u001b[0m \u001b[0mforward_call\u001b[0m\u001b[0;34m(\u001b[0m\u001b[0;34m*\u001b[0m\u001b[0margs\u001b[0m\u001b[0;34m,\u001b[0m \u001b[0;34m**\u001b[0m\u001b[0mkwargs\u001b[0m\u001b[0;34m)\u001b[0m\u001b[0;34m\u001b[0m\u001b[0;34m\u001b[0m\u001b[0m\n\u001b[0m\u001b[1;32m   1521\u001b[0m \u001b[0;34m\u001b[0m\u001b[0m\n\u001b[1;32m   1522\u001b[0m         \u001b[0;32mtry\u001b[0m\u001b[0;34m:\u001b[0m\u001b[0;34m\u001b[0m\u001b[0;34m\u001b[0m\u001b[0m\n",
            "\u001b[0;32m/usr/local/lib/python3.10/dist-packages/transformers/models/xlm_roberta/modeling_xlm_roberta.py\u001b[0m in \u001b[0;36mforward\u001b[0;34m(self, hidden_states, attention_mask, head_mask, encoder_hidden_states, encoder_attention_mask, past_key_value, output_attentions)\u001b[0m\n\u001b[1;32m    275\u001b[0m             \u001b[0mattention_probs\u001b[0m \u001b[0;34m=\u001b[0m \u001b[0mattention_probs\u001b[0m \u001b[0;34m*\u001b[0m \u001b[0mhead_mask\u001b[0m\u001b[0;34m\u001b[0m\u001b[0;34m\u001b[0m\u001b[0m\n\u001b[1;32m    276\u001b[0m \u001b[0;34m\u001b[0m\u001b[0m\n\u001b[0;32m--> 277\u001b[0;31m         \u001b[0mcontext_layer\u001b[0m \u001b[0;34m=\u001b[0m \u001b[0mtorch\u001b[0m\u001b[0;34m.\u001b[0m\u001b[0mmatmul\u001b[0m\u001b[0;34m(\u001b[0m\u001b[0mattention_probs\u001b[0m\u001b[0;34m,\u001b[0m \u001b[0mvalue_layer\u001b[0m\u001b[0;34m)\u001b[0m\u001b[0;34m\u001b[0m\u001b[0;34m\u001b[0m\u001b[0m\n\u001b[0m\u001b[1;32m    278\u001b[0m \u001b[0;34m\u001b[0m\u001b[0m\n\u001b[1;32m    279\u001b[0m         \u001b[0mcontext_layer\u001b[0m \u001b[0;34m=\u001b[0m \u001b[0mcontext_layer\u001b[0m\u001b[0;34m.\u001b[0m\u001b[0mpermute\u001b[0m\u001b[0;34m(\u001b[0m\u001b[0;36m0\u001b[0m\u001b[0;34m,\u001b[0m \u001b[0;36m2\u001b[0m\u001b[0;34m,\u001b[0m \u001b[0;36m1\u001b[0m\u001b[0;34m,\u001b[0m \u001b[0;36m3\u001b[0m\u001b[0;34m)\u001b[0m\u001b[0;34m.\u001b[0m\u001b[0mcontiguous\u001b[0m\u001b[0;34m(\u001b[0m\u001b[0;34m)\u001b[0m\u001b[0;34m\u001b[0m\u001b[0;34m\u001b[0m\u001b[0m\n",
            "\u001b[0;31mOutOfMemoryError\u001b[0m: CUDA out of memory. Tried to allocate 22.00 MiB. GPU 0 has a total capacity of 14.75 GiB of which 11.06 MiB is free. Process 39132 has 14.73 GiB memory in use. Of the allocated memory 13.57 GiB is allocated by PyTorch, and 1.03 GiB is reserved by PyTorch but unallocated. If reserved but unallocated memory is large try setting PYTORCH_CUDA_ALLOC_CONF=expandable_segments:True to avoid fragmentation.  See documentation for Memory Management  (https://pytorch.org/docs/stable/notes/cuda.html#environment-variables)"
          ]
        }
      ]
    },
    {
      "cell_type": "code",
      "source": [
        "# max_prob_index = torch.argmax(y)\n",
        "# predicted_class = list_of_classes[max_prob_index]\n",
        "# print( predicted_class)"
      ],
      "metadata": {
        "id": "Ccc3PzvUgHJZ"
      },
      "execution_count": null,
      "outputs": []
    }
  ]
}